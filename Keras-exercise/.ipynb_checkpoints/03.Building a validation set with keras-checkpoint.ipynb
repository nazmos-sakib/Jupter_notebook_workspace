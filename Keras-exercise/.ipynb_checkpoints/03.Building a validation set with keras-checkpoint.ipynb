{
 "cells": [
  {
   "cell_type": "code",
   "execution_count": 12,
   "metadata": {},
   "outputs": [],
   "source": [
    "import keras\n",
    "from keras import backend as k\n",
    "from keras.models import Sequential\n",
    "from keras.layers import Activation\n",
    "from keras.layers.core import Dense\n",
    "from keras.optimizers import Adam\n",
    "from keras.metrics import categorical_crossentropy\n",
    "import numpy as np\n",
    "from random import randint\n",
    "from sklearn.preprocessing import MinMaxScaler"
   ]
  },
  {
   "cell_type": "code",
   "execution_count": 14,
   "metadata": {},
   "outputs": [
    {
     "name": "stderr",
     "output_type": "stream",
     "text": [
      "/home/sakib/.local/lib/python3.6/site-packages/sklearn/utils/validation.py:595: DataConversionWarning: Data with input dtype int64 was converted to float64 by MinMaxScaler.\n",
      "  warnings.warn(msg, DataConversionWarning)\n"
     ]
    }
   ],
   "source": [
    "train_labels = []\n",
    "train_samples = []\n",
    "\n",
    "for i in range(1000):\n",
    "    random_younger = randint(13,64)\n",
    "    train_samples.append(random_younger)\n",
    "    train_labels.append(0)\n",
    "    \n",
    "    random_order = randint(65,100)\n",
    "    train_samples.append(random_order)\n",
    "    train_labels.append(1)\n",
    "    \n",
    "for i in range(50):\n",
    "    random_younger = randint(13,64)\n",
    "    train_samples.append(random_younger)\n",
    "    train_labels.append(1)\n",
    "    \n",
    "    random_order = randint(65,100)\n",
    "    train_samples.append(random_order)\n",
    "    train_labels.append(0)\n",
    "    \n",
    "    \n",
    "train_labels = np.array(train_labels)\n",
    "train_samples = np.array(train_samples)\n",
    "\n",
    "scaler = MinMaxScaler(feature_range=(0,1))\n",
    "\n",
    "scaler_train_samples = scaler.fit_transform((train_samples).reshape(-1,1))"
   ]
  },
  {
   "cell_type": "code",
   "execution_count": null,
   "metadata": {},
   "outputs": [],
   "source": []
  },
  {
   "cell_type": "code",
   "execution_count": null,
   "metadata": {},
   "outputs": [],
   "source": []
  },
  {
   "cell_type": "code",
   "execution_count": 3,
   "metadata": {},
   "outputs": [],
   "source": [
    "model = Sequential([\n",
    "    Dense(16,input_shape=(1,),activation=\"relu\"),\n",
    "    Dense(32,activation=\"relu\"),\n",
    "    Dense(2,activation=\"softmax\")\n",
    "    \n",
    "])"
   ]
  },
  {
   "cell_type": "code",
   "execution_count": 4,
   "metadata": {},
   "outputs": [
    {
     "name": "stdout",
     "output_type": "stream",
     "text": [
      "_________________________________________________________________\n",
      "Layer (type)                 Output Shape              Param #   \n",
      "=================================================================\n",
      "dense_1 (Dense)              (None, 16)                32        \n",
      "_________________________________________________________________\n",
      "dense_2 (Dense)              (None, 32)                544       \n",
      "_________________________________________________________________\n",
      "dense_3 (Dense)              (None, 2)                 66        \n",
      "=================================================================\n",
      "Total params: 642\n",
      "Trainable params: 642\n",
      "Non-trainable params: 0\n",
      "_________________________________________________________________\n"
     ]
    }
   ],
   "source": [
    "model.summary()"
   ]
  },
  {
   "cell_type": "code",
   "execution_count": 7,
   "metadata": {},
   "outputs": [],
   "source": [
    "model.compile(\n",
    "    Adam(lr=.0001),loss='sparse_categorical_crossentropy',metrics=['accuracy']\n",
    ")"
   ]
  },
  {
   "cell_type": "code",
   "execution_count": null,
   "metadata": {},
   "outputs": [],
   "source": []
  },
  {
   "cell_type": "code",
   "execution_count": 15,
   "metadata": {},
   "outputs": [
    {
     "name": "stdout",
     "output_type": "stream",
     "text": [
      "Epoch 1/20\n",
      " - 1s - loss: 0.6272 - acc: 0.5648\n",
      "Epoch 2/20\n",
      " - 0s - loss: 0.5975 - acc: 0.6671\n",
      "Epoch 3/20\n",
      " - 0s - loss: 0.5675 - acc: 0.7224\n",
      "Epoch 4/20\n",
      " - 0s - loss: 0.5375 - acc: 0.7629\n",
      "Epoch 5/20\n",
      " - 0s - loss: 0.5070 - acc: 0.7971\n",
      "Epoch 6/20\n",
      " - 0s - loss: 0.4763 - acc: 0.8333\n",
      "Epoch 7/20\n",
      " - 0s - loss: 0.4468 - acc: 0.8548\n",
      "Epoch 8/20\n",
      " - 0s - loss: 0.4191 - acc: 0.8652\n",
      "Epoch 9/20\n",
      " - 0s - loss: 0.3944 - acc: 0.8771\n",
      "Epoch 10/20\n",
      " - 0s - loss: 0.3728 - acc: 0.8876\n",
      "Epoch 11/20\n",
      " - 0s - loss: 0.3547 - acc: 0.8976\n",
      "Epoch 12/20\n",
      " - 0s - loss: 0.3397 - acc: 0.9052\n",
      "Epoch 13/20\n",
      " - 0s - loss: 0.3273 - acc: 0.9029\n",
      "Epoch 14/20\n",
      " - 0s - loss: 0.3174 - acc: 0.9133\n",
      "Epoch 15/20\n",
      " - 0s - loss: 0.3090 - acc: 0.9176\n",
      "Epoch 16/20\n",
      " - 0s - loss: 0.3025 - acc: 0.9219\n",
      "Epoch 17/20\n",
      " - 0s - loss: 0.2969 - acc: 0.9210\n",
      "Epoch 18/20\n",
      " - 0s - loss: 0.2922 - acc: 0.9267\n",
      "Epoch 19/20\n",
      " - 0s - loss: 0.2885 - acc: 0.9262\n",
      "Epoch 20/20\n",
      " - 0s - loss: 0.2854 - acc: 0.9281\n"
     ]
    },
    {
     "data": {
      "text/plain": [
       "<keras.callbacks.History at 0x7fb61e4671d0>"
      ]
     },
     "execution_count": 15,
     "metadata": {},
     "output_type": "execute_result"
    }
   ],
   "source": [
    "model.fit(scaler_train_samples,train_labels,batch_size=10,epochs=20,shuffle=True,verbose=2)"
   ]
  },
  {
   "cell_type": "code",
   "execution_count": 16,
   "metadata": {},
   "outputs": [
    {
     "name": "stdout",
     "output_type": "stream",
     "text": [
      "Epoch 1/20\n",
      " - 0s - loss: 0.2823 - acc: 0.9286\n",
      "Epoch 2/20\n",
      " - 0s - loss: 0.2799 - acc: 0.9300\n",
      "Epoch 3/20\n",
      " - 0s - loss: 0.2778 - acc: 0.9286\n",
      "Epoch 4/20\n",
      " - 0s - loss: 0.2761 - acc: 0.9314\n",
      "Epoch 5/20\n",
      " - 0s - loss: 0.2746 - acc: 0.9300\n",
      "Epoch 6/20\n",
      " - 0s - loss: 0.2732 - acc: 0.9300\n",
      "Epoch 7/20\n",
      " - 0s - loss: 0.2721 - acc: 0.9300\n",
      "Epoch 8/20\n",
      " - 0s - loss: 0.2710 - acc: 0.9333\n",
      "Epoch 9/20\n",
      " - 0s - loss: 0.2699 - acc: 0.9324\n",
      "Epoch 10/20\n",
      " - 0s - loss: 0.2689 - acc: 0.9338\n",
      "Epoch 11/20\n",
      " - 0s - loss: 0.2680 - acc: 0.9338\n",
      "Epoch 12/20\n",
      " - 0s - loss: 0.2671 - acc: 0.9338\n",
      "Epoch 13/20\n",
      " - 0s - loss: 0.2664 - acc: 0.9333\n",
      "Epoch 14/20\n",
      " - 0s - loss: 0.2657 - acc: 0.9338\n",
      "Epoch 15/20\n",
      " - 0s - loss: 0.2650 - acc: 0.9338\n",
      "Epoch 16/20\n",
      " - 0s - loss: 0.2641 - acc: 0.9338\n",
      "Epoch 17/20\n",
      " - 0s - loss: 0.2635 - acc: 0.9338\n",
      "Epoch 18/20\n",
      " - 0s - loss: 0.2629 - acc: 0.9348\n",
      "Epoch 19/20\n",
      " - 0s - loss: 0.2625 - acc: 0.9348\n",
      "Epoch 20/20\n",
      " - 0s - loss: 0.2620 - acc: 0.9338\n"
     ]
    },
    {
     "data": {
      "text/plain": [
       "<keras.callbacks.History at 0x7fb61e440eb8>"
      ]
     },
     "execution_count": 16,
     "metadata": {},
     "output_type": "execute_result"
    }
   ],
   "source": [
    "model.fit(scaler_train_samples,train_labels,batch_size=10,epochs=20,shuffle=True,verbose=2)"
   ]
  },
  {
   "cell_type": "code",
   "execution_count": 17,
   "metadata": {},
   "outputs": [
    {
     "name": "stdout",
     "output_type": "stream",
     "text": [
      "Epoch 1/20\n",
      " - 1s - loss: 0.6794 - acc: 0.5700\n",
      "Epoch 2/20\n",
      " - 0s - loss: 0.6408 - acc: 0.7357\n",
      "Epoch 3/20\n",
      " - 0s - loss: 0.6015 - acc: 0.7557\n",
      "Epoch 4/20\n",
      " - 0s - loss: 0.5606 - acc: 0.7919\n",
      "Epoch 5/20\n",
      " - 0s - loss: 0.5226 - acc: 0.8229\n",
      "Epoch 6/20\n",
      " - 0s - loss: 0.4864 - acc: 0.8433\n",
      "Epoch 7/20\n",
      " - 0s - loss: 0.4525 - acc: 0.8586\n",
      "Epoch 8/20\n",
      " - 0s - loss: 0.4221 - acc: 0.8714\n",
      "Epoch 9/20\n",
      " - 0s - loss: 0.3955 - acc: 0.8790\n",
      "Epoch 10/20\n",
      " - 0s - loss: 0.3729 - acc: 0.8905\n",
      "Epoch 11/20\n",
      " - 0s - loss: 0.3539 - acc: 0.8962\n",
      "Epoch 12/20\n",
      " - 0s - loss: 0.3382 - acc: 0.9024\n",
      "Epoch 13/20\n",
      " - 0s - loss: 0.3256 - acc: 0.9067\n",
      "Epoch 14/20\n",
      " - 0s - loss: 0.3152 - acc: 0.9095\n",
      "Epoch 15/20\n",
      " - 0s - loss: 0.3068 - acc: 0.9162\n",
      "Epoch 16/20\n",
      " - 0s - loss: 0.2998 - acc: 0.9181\n",
      "Epoch 17/20\n",
      " - 0s - loss: 0.2942 - acc: 0.9243\n",
      "Epoch 18/20\n",
      " - 0s - loss: 0.2895 - acc: 0.9233\n",
      "Epoch 19/20\n",
      " - 0s - loss: 0.2856 - acc: 0.9257\n",
      "Epoch 20/20\n",
      " - 0s - loss: 0.2824 - acc: 0.9290\n"
     ]
    },
    {
     "data": {
      "text/plain": [
       "<keras.callbacks.History at 0x7fb61c597f60>"
      ]
     },
     "execution_count": 17,
     "metadata": {},
     "output_type": "execute_result"
    }
   ],
   "source": [
    "model = Sequential([\n",
    "    Dense(16,input_shape=(1,),activation=\"relu\"),\n",
    "    Dense(32,activation=\"relu\"),\n",
    "    Dense(2,activation=\"softmax\")\n",
    "    \n",
    "])\n",
    "\n",
    "model.compile(\n",
    "    Adam(lr=.0001),loss='sparse_categorical_crossentropy',metrics=['accuracy']\n",
    ")\n",
    "\n",
    "model.fit(scaler_train_samples,train_labels,batch_size=10,epochs=20,shuffle=True,verbose=2)"
   ]
  },
  {
   "cell_type": "code",
   "execution_count": null,
   "metadata": {},
   "outputs": [],
   "source": []
  }
 ],
 "metadata": {
  "kernelspec": {
   "display_name": "Python 3",
   "language": "python",
   "name": "python3"
  },
  "language_info": {
   "codemirror_mode": {
    "name": "ipython",
    "version": 3
   },
   "file_extension": ".py",
   "mimetype": "text/x-python",
   "name": "python",
   "nbconvert_exporter": "python",
   "pygments_lexer": "ipython3",
   "version": "3.6.8"
  }
 },
 "nbformat": 4,
 "nbformat_minor": 2
}
