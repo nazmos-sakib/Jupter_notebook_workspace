{
 "cells": [
  {
   "cell_type": "code",
   "execution_count": 1,
   "metadata": {},
   "outputs": [],
   "source": [
    "#import all necessary liberty\n",
    "\n",
    "%matplotlib inline\n",
    "#import matplotlib.pyplot as plt\n",
    "from matplotlib import pyplot as plt\n",
    "import tensorflow as tf\n",
    "import numpy as np\n",
    "from sklearn.metrics import confusion_matrix\n",
    "\n",
    "import pandas as pd\n",
    "\n",
    "#missing value handle\n",
    "from sklearn.preprocessing import Imputer\n"
   ]
  },
  {
   "cell_type": "code",
   "execution_count": 2,
   "metadata": {},
   "outputs": [
    {
     "data": {
      "text/plain": [
       "(302, 14)"
      ]
     },
     "execution_count": 2,
     "metadata": {},
     "output_type": "execute_result"
    }
   ],
   "source": [
    "#import csv data_set\n",
    "\n",
    "data_frame = pd.read_csv('./cleavland_data_weka.csv')\n",
    "\n",
    "d=data_frame\n",
    "\n",
    "data_frame.shape"
   ]
  },
  {
   "cell_type": "markdown",
   "metadata": {},
   "source": [
    "# Data preprocessing"
   ]
  },
  {
   "cell_type": "code",
   "execution_count": 3,
   "metadata": {},
   "outputs": [
    {
     "name": "stdout",
     "output_type": "stream",
     "text": [
      "False\n"
     ]
    }
   ],
   "source": [
    "print (data_frame.isnull().values.any())"
   ]
  },
  {
   "cell_type": "code",
   "execution_count": 4,
   "metadata": {},
   "outputs": [
    {
     "name": "stdout",
     "output_type": "stream",
     "text": [
      "False\n"
     ]
    }
   ],
   "source": [
    "# check if any data is messing(is NULL)\n",
    "\n",
    "data_frame.isnull()\n",
    "\n",
    "print (data_frame.isnull().values.any())"
   ]
  },
  {
   "cell_type": "code",
   "execution_count": 5,
   "metadata": {},
   "outputs": [
    {
     "name": "stderr",
     "output_type": "stream",
     "text": [
      "/home/sakib/anaconda3/lib/python3.6/site-packages/ipykernel_launcher.py:5: SettingWithCopyWarning: \n",
      "A value is trying to be set on a copy of a slice from a DataFrame\n",
      "\n",
      "See the caveats in the documentation: http://pandas.pydata.org/pandas-docs/stable/indexing.html#indexing-view-versus-copy\n",
      "  \"\"\"\n"
     ]
    }
   ],
   "source": [
    "#Replace messing value with NONE\n",
    "for i in range(len(data_frame)):\n",
    "    for key in data_frame:\n",
    "        if data_frame[key][i] == '?' :\n",
    "            data_frame[key][i] = None"
   ]
  },
  {
   "cell_type": "code",
   "execution_count": 6,
   "metadata": {},
   "outputs": [],
   "source": [
    "#Mapping the \"output\" values\n",
    "map_output = {\"yes\" : 1, \"no\" : 0,None:-20}\n",
    "\n",
    "#\tSetting\tthe\tmap\tto\tthe\tdata_frame \n",
    "data_frame['output/class']\t=\tdata_frame['output/class'].map(map_output)\n",
    "\n",
    "#data_frame['output/class']"
   ]
  },
  {
   "cell_type": "code",
   "execution_count": 7,
   "metadata": {},
   "outputs": [],
   "source": [
    "#Mapping \"gender\" feature\n",
    "map_output = {\"male\" : 1, \"female\" : 2,None:-20}\n",
    "\n",
    "#\tSetting\tthe\tmap\tto\tthe\tdata_frame \n",
    "data_frame['sex']\t=\tdata_frame['sex'].map(map_output)\n",
    "\n",
    "#data_frame['sex']"
   ]
  },
  {
   "cell_type": "code",
   "execution_count": 8,
   "metadata": {},
   "outputs": [],
   "source": [
    "#Mapping \"CP\" feature\n",
    "map_output = {\"non-anginal pain\" : 1, \"atypical angina\" : 2,\"typical angina\" : 3,None:-20}\n",
    "\n",
    "#\tSetting\tthe\tmap\tto\tthe\tdata_frame \n",
    "data_frame['cp']\t=\tdata_frame['cp'].map(map_output)\n",
    "\n",
    "#data_frame['cp']"
   ]
  },
  {
   "cell_type": "code",
   "execution_count": 9,
   "metadata": {},
   "outputs": [],
   "source": [
    "#Mapping the \"fbs\" values\n",
    "map_output = {True : 1, False : 0,None:-20}\n",
    "\n",
    "#\tSetting\tthe\tmap\tto\tthe\tdata_frame \n",
    "data_frame['fbs']\t=\tdata_frame['fbs'].map(map_output)\n",
    "\n",
    "#data_frame['fbs']"
   ]
  },
  {
   "cell_type": "code",
   "execution_count": 10,
   "metadata": {},
   "outputs": [],
   "source": [
    "#Mapping the \"restecg\" values\n",
    "map_output = {\"hypertrophy\" : 1, \"normal\" : 2,\"ST-T wave\":3,None:-20}\n",
    "\n",
    "#\tSetting\tthe\tmap\tto\tthe\tdata_frame \n",
    "data_frame['restecg']\t=\tdata_frame['restecg'].map(map_output)\n",
    "\n",
    "#data_frame['restecg']"
   ]
  },
  {
   "cell_type": "code",
   "execution_count": 11,
   "metadata": {},
   "outputs": [],
   "source": [
    "#Mapping the \"exang\" values\n",
    "map_output = {\"yes\" : 1, \"no\" : 0,None:-20}\n",
    "\n",
    "#\tSetting\tthe\tmap\tto\tthe\tdata_frame \n",
    "data_frame['exang']\t=\tdata_frame['exang'].map(map_output)\n",
    "\n",
    "#data_frame['exang']"
   ]
  },
  {
   "cell_type": "code",
   "execution_count": 12,
   "metadata": {},
   "outputs": [],
   "source": [
    "#Mapping the \"slope\" values\n",
    "map_output = {\"flat \" : 1, \"downsloping \" : 2,\"upsloping \":3,None:-20}\n",
    "\n",
    "#\tSetting\tthe\tmap\tto\tthe\tdata_frame \n",
    "data_frame['slope']\t=\tdata_frame['slope'].map(map_output)\n",
    "\n",
    "#data_frame['slope']"
   ]
  },
  {
   "cell_type": "code",
   "execution_count": 13,
   "metadata": {},
   "outputs": [],
   "source": [
    "def asd(x):\n",
    "    if(x==None):\n",
    "        return -20\n",
    "    else:\n",
    "        return x"
   ]
  },
  {
   "cell_type": "code",
   "execution_count": 14,
   "metadata": {},
   "outputs": [],
   "source": [
    "data_frame['ca']\t=\tdata_frame['ca'].apply(asd)"
   ]
  },
  {
   "cell_type": "code",
   "execution_count": null,
   "metadata": {},
   "outputs": [],
   "source": []
  },
  {
   "cell_type": "code",
   "execution_count": 15,
   "metadata": {},
   "outputs": [],
   "source": [
    "#Mapping the \"thal\" values\n",
    "map_output = {\"normal\" : 1, \"reversable \" : 2,\"fixed\":3,None:-20}\n",
    "\n",
    "#\tSetting\tthe\tmap\tto\tthe\tdata_frame \n",
    "data_frame['thal']\t=\tdata_frame['thal'].map(map_output)\n",
    "\n",
    "#data_frame['thal']"
   ]
  },
  {
   "cell_type": "code",
   "execution_count": 16,
   "metadata": {},
   "outputs": [],
   "source": [
    "#data_frame.loc[:]"
   ]
  },
  {
   "cell_type": "code",
   "execution_count": null,
   "metadata": {},
   "outputs": [],
   "source": []
  },
  {
   "cell_type": "code",
   "execution_count": 17,
   "metadata": {},
   "outputs": [
    {
     "data": {
      "text/plain": [
       "'feature_column_names = [\\n    \\'age\\',\\n    \\'sex\\',\\n    \\'cp\\',\\n    \\'trestbps\\',\\n    \\'chol\\',\\n    \\'fbs\\',\\n    \\'restecg\\',\\n    \\'thalach\\',\\n    \\'exang\\',\\n    \\'oldpeak\\',\\n    \\'slope\\',\\n    \\'ca\\',\\n    \\'thal\\']\\n\\npredicted_class_name = [\\'output/class\\']\\n\\n#spliting the dataset\\n# Getting feature variable values\\n\\nX = data_frame[feature_column_names].values\\ny = data_frame[predicted_class_name].values\\n\\n#Impute with mean all 0 readings(replacing messing value)\\nfill_0 = Imputer(missing_values=-20, strategy=\"median\", axis=0)\\n\\nX = fill_0.fit_transform(X)'"
      ]
     },
     "execution_count": 17,
     "metadata": {},
     "output_type": "execute_result"
    }
   ],
   "source": [
    "\"\"\"feature_column_names = [\n",
    "    'age',\n",
    "    'sex',\n",
    "    'cp',\n",
    "    'trestbps',\n",
    "    'chol',\n",
    "    'fbs',\n",
    "    'restecg',\n",
    "    'thalach',\n",
    "    'exang',\n",
    "    'oldpeak',\n",
    "    'slope',\n",
    "    'ca',\n",
    "    'thal']\n",
    "\n",
    "predicted_class_name = ['output/class']\n",
    "\n",
    "#spliting the dataset\n",
    "# Getting feature variable values\n",
    "\n",
    "X = data_frame[feature_column_names].values\n",
    "y = data_frame[predicted_class_name].values\n",
    "\n",
    "#Impute with mean all 0 readings(replacing messing value)\n",
    "fill_0 = Imputer(missing_values=-20, strategy=\"median\", axis=0)\n",
    "\n",
    "X = fill_0.fit_transform(X)\"\"\""
   ]
  },
  {
   "cell_type": "code",
   "execution_count": 18,
   "metadata": {},
   "outputs": [
    {
     "data": {
      "text/plain": [
       "'for i in range(len(X_train)):\\n    print(i,end=\" \")\\n    for j in range(len(X_train[0])):\\n        print(X_train[i][j],end=\" \")\\n    print(\"\\n\")'"
      ]
     },
     "execution_count": 18,
     "metadata": {},
     "output_type": "execute_result"
    }
   ],
   "source": [
    "\"\"\"for i in range(len(X_train)):\n",
    "    print(i,end=\" \")\n",
    "    for j in range(len(X_train[0])):\n",
    "        print(X_train[i][j],end=\" \")\n",
    "    print(\"\\n\")\"\"\"\n"
   ]
  },
  {
   "cell_type": "code",
   "execution_count": 19,
   "metadata": {},
   "outputs": [
    {
     "data": {
      "text/html": [
       "<div>\n",
       "<style scoped>\n",
       "    .dataframe tbody tr th:only-of-type {\n",
       "        vertical-align: middle;\n",
       "    }\n",
       "\n",
       "    .dataframe tbody tr th {\n",
       "        vertical-align: top;\n",
       "    }\n",
       "\n",
       "    .dataframe thead th {\n",
       "        text-align: right;\n",
       "    }\n",
       "</style>\n",
       "<table border=\"1\" class=\"dataframe\">\n",
       "  <thead>\n",
       "    <tr style=\"text-align: right;\">\n",
       "      <th></th>\n",
       "      <th>age</th>\n",
       "      <th>sex</th>\n",
       "      <th>cp</th>\n",
       "      <th>trestbps</th>\n",
       "      <th>chol</th>\n",
       "      <th>fbs</th>\n",
       "      <th>restecg</th>\n",
       "      <th>thalach</th>\n",
       "      <th>exang</th>\n",
       "      <th>oldpeak</th>\n",
       "      <th>slope</th>\n",
       "      <th>ca</th>\n",
       "      <th>thal</th>\n",
       "      <th>output/class</th>\n",
       "    </tr>\n",
       "  </thead>\n",
       "  <tbody>\n",
       "    <tr>\n",
       "      <th>191</th>\n",
       "      <td>43</td>\n",
       "      <td>1</td>\n",
       "      <td>1</td>\n",
       "      <td>132</td>\n",
       "      <td>247</td>\n",
       "      <td>1</td>\n",
       "      <td>1</td>\n",
       "      <td>143</td>\n",
       "      <td>1</td>\n",
       "      <td>0.1</td>\n",
       "      <td>1</td>\n",
       "      <td>-20</td>\n",
       "      <td>2</td>\n",
       "      <td>1</td>\n",
       "    </tr>\n",
       "  </tbody>\n",
       "</table>\n",
       "</div>"
      ],
      "text/plain": [
       "     age  sex  cp  trestbps  chol  fbs  restecg  thalach  exang  oldpeak  \\\n",
       "191   43    1   1       132   247    1        1      143      1      0.1   \n",
       "\n",
       "     slope   ca  thal  output/class  \n",
       "191      1  -20     2             1  "
      ]
     },
     "execution_count": 19,
     "metadata": {},
     "output_type": "execute_result"
    }
   ],
   "source": [
    "data_frame.iloc[[191]]"
   ]
  },
  {
   "cell_type": "code",
   "execution_count": 20,
   "metadata": {},
   "outputs": [],
   "source": [
    "#spliting dataset into traning set and test set\n",
    "\n",
    "from sklearn.model_selection import train_test_split"
   ]
  },
  {
   "cell_type": "code",
   "execution_count": 21,
   "metadata": {},
   "outputs": [],
   "source": [
    "\n",
    "feature_column_names = [\n",
    "    'age',\n",
    "    'sex',\n",
    "    'cp',\n",
    "    'trestbps',\n",
    "    'chol',\n",
    "    'fbs',\n",
    "    'restecg',\n",
    "    'thalach',\n",
    "    'exang',\n",
    "    'oldpeak',\n",
    "    'slope',\n",
    "    'ca',\n",
    "    'thal']\n",
    "\n",
    "predicted_class_name = ['output/class']\n",
    "\n",
    "#spliting the dataset\n",
    "# Getting feature variable values\n",
    "\n",
    "X = data_frame[feature_column_names].values\n",
    "y = data_frame[predicted_class_name].values\n",
    "\n",
    "# Saving 30% for testing\n",
    "split_test_size = 30\n",
    "\n",
    "# Splitting using scikit-learn train_test_split function\n",
    "#x is the feature\n",
    "#y is the classification output\n",
    "\n",
    "X_train, X_test, y_train, y_test = train_test_split(X, y, test_size = split_test_size, random_state = 42)"
   ]
  },
  {
   "cell_type": "code",
   "execution_count": 22,
   "metadata": {},
   "outputs": [],
   "source": [
    "#missing value handle\n",
    "from sklearn.preprocessing import Imputer"
   ]
  },
  {
   "cell_type": "code",
   "execution_count": 23,
   "metadata": {},
   "outputs": [
    {
     "name": "stderr",
     "output_type": "stream",
     "text": [
      "/home/sakib/.local/lib/python3.6/site-packages/sklearn/utils/deprecation.py:58: DeprecationWarning: Class Imputer is deprecated; Imputer was deprecated in version 0.20 and will be removed in 0.22. Import impute.SimpleImputer from sklearn instead.\n",
      "  warnings.warn(msg, category=DeprecationWarning)\n"
     ]
    }
   ],
   "source": [
    "#Impute with mean all 0 readings(replacing messing value)\n",
    "\n",
    "fill_0 = Imputer(missing_values=-20, strategy=\"median\", axis=0)\n",
    "\n",
    "#fill_0 = Imputer(missing_values=0, strategy=\"mean\", axis=0)\n",
    "\n",
    "X_train = fill_0.fit_transform(X_train)\n",
    "X_test = fill_0.fit_transform(X_test)"
   ]
  },
  {
   "cell_type": "code",
   "execution_count": 24,
   "metadata": {},
   "outputs": [
    {
     "data": {
      "text/plain": [
       "array([[59.,  1.,  2., ...,  3.,  0.,  1.],\n",
       "       [61.,  1.,  1., ...,  3.,  1.,  2.],\n",
       "       [59.,  1.,  3., ...,  3.,  0.,  1.],\n",
       "       ...,\n",
       "       [57.,  1.,  1., ...,  1.,  1.,  2.],\n",
       "       [66.,  1.,  1., ...,  3.,  0.,  3.],\n",
       "       [71.,  2.,  1., ...,  3.,  1.,  1.]])"
      ]
     },
     "execution_count": 24,
     "metadata": {},
     "output_type": "execute_result"
    }
   ],
   "source": [
    "X_train"
   ]
  },
  {
   "cell_type": "code",
   "execution_count": 25,
   "metadata": {},
   "outputs": [
    {
     "data": {
      "text/plain": [
       "array([[67, 1, 1, ..., 1, '3', 1],\n",
       "       [67, 1, 1, ..., 1, '2', 2],\n",
       "       [37, 1, 1, ..., 2, '0', 1],\n",
       "       ...,\n",
       "       [57, 1, 1, ..., 1, '1', 2],\n",
       "       [57, 2, 2, ..., 1, '1', 1],\n",
       "       [38, 1, 1, ..., 3, -20, 1]], dtype=object)"
      ]
     },
     "execution_count": 25,
     "metadata": {},
     "output_type": "execute_result"
    }
   ],
   "source": [
    "X"
   ]
  },
  {
   "cell_type": "code",
   "execution_count": 26,
   "metadata": {},
   "outputs": [
    {
     "name": "stdout",
     "output_type": "stream",
     "text": [
      "Number of True Cases: 139 (46.03%)\n",
      "Number of False Cases: 163 (53.97%)\n"
     ]
    }
   ],
   "source": [
    "#total true class and false class count\n",
    "#ratio calculate\n",
    "\n",
    "# Pythonic Way\n",
    "num_true = len(data_frame.loc[data_frame['output/class'] == True])\n",
    "num_false = len(data_frame.loc[data_frame['output/class'] == False])\n",
    "print (\"Number of True Cases: {0} ({1:2.2f}%)\".format(num_true, ((num_true / (num_true + num_false)) * 100)))\n",
    "print (\"Number of False Cases: {0} ({1:2.2f}%)\".format(num_false, ((num_false / (num_true + num_false)) * 100)))"
   ]
  },
  {
   "cell_type": "markdown",
   "metadata": {},
   "source": [
    "# Neural network \n",
    "#feed the data"
   ]
  },
  {
   "cell_type": "code",
   "execution_count": 27,
   "metadata": {},
   "outputs": [],
   "source": [
    "#activation function\n",
    "def sigmoid(z):\n",
    "    return 1/(1+np.exp(-z))\n",
    "\n",
    "#derivative of sigmoid with respect to z\n",
    "#also call sigmoid curve gradient\n",
    "def sigmoid_P(z):\n",
    "    return sigmoid(z)*(1-sigmoid(z))\n",
    "\n",
    "def sigma(x):\n",
    "    return tf.div(tf.constant(1.0),\n",
    "                  tf.add(tf.constant(1.0), tf.exp(tf.negative(x))))"
   ]
  },
  {
   "cell_type": "code",
   "execution_count": 28,
   "metadata": {},
   "outputs": [
    {
     "name": "stdout",
     "output_type": "stream",
     "text": [
      "Tensor(\"truncated_normal:0\", shape=(784, 30), dtype=float32)\n"
     ]
    }
   ],
   "source": [
    "print(tf.truncated_normal([784, 30]))"
   ]
  },
  {
   "cell_type": "code",
   "execution_count": 29,
   "metadata": {},
   "outputs": [],
   "source": [
    "w_1 = tf.Variable(tf.truncated_normal([784, 30]))"
   ]
  },
  {
   "cell_type": "code",
   "execution_count": 30,
   "metadata": {},
   "outputs": [
    {
     "data": {
      "text/plain": [
       "<tf.Variable 'Variable:0' shape=(784, 30) dtype=float32_ref>"
      ]
     },
     "execution_count": 30,
     "metadata": {},
     "output_type": "execute_result"
    }
   ],
   "source": [
    "w_1"
   ]
  },
  {
   "cell_type": "code",
   "execution_count": 31,
   "metadata": {},
   "outputs": [],
   "source": [
    "#hyparameter\n",
    "\n",
    "n_input = 13\n",
    "n_hiddenL = 7\n",
    "n_output = 1\n",
    "learning_rate = .05\n",
    "\n",
    "x = tf.placeholder(tf.float32)\n",
    "y = tf.placeholder(tf.float32)\n",
    "\n",
    "w1 = tf.Variable(tf.random_uniform([n_input,n_hiddenL],-1.0,1.0 ))\n",
    "w2 = tf.Variable(tf.random_uniform([n_hiddenL,n_output],-1.0,1.0 ))\n",
    "\n",
    "b1 = tf.Variable(tf.zeros([n_hiddenL]),name = \"Bias1\")\n",
    "b2 = tf.Variable(tf.zeros([n_hiddenL]),name = \"Bias2\")\n",
    "\n"
   ]
  },
  {
   "cell_type": "code",
   "execution_count": 32,
   "metadata": {},
   "outputs": [],
   "source": [
    "#layer\n",
    "l2 = tf.sigmoid(tf.matmul(x,w1)+b1)\n",
    "\n",
    "#hypothesis\n",
    "hy = tf.sigmoid(tf.matmul(l2,w2)+b2)"
   ]
  },
  {
   "cell_type": "code",
   "execution_count": 33,
   "metadata": {},
   "outputs": [],
   "source": [
    "cost = tf.reduce_mean(-y*tf.log(hy) - (1-y)*tf.log(1-hy))\n",
    "\n",
    "optimizer = tf.train.GradientDescentOptimizer(learning_rate).minimize(cost)\n"
   ]
  },
  {
   "cell_type": "code",
   "execution_count": 34,
   "metadata": {},
   "outputs": [
    {
     "name": "stdout",
     "output_type": "stream",
     "text": [
      "WARNING:tensorflow:From /home/sakib/.local/lib/python3.6/site-packages/tensorflow/python/util/tf_should_use.py:189: initialize_all_variables (from tensorflow.python.ops.variables) is deprecated and will be removed after 2017-03-02.\n",
      "Instructions for updating:\n",
      "Use `tf.global_variables_initializer` instead.\n"
     ]
    }
   ],
   "source": [
    "init = tf.initialize_all_variables()"
   ]
  },
  {
   "cell_type": "code",
   "execution_count": 35,
   "metadata": {},
   "outputs": [
    {
     "name": "stdout",
     "output_type": "stream",
     "text": [
      "0.73274827\n",
      "0.68759245\n",
      "0.68746334\n",
      "0.6873384\n",
      "0.68722194\n",
      "0.6871133\n",
      "0.6870102\n",
      "0.6869157\n",
      "0.6868267\n",
      "0.68674284\n",
      "0.6866664\n",
      "0.6865923\n",
      "0.68652564\n",
      "0.6864601\n",
      "0.6863993\n",
      "0.6863421\n",
      "0.68629014\n",
      "0.6862396\n",
      "0.6861934\n",
      "0.68614787\n",
      "0.6861053\n",
      "0.686066\n",
      "0.68602824\n",
      "0.68599206\n",
      "0.6859585\n",
      "0.6859258\n",
      "0.68589604\n",
      "0.6858652\n",
      "0.6858399\n",
      "0.68581486\n",
      "0.68578964\n",
      "0.6857641\n",
      "0.6857409\n",
      "0.6857204\n",
      "0.6856998\n",
      "0.68568\n",
      "0.685661\n",
      "0.68564093\n",
      "0.6856254\n",
      "0.6856061\n",
      "0.65182495\n",
      "0.6236515\n",
      "0.612722\n",
      "0.59798056\n",
      "0.61076605\n",
      "0.5916336\n",
      "0.602195\n",
      "0.6053882\n",
      "0.594399\n",
      "0.5886809\n",
      "0.589653\n",
      "0.5877108\n",
      "0.587551\n",
      "0.5872708\n",
      "0.58716303\n",
      "0.5870885\n",
      "0.58683085\n",
      "0.58668673\n",
      "0.58560324\n",
      "0.59567827\n",
      "0.5883277\n",
      "0.5993709\n",
      "0.58354867\n",
      "0.5833242\n",
      "0.58815\n",
      "0.5817122\n",
      "0.58351547\n",
      "0.5917916\n",
      "0.5815033\n",
      "0.59064734\n",
      "0.6019199\n",
      "0.5840257\n",
      "0.58567256\n",
      "0.58404356\n",
      "0.60066575\n",
      "0.5817721\n",
      "0.59359026\n",
      "0.6036447\n",
      "0.5858671\n",
      "0.5803942\n",
      "0.58458704\n",
      "0.58056694\n",
      "0.5820506\n",
      "0.5795036\n",
      "0.5804218\n",
      "0.5789991\n",
      "0.5835466\n",
      "0.5796396\n",
      "0.578767\n",
      "0.58334374\n",
      "0.5781974\n",
      "0.5787004\n",
      "0.58243936\n",
      "0.58288455\n",
      "0.5778782\n",
      "0.5815955\n",
      "0.5835244\n",
      "0.57776225\n",
      "0.57808656\n",
      "0.577897\n",
      "0.5775535\n",
      "0.57753766\n",
      "0.5775242\n",
      "0.5775105\n",
      "0.5774985\n",
      "0.577485\n",
      "0.577474\n",
      "0.5774621\n",
      "0.5774508\n",
      "0.57744\n",
      "0.5774296\n",
      "0.577419\n",
      "0.5774072\n",
      "0.57739705\n",
      "0.57738596\n",
      "0.577375\n",
      "0.57736397\n",
      "0.57735217\n",
      "0.5773391\n",
      "0.57732564\n",
      "0.5773104\n",
      "0.5772929\n",
      "0.5772706\n",
      "0.5772431\n",
      "0.577199\n",
      "0.5771304\n",
      "0.5770132\n",
      "0.5768601\n",
      "0.576786\n",
      "0.57730657\n",
      "0.5766545\n",
      "0.5766908\n",
      "0.57688195\n",
      "0.5767164\n",
      "0.5778394\n",
      "0.57693833\n",
      "0.57682556\n",
      "0.5774594\n",
      "0.57722783\n",
      "0.57679737\n",
      "0.57761645\n",
      "0.5802287\n",
      "0.5849146\n",
      "0.5787835\n",
      "0.6002396\n",
      "0.58701754\n",
      "0.57730424\n",
      "0.5804124\n",
      "0.58521575\n",
      "0.57594097\n",
      "0.5806475\n",
      "0.584988\n",
      "0.576451\n",
      "0.5840327\n",
      "0.5767889\n",
      "0.5760499\n",
      "0.5937193\n",
      "0.5767807\n",
      "0.5755015\n",
      "0.57974845\n",
      "0.5911784\n",
      "0.57712036\n",
      "0.5752752\n",
      "0.5790273\n",
      "0.57669336\n",
      "0.5842122\n",
      "0.5795317\n",
      "0.5762424\n",
      "0.5764719\n",
      "0.5882735\n",
      "0.57871586\n",
      "0.5778413\n",
      "0.58705854\n",
      "0.5761524\n",
      "0.5950105\n",
      "0.57928836\n",
      "0.57727695\n",
      "0.57973534\n",
      "0.576744\n",
      "0.58089507\n",
      "0.58134836\n",
      "0.57709044\n",
      "0.5948743\n",
      "0.57494414\n",
      "0.5981835\n",
      "0.5767986\n",
      "0.57541215\n",
      "0.5837597\n",
      "0.5766645\n",
      "0.5884835\n",
      "0.58130467\n",
      "0.57641923\n",
      "0.5816793\n",
      "0.5839749\n",
      "0.5748067\n",
      "0.58877164\n",
      "0.57476544\n",
      "0.57583207\n",
      "0.5745187\n",
      "0.5750352\n",
      "[array([[0.25305334, 0.25305334, 0.25305334, ..., 0.25305334, 0.25305334,\n",
      "        0.25305334],\n",
      "       [0.25305334, 0.25305334, 0.25305334, ..., 0.25305334, 0.25305334,\n",
      "        0.25305334],\n",
      "       [0.7149479 , 0.7149479 , 0.7149479 , ..., 0.7149479 , 0.7149479 ,\n",
      "        0.7149479 ],\n",
      "       ...,\n",
      "       [0.25305334, 0.25305334, 0.25305334, ..., 0.25305334, 0.25305334,\n",
      "        0.25305334],\n",
      "       [0.7149479 , 0.7149479 , 0.7149479 , ..., 0.7149479 , 0.7149479 ,\n",
      "        0.7149479 ],\n",
      "       [0.25773764, 0.25773764, 0.25773764, ..., 0.25773764, 0.25773764,\n",
      "        0.25773764]], dtype=float32)]\n",
      "accuracy:  55.14705777168274 %\n"
     ]
    }
   ],
   "source": [
    "epochs = 200000\n",
    "with tf.Session() as session:\n",
    "    session.run(init)\n",
    "    \n",
    "    for step in range(epochs):\n",
    "        session.run(optimizer,feed_dict={x:X_train,y:y_train})\n",
    "        if step%1000 == 0:\n",
    "            print( session.run(cost,feed_dict={x:X_train,y:y_train}))\n",
    "    answer = tf.equal(tf.floor(hy+.05),y)\n",
    "    \n",
    "    accuracy = tf.reduce_mean(tf.cast(answer,\"float\"))\n",
    "    \n",
    "    print( session.run([hy],feed_dict={x:X_train,y:y_train}))\n",
    "    print(\"accuracy: \",accuracy.eval({x:X_train,y:y_train})*100,\"%\")"
   ]
  },
  {
   "cell_type": "markdown",
   "metadata": {},
   "source": [
    "# Accuracy & Performance"
   ]
  },
  {
   "cell_type": "code",
   "execution_count": 36,
   "metadata": {},
   "outputs": [],
   "source": [
    "#performance metrics library\n",
    "from sklearn import metrics"
   ]
  },
  {
   "cell_type": "code",
   "execution_count": 37,
   "metadata": {},
   "outputs": [
    {
     "ename": "NameError",
     "evalue": "name 'predict_from_train_data' is not defined",
     "output_type": "error",
     "traceback": [
      "\u001b[0;31m---------------------------------------------------------------------------\u001b[0m",
      "\u001b[0;31mNameError\u001b[0m                                 Traceback (most recent call last)",
      "\u001b[0;32m<ipython-input-37-4eba87e96201>\u001b[0m in \u001b[0;36m<module>\u001b[0;34m\u001b[0m\n\u001b[1;32m      2\u001b[0m \u001b[0;34m\u001b[0m\u001b[0m\n\u001b[1;32m      3\u001b[0m \u001b[0;31m#get current accurac of the model\u001b[0m\u001b[0;34m\u001b[0m\u001b[0;34m\u001b[0m\u001b[0;34m\u001b[0m\u001b[0m\n\u001b[0;32m----> 4\u001b[0;31m \u001b[0maccuracy1\u001b[0m \u001b[0;34m=\u001b[0m \u001b[0mmetrics\u001b[0m\u001b[0;34m.\u001b[0m\u001b[0maccuracy_score\u001b[0m\u001b[0;34m(\u001b[0m\u001b[0my_train\u001b[0m\u001b[0;34m,\u001b[0m\u001b[0mpredict_from_train_data\u001b[0m\u001b[0;34m)\u001b[0m\u001b[0;34m\u001b[0m\u001b[0;34m\u001b[0m\u001b[0m\n\u001b[0m\u001b[1;32m      5\u001b[0m \u001b[0mprint\u001b[0m\u001b[0;34m(\u001b[0m\u001b[0;34m\"Accuracy(traning data) of our naive byes model is {0:.4f}\"\u001b[0m\u001b[0;34m.\u001b[0m\u001b[0mformat\u001b[0m\u001b[0;34m(\u001b[0m\u001b[0maccuracy\u001b[0m\u001b[0;34m)\u001b[0m\u001b[0;34m)\u001b[0m\u001b[0;34m\u001b[0m\u001b[0;34m\u001b[0m\u001b[0m\n",
      "\u001b[0;31mNameError\u001b[0m: name 'predict_from_train_data' is not defined"
     ]
    }
   ],
   "source": [
    "#accuracy of the train data\n",
    "\n",
    "#get current accurac of the model\n",
    "accuracy1 = metrics.accuracy_score(y_train,predict_from_train_data)\n",
    "print(\"Accuracy(traning data) of our naive byes model is {0:.4f}\".format(accuracy))"
   ]
  },
  {
   "cell_type": "code",
   "execution_count": null,
   "metadata": {},
   "outputs": [],
   "source": [
    "#accuracy of test data\n",
    "predict_from_test_data = nb_model.predict(X_test)\n",
    "\n",
    "\n",
    "#get current accurac of the model\n",
    "accuracy = metrics.accuracy_score(y_test,predict_from_test_data)\n",
    "print(\"Accuracy(test data) of our naive byes model is {0:.4f}\".format(accuracy))"
   ]
  },
  {
   "cell_type": "code",
   "execution_count": null,
   "metadata": {},
   "outputs": [],
   "source": [
    "print(\"Confussion Matrix\")\n",
    "\n",
    "#labels for set 1=true to upper left and 0=false to lower right\n",
    "print(\"{0}\".format(metrics.confusion_matrix(ytest,predict_from_test_data,label=[1,0]))"
   ]
  },
  {
   "cell_type": "code",
   "execution_count": null,
   "metadata": {},
   "outputs": [],
   "source": [
    "#classification report\n",
    "print('Classification Report')\n",
    "\n",
    "\n",
    "#labels for set 1=true to upper left and 0=false to lower right\n",
    "print(\"{0}\".format(metrics.confusion_report(ytest,predict_from_test_data,label=[1,0])"
   ]
  },
  {
   "cell_type": "code",
   "execution_count": null,
   "metadata": {},
   "outputs": [],
   "source": []
  },
  {
   "cell_type": "code",
   "execution_count": null,
   "metadata": {},
   "outputs": [],
   "source": []
  },
  {
   "cell_type": "code",
   "execution_count": null,
   "metadata": {},
   "outputs": [],
   "source": []
  }
 ],
 "metadata": {
  "kernelspec": {
   "display_name": "Python 3",
   "language": "python",
   "name": "python3"
  },
  "language_info": {
   "codemirror_mode": {
    "name": "ipython",
    "version": 3
   },
   "file_extension": ".py",
   "mimetype": "text/x-python",
   "name": "python",
   "nbconvert_exporter": "python",
   "pygments_lexer": "ipython3",
   "version": "3.6.8"
  }
 },
 "nbformat": 4,
 "nbformat_minor": 2
}
