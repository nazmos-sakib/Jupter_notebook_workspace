{
 "cells": [
  {
   "cell_type": "code",
   "execution_count": 1,
   "metadata": {},
   "outputs": [
    {
     "name": "stderr",
     "output_type": "stream",
     "text": [
      "Using TensorFlow backend.\n"
     ]
    }
   ],
   "source": [
    "import keras\n",
    "from keras import backend as k\n",
    "from keras.models import Sequential\n",
    "from keras.layers import Activation\n",
    "from keras.layers.core import Dense\n",
    "from keras.optimizers import Adam\n",
    "from keras.metrics import categorical_crossentropy\n",
    "import numpy as np\n",
    "from random import randint\n",
    "from sklearn.preprocessing import MinMaxScaler"
   ]
  },
  {
   "cell_type": "markdown",
   "metadata": {},
   "source": [
    "# Traning Data"
   ]
  },
  {
   "cell_type": "code",
   "execution_count": 17,
   "metadata": {},
   "outputs": [
    {
     "name": "stderr",
     "output_type": "stream",
     "text": [
      "/home/sakib/.local/lib/python3.6/site-packages/sklearn/utils/validation.py:595: DataConversionWarning: Data with input dtype int64 was converted to float64 by MinMaxScaler.\n",
      "  warnings.warn(msg, DataConversionWarning)\n"
     ]
    }
   ],
   "source": [
    "train_labels = []\n",
    "train_samples = []\n",
    "\n",
    "\n",
    "    \n",
    "for i in range(50):\n",
    "    random_younger = randint(13,64)\n",
    "    train_samples.append(random_younger)\n",
    "    train_labels.append(1)\n",
    "    \n",
    "    random_order = randint(65,100)\n",
    "    train_samples.append(random_order)\n",
    "    train_labels.append(0)\n",
    "    \n",
    "    \n",
    "for i in range(1000):\n",
    "    random_younger = randint(13,64)\n",
    "    train_samples.append(random_younger)\n",
    "    train_labels.append(0)\n",
    "    \n",
    "    random_order = randint(65,100)\n",
    "    train_samples.append(random_order)\n",
    "    train_labels.append(1)\n",
    "\n",
    "    \n",
    "train_labels = np.array(train_labels)\n",
    "train_samples = np.array(train_samples)\n",
    "\n",
    "scaler = MinMaxScaler(feature_range=(0,1))\n",
    "\n",
    "scaler_train_samples = scaler.fit_transform((train_samples).reshape(-1,1))"
   ]
  },
  {
   "cell_type": "code",
   "execution_count": 18,
   "metadata": {},
   "outputs": [
    {
     "data": {
      "text/plain": [
       "array([[0.35632184],\n",
       "       [0.72413793],\n",
       "       [0.56321839],\n",
       "       ...,\n",
       "       [0.79310345],\n",
       "       [0.56321839],\n",
       "       [0.98850575]])"
      ]
     },
     "execution_count": 18,
     "metadata": {},
     "output_type": "execute_result"
    }
   ],
   "source": [
    "scaler_train_samples"
   ]
  },
  {
   "cell_type": "markdown",
   "metadata": {},
   "source": [
    "# Test Data"
   ]
  },
  {
   "cell_type": "code",
   "execution_count": 24,
   "metadata": {},
   "outputs": [
    {
     "name": "stderr",
     "output_type": "stream",
     "text": [
      "/home/sakib/.local/lib/python3.6/site-packages/sklearn/utils/validation.py:595: DataConversionWarning: Data with input dtype int64 was converted to float64 by MinMaxScaler.\n",
      "  warnings.warn(msg, DataConversionWarning)\n"
     ]
    }
   ],
   "source": [
    "test_labels = []\n",
    "test_samples = []\n",
    "\n",
    "\n",
    "    \n",
    "for i in range(10):\n",
    "    random_younger = randint(13,64)\n",
    "    test_samples.append(random_younger)\n",
    "    test_labels.append(1)\n",
    "    \n",
    "    random_order = randint(65,100)\n",
    "    test_samples.append(random_order)\n",
    "    test_labels.append(0)\n",
    "    \n",
    "    \n",
    "for i in range(1000):\n",
    "    random_younger = randint(13,64)\n",
    "    test_samples.append(random_younger)\n",
    "    test_labels.append(0)\n",
    "    \n",
    "    random_order = randint(65,100)\n",
    "    test_samples.append(random_order)\n",
    "    test_labels.append(1)\n",
    "\n",
    "    \n",
    "test_labels = np.array(test_labels)\n",
    "test_samples = np.array(test_samples)\n",
    "\n",
    "scaler = MinMaxScaler(feature_range=(0,1))\n",
    "\n",
    "scaler_test_samples = scaler.fit_transform((test_samples).reshape(-1,1))"
   ]
  },
  {
   "cell_type": "code",
   "execution_count": 25,
   "metadata": {},
   "outputs": [
    {
     "data": {
      "text/plain": [
       "array([[0.43678161],\n",
       "       [0.71264368],\n",
       "       [0.57471264],\n",
       "       ...,\n",
       "       [0.65517241],\n",
       "       [0.56321839],\n",
       "       [0.90804598]])"
      ]
     },
     "execution_count": 25,
     "metadata": {},
     "output_type": "execute_result"
    }
   ],
   "source": [
    "scaler_test_samples"
   ]
  },
  {
   "cell_type": "markdown",
   "metadata": {},
   "source": [
    "# Model Build"
   ]
  },
  {
   "cell_type": "code",
   "execution_count": 19,
   "metadata": {},
   "outputs": [],
   "source": [
    "model = Sequential([\n",
    "    Dense(16,input_shape=(1,),activation=\"relu\"),\n",
    "    Dense(32,activation=\"relu\"),\n",
    "    Dense(2,activation=\"softmax\")\n",
    "    \n",
    "])"
   ]
  },
  {
   "cell_type": "code",
   "execution_count": 20,
   "metadata": {},
   "outputs": [
    {
     "name": "stdout",
     "output_type": "stream",
     "text": [
      "_________________________________________________________________\n",
      "Layer (type)                 Output Shape              Param #   \n",
      "=================================================================\n",
      "dense_7 (Dense)              (None, 16)                32        \n",
      "_________________________________________________________________\n",
      "dense_8 (Dense)              (None, 32)                544       \n",
      "_________________________________________________________________\n",
      "dense_9 (Dense)              (None, 2)                 66        \n",
      "=================================================================\n",
      "Total params: 642\n",
      "Trainable params: 642\n",
      "Non-trainable params: 0\n",
      "_________________________________________________________________\n"
     ]
    }
   ],
   "source": [
    "model.summary()"
   ]
  },
  {
   "cell_type": "code",
   "execution_count": 21,
   "metadata": {},
   "outputs": [],
   "source": [
    "model.compile(\n",
    "    Adam(lr=.0001),loss='sparse_categorical_crossentropy',metrics=['accuracy']\n",
    ")"
   ]
  },
  {
   "cell_type": "code",
   "execution_count": 22,
   "metadata": {},
   "outputs": [],
   "source": [
    "#valid_set = [(sample,lable),(sample,lable),-,(sample,lable)]"
   ]
  },
  {
   "cell_type": "code",
   "execution_count": 23,
   "metadata": {},
   "outputs": [
    {
     "name": "stdout",
     "output_type": "stream",
     "text": [
      "Train on 1890 samples, validate on 210 samples\n",
      "Epoch 1/20\n",
      " - 1s - loss: 0.6498 - acc: 0.5598 - val_loss: 0.6307 - val_acc: 0.6238\n",
      "Epoch 2/20\n",
      " - 0s - loss: 0.6263 - acc: 0.6429 - val_loss: 0.6033 - val_acc: 0.7238\n",
      "Epoch 3/20\n",
      " - 0s - loss: 0.6029 - acc: 0.6958 - val_loss: 0.5766 - val_acc: 0.7714\n",
      "Epoch 4/20\n",
      " - 0s - loss: 0.5795 - acc: 0.7339 - val_loss: 0.5496 - val_acc: 0.7857\n",
      "Epoch 5/20\n",
      " - 0s - loss: 0.5559 - acc: 0.7598 - val_loss: 0.5222 - val_acc: 0.8095\n",
      "Epoch 6/20\n",
      " - 0s - loss: 0.5324 - acc: 0.7889 - val_loss: 0.4954 - val_acc: 0.8238\n",
      "Epoch 7/20\n",
      " - 0s - loss: 0.5090 - acc: 0.8085 - val_loss: 0.4683 - val_acc: 0.8381\n",
      "Epoch 8/20\n",
      " - 0s - loss: 0.4860 - acc: 0.8228 - val_loss: 0.4422 - val_acc: 0.8524\n",
      "Epoch 9/20\n",
      " - 0s - loss: 0.4637 - acc: 0.8386 - val_loss: 0.4170 - val_acc: 0.8571\n",
      "Epoch 10/20\n",
      " - 0s - loss: 0.4430 - acc: 0.8571 - val_loss: 0.3932 - val_acc: 0.8905\n",
      "Epoch 11/20\n",
      " - 0s - loss: 0.4233 - acc: 0.8693 - val_loss: 0.3709 - val_acc: 0.8905\n",
      "Epoch 12/20\n",
      " - 0s - loss: 0.4053 - acc: 0.8825 - val_loss: 0.3493 - val_acc: 0.9143\n",
      "Epoch 13/20\n",
      " - 0s - loss: 0.3886 - acc: 0.8857 - val_loss: 0.3300 - val_acc: 0.9238\n",
      "Epoch 14/20\n",
      " - 0s - loss: 0.3735 - acc: 0.8984 - val_loss: 0.3118 - val_acc: 0.9333\n",
      "Epoch 15/20\n",
      " - 0s - loss: 0.3598 - acc: 0.9063 - val_loss: 0.2950 - val_acc: 0.9333\n",
      "Epoch 16/20\n",
      " - 0s - loss: 0.3478 - acc: 0.9079 - val_loss: 0.2802 - val_acc: 0.9333\n",
      "Epoch 17/20\n",
      " - 0s - loss: 0.3371 - acc: 0.9101 - val_loss: 0.2668 - val_acc: 0.9476\n",
      "Epoch 18/20\n",
      " - 0s - loss: 0.3277 - acc: 0.9143 - val_loss: 0.2547 - val_acc: 0.9571\n",
      "Epoch 19/20\n",
      " - 0s - loss: 0.3197 - acc: 0.9159 - val_loss: 0.2436 - val_acc: 0.9571\n",
      "Epoch 20/20\n",
      " - 0s - loss: 0.3128 - acc: 0.9169 - val_loss: 0.2341 - val_acc: 0.9571\n"
     ]
    },
    {
     "data": {
      "text/plain": [
       "<keras.callbacks.History at 0x7fe860c53da0>"
      ]
     },
     "execution_count": 23,
     "metadata": {},
     "output_type": "execute_result"
    }
   ],
   "source": [
    "model.fit(scaler_train_samples,train_labels,validation_split=0.1,batch_size=10,\n",
    "          epochs=20,shuffle=True,verbose=2)"
   ]
  },
  {
   "cell_type": "code",
   "execution_count": null,
   "metadata": {},
   "outputs": [],
   "source": [
    "#model.fit(scaler_train_samples,train_labels,batch_size=10,epochs=20,shuffle=True,verbose=2)"
   ]
  },
  {
   "cell_type": "markdown",
   "metadata": {},
   "source": []
  },
  {
   "cell_type": "code",
   "execution_count": null,
   "metadata": {},
   "outputs": [],
   "source": []
  }
 ],
 "metadata": {
  "kernelspec": {
   "display_name": "Python 3",
   "language": "python",
   "name": "python3"
  },
  "language_info": {
   "codemirror_mode": {
    "name": "ipython",
    "version": 3
   },
   "file_extension": ".py",
   "mimetype": "text/x-python",
   "name": "python",
   "nbconvert_exporter": "python",
   "pygments_lexer": "ipython3",
   "version": "3.6.8"
  }
 },
 "nbformat": 4,
 "nbformat_minor": 2
}
