{
 "cells": [
  {
   "cell_type": "code",
   "execution_count": 1,
   "metadata": {},
   "outputs": [
    {
     "name": "stderr",
     "output_type": "stream",
     "text": [
      "Using TensorFlow backend.\n"
     ]
    }
   ],
   "source": [
    "#import all necessary liberty\n",
    "\n",
    "%matplotlib inline\n",
    "#import matplotlib.pyplot as plt\n",
    "from matplotlib import pyplot as plt\n",
    "import tensorflow as tf\n",
    "import numpy as np\n",
    "from sklearn.metrics import confusion_matrix\n",
    "\n",
    "import pandas as pd\n",
    "\n",
    "#missing value handle\n",
    "from sklearn.preprocessing import Imputer\n",
    "\n",
    "#To shuffle the data set\n",
    "from sklearn.utils import shuffle\n",
    "\n",
    "from keras.models import Sequential\n",
    "from keras.layers import Dense\n",
    "from keras.layers import Activation\n",
    "from keras.layers import Dropout\n",
    "from keras.optimizers import SGD\n",
    "from keras.optimizers import Adam\n",
    "#from sklearn.utils import shuffle\n",
    "import csv\n",
    "\n",
    "#spliting dataset into traning set and test set\n",
    "from sklearn.model_selection import train_test_split\n",
    "import itertools\n",
    "from sklearn.model_selection import KFold"
   ]
  },
  {
   "cell_type": "code",
   "execution_count": 21,
   "metadata": {},
   "outputs": [
    {
     "data": {
      "text/plain": [
       "834"
      ]
     },
     "execution_count": 21,
     "metadata": {},
     "output_type": "execute_result"
    }
   ],
   "source": [
    "data_frame = pd.read_csv('data.tab', sep='\\t')\n",
    "\n",
    "len(data_frame)"
   ]
  },
  {
   "cell_type": "code",
   "execution_count": 22,
   "metadata": {},
   "outputs": [
    {
     "data": {
      "text/html": [
       "<div>\n",
       "<style scoped>\n",
       "    .dataframe tbody tr th:only-of-type {\n",
       "        vertical-align: middle;\n",
       "    }\n",
       "\n",
       "    .dataframe tbody tr th {\n",
       "        vertical-align: top;\n",
       "    }\n",
       "\n",
       "    .dataframe thead th {\n",
       "        text-align: right;\n",
       "    }\n",
       "</style>\n",
       "<table border=\"1\" class=\"dataframe\">\n",
       "  <thead>\n",
       "    <tr style=\"text-align: right;\">\n",
       "      <th></th>\n",
       "      <th>50.0</th>\n",
       "      <th>1.0</th>\n",
       "      <th>0.0</th>\n",
       "      <th>0.0.1</th>\n",
       "      <th>0.0.2</th>\n",
       "      <th>1.0.1</th>\n",
       "      <th>0.0.3</th>\n",
       "      <th>1.0.2</th>\n",
       "      <th>0.0.4</th>\n",
       "      <th>0.0.5</th>\n",
       "      <th>1.0.3</th>\n",
       "      <th>0.0.6</th>\n",
       "      <th>0.0.7</th>\n",
       "      <th>0.0.8</th>\n",
       "      <th>0.0.9</th>\n",
       "    </tr>\n",
       "  </thead>\n",
       "  <tbody>\n",
       "    <tr>\n",
       "      <th>0</th>\n",
       "      <td>55.0</td>\n",
       "      <td>1.0</td>\n",
       "      <td>1.0</td>\n",
       "      <td>0.0</td>\n",
       "      <td>0.0</td>\n",
       "      <td>1.0</td>\n",
       "      <td>0.0</td>\n",
       "      <td>0.0</td>\n",
       "      <td>1.0</td>\n",
       "      <td>1.0</td>\n",
       "      <td>1.0</td>\n",
       "      <td>0.0</td>\n",
       "      <td>0.0</td>\n",
       "      <td>1.0</td>\n",
       "      <td>1.0</td>\n",
       "    </tr>\n",
       "    <tr>\n",
       "      <th>1</th>\n",
       "      <td>47.0</td>\n",
       "      <td>1.0</td>\n",
       "      <td>0.0</td>\n",
       "      <td>1.0</td>\n",
       "      <td>1.0</td>\n",
       "      <td>0.0</td>\n",
       "      <td>1.0</td>\n",
       "      <td>1.0</td>\n",
       "      <td>1.0</td>\n",
       "      <td>0.0</td>\n",
       "      <td>0.0</td>\n",
       "      <td>0.0</td>\n",
       "      <td>0.0</td>\n",
       "      <td>0.0</td>\n",
       "      <td>0.0</td>\n",
       "    </tr>\n",
       "  </tbody>\n",
       "</table>\n",
       "</div>"
      ],
      "text/plain": [
       "   50.0  1.0  0.0  0.0.1  0.0.2  1.0.1  0.0.3  1.0.2  0.0.4  0.0.5  1.0.3  \\\n",
       "0  55.0  1.0  1.0    0.0    0.0    1.0    0.0    0.0    1.0    1.0    1.0   \n",
       "1  47.0  1.0  0.0    1.0    1.0    0.0    1.0    1.0    1.0    0.0    0.0   \n",
       "\n",
       "   0.0.6  0.0.7  0.0.8  0.0.9  \n",
       "0    0.0    0.0    1.0    1.0  \n",
       "1    0.0    0.0    0.0    0.0  "
      ]
     },
     "execution_count": 22,
     "metadata": {},
     "output_type": "execute_result"
    }
   ],
   "source": [
    "data_frame.head(2)"
   ]
  },
  {
   "cell_type": "code",
   "execution_count": 23,
   "metadata": {},
   "outputs": [],
   "source": [
    "#suffle the data set\n",
    "np.random.seed(40)\n",
    "df = data_frame.reindex(np.random.permutation(data_frame.index))\n",
    "df.reset_index(inplace=True,drop=True)"
   ]
  },
  {
   "cell_type": "code",
   "execution_count": 24,
   "metadata": {},
   "outputs": [],
   "source": [
    "data_set = df.values"
   ]
  },
  {
   "cell_type": "code",
   "execution_count": 25,
   "metadata": {},
   "outputs": [],
   "source": [
    "X = data_set[:,:14]\n",
    "Y = data_set[:,14:]\n"
   ]
  },
  {
   "cell_type": "code",
   "execution_count": null,
   "metadata": {},
   "outputs": [],
   "source": []
  },
  {
   "cell_type": "code",
   "execution_count": 26,
   "metadata": {},
   "outputs": [
    {
     "data": {
      "text/html": [
       "<div>\n",
       "<style scoped>\n",
       "    .dataframe tbody tr th:only-of-type {\n",
       "        vertical-align: middle;\n",
       "    }\n",
       "\n",
       "    .dataframe tbody tr th {\n",
       "        vertical-align: top;\n",
       "    }\n",
       "\n",
       "    .dataframe thead th {\n",
       "        text-align: right;\n",
       "    }\n",
       "</style>\n",
       "<table border=\"1\" class=\"dataframe\">\n",
       "  <thead>\n",
       "    <tr style=\"text-align: right;\">\n",
       "      <th></th>\n",
       "      <th>50.0</th>\n",
       "      <th>1.0</th>\n",
       "      <th>0.0</th>\n",
       "      <th>0.0.1</th>\n",
       "      <th>0.0.2</th>\n",
       "      <th>1.0.1</th>\n",
       "      <th>0.0.3</th>\n",
       "      <th>1.0.2</th>\n",
       "      <th>0.0.4</th>\n",
       "      <th>0.0.5</th>\n",
       "      <th>1.0.3</th>\n",
       "      <th>0.0.6</th>\n",
       "      <th>0.0.7</th>\n",
       "      <th>0.0.8</th>\n",
       "      <th>0.0.9</th>\n",
       "    </tr>\n",
       "  </thead>\n",
       "  <tbody>\n",
       "    <tr>\n",
       "      <th>0</th>\n",
       "      <td>55.0</td>\n",
       "      <td>1.0</td>\n",
       "      <td>1.0</td>\n",
       "      <td>0.0</td>\n",
       "      <td>0.0</td>\n",
       "      <td>1.0</td>\n",
       "      <td>0.0</td>\n",
       "      <td>0.0</td>\n",
       "      <td>1.0</td>\n",
       "      <td>1.0</td>\n",
       "      <td>1.0</td>\n",
       "      <td>0.0</td>\n",
       "      <td>0.0</td>\n",
       "      <td>1.0</td>\n",
       "      <td>1.0</td>\n",
       "    </tr>\n",
       "    <tr>\n",
       "      <th>1</th>\n",
       "      <td>47.0</td>\n",
       "      <td>1.0</td>\n",
       "      <td>0.0</td>\n",
       "      <td>1.0</td>\n",
       "      <td>1.0</td>\n",
       "      <td>0.0</td>\n",
       "      <td>1.0</td>\n",
       "      <td>1.0</td>\n",
       "      <td>1.0</td>\n",
       "      <td>0.0</td>\n",
       "      <td>0.0</td>\n",
       "      <td>0.0</td>\n",
       "      <td>0.0</td>\n",
       "      <td>0.0</td>\n",
       "      <td>0.0</td>\n",
       "    </tr>\n",
       "  </tbody>\n",
       "</table>\n",
       "</div>"
      ],
      "text/plain": [
       "   50.0  1.0  0.0  0.0.1  0.0.2  1.0.1  0.0.3  1.0.2  0.0.4  0.0.5  1.0.3  \\\n",
       "0  55.0  1.0  1.0    0.0    0.0    1.0    0.0    0.0    1.0    1.0    1.0   \n",
       "1  47.0  1.0  0.0    1.0    1.0    0.0    1.0    1.0    1.0    0.0    0.0   \n",
       "\n",
       "   0.0.6  0.0.7  0.0.8  0.0.9  \n",
       "0    0.0    0.0    1.0    1.0  \n",
       "1    0.0    0.0    0.0    0.0  "
      ]
     },
     "execution_count": 26,
     "metadata": {},
     "output_type": "execute_result"
    }
   ],
   "source": [
    "data_frame.head(2)"
   ]
  },
  {
   "cell_type": "code",
   "execution_count": 28,
   "metadata": {},
   "outputs": [],
   "source": [
    "kf = KFold(6)"
   ]
  },
  {
   "cell_type": "code",
   "execution_count": null,
   "metadata": {},
   "outputs": [],
   "source": [
    "oos_y = []\n",
    "oos_preed = []\n",
    "fold = 0"
   ]
  },
  {
   "cell_type": "code",
   "execution_count": 33,
   "metadata": {},
   "outputs": [
    {
     "name": "stdout",
     "output_type": "stream",
     "text": [
      "[[59.  1.  0. ...  0.  0.  1.]\n",
      " [45.  2.  0. ...  1.  0.  1.]\n",
      " [42.  2.  0. ...  0.  0.  0.]\n",
      " ...\n",
      " [30.  2.  0. ...  1.  0.  0.]\n",
      " [70.  1.  0. ...  0.  0.  1.]\n",
      " [69.  1.  0. ...  0.  1.  1.]]\n",
      "\n",
      "\n",
      "[[43.  2.  0. ...  0.  0.  0.]\n",
      " [42.  1.  0. ...  0.  0.  0.]\n",
      " [35.  1.  1. ...  1.  1.  0.]\n",
      " ...\n",
      " [75.  1.  0. ...  1.  0.  1.]\n",
      " [50.  2.  0. ...  0.  1.  1.]\n",
      " [80.  1.  0. ...  1.  0.  1.]]\n",
      "\n",
      "\n",
      "[[35.  1.  1. ...  0.  0.  1.]\n",
      " [70.  1.  1. ...  1.  0.  1.]\n",
      " [59.  1.  0. ...  1.  0.  0.]\n",
      " ...\n",
      " [49.  1.  0. ...  0.  1.  1.]\n",
      " [65.  1.  0. ...  0.  0.  0.]\n",
      " [89.  1.  1. ...  0.  1.  1.]]\n",
      "\n",
      "\n",
      "[[45.  1.  1. ...  0.  0.  1.]\n",
      " [25.  1.  0. ...  0.  0.  1.]\n",
      " [49.  1.  0. ...  0.  0.  1.]\n",
      " ...\n",
      " [65.  1.  0. ...  1.  0.  1.]\n",
      " [60.  1.  0. ...  0.  1.  1.]\n",
      " [85.  1.  2. ...  0.  0.  1.]]\n",
      "\n",
      "\n",
      "[[30.  2.  0. ...  0.  0.  0.]\n",
      " [43.  1.  0. ...  0.  1.  0.]\n",
      " [60.  1.  0. ...  1.  0.  1.]\n",
      " ...\n",
      " [33.  1.  1. ...  0.  0.  0.]\n",
      " [46.  1.  2. ...  0.  0.  1.]\n",
      " [29.  1.  0. ...  0.  1.  0.]]\n",
      "\n",
      "\n",
      "[[50.  1.  0. ...  0.  0.  1.]\n",
      " [60.  2.  0. ...  0.  0.  1.]\n",
      " [54.  2.  0. ...  0.  1.  0.]\n",
      " ...\n",
      " [37.  1.  1. ...  0.  0.  1.]\n",
      " [42.  1.  0. ...  1.  1.  1.]\n",
      " [45.  2.  0. ...  1.  0.  0.]]\n",
      "\n",
      "\n"
     ]
    }
   ],
   "source": [
    "for train,test in kf.split(X):\n",
    "    fold += 1\n",
    "    x_train = X[train]\n",
    "    y_train = Y[train]\n",
    "    x_test = X[test]\n",
    "    y_test = Y[test]\n",
    "    \n",
    "    model = Sequential([\n",
    "    Dense(16,input_shape=(14,),activation=\"relu\"),\n",
    "    Dense(32,activation=\"relu\"),\n",
    "    Dense(32,activation=\"relu\"),\n",
    "    Dense(40,activation=\"relu\"),\n",
    "    Dense(54,activation=\"relu\"),\n",
    "    Dense(2,activation=\"softmax\")\n",
    "    ])\n",
    "\n",
    "    model.compile(\n",
    "        Adam(lr=.0001),loss='sparse_categorical_crossentropy',metrics=['accuracy']\n",
    "    )\n",
    "    \n",
    "    model.fit(X_train, Y_train,batch_size=25,epochs=200,shuffle=True,verbose=2)\n",
    "    \n",
    "    rounded_predections = model.predict_classes(X_test,batch_size=10,verbose=0)\n",
    "    "
   ]
  },
  {
   "cell_type": "code",
   "execution_count": null,
   "metadata": {},
   "outputs": [],
   "source": []
  }
 ],
 "metadata": {
  "kernelspec": {
   "display_name": "Python 3",
   "language": "python",
   "name": "python3"
  },
  "language_info": {
   "codemirror_mode": {
    "name": "ipython",
    "version": 3
   },
   "file_extension": ".py",
   "mimetype": "text/x-python",
   "name": "python",
   "nbconvert_exporter": "python",
   "pygments_lexer": "ipython3",
   "version": "3.6.8"
  }
 },
 "nbformat": 4,
 "nbformat_minor": 2
}
