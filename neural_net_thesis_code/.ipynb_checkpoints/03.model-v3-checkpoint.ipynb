{
 "cells": [
  {
   "cell_type": "code",
   "execution_count": 1,
   "metadata": {},
   "outputs": [],
   "source": [
    "#import all necessary liberty\n",
    "\n",
    "%matplotlib inline\n",
    "#import matplotlib.pyplot as plt\n",
    "from matplotlib import pyplot as plt\n",
    "import tensorflow as tf\n",
    "import numpy as np\n",
    "from sklearn.metrics import confusion_matrix\n",
    "\n",
    "import pandas as pd\n",
    "\n",
    "#missing value handle\n",
    "from sklearn.preprocessing import Imputer\n"
   ]
  },
  {
   "cell_type": "code",
   "execution_count": 2,
   "metadata": {},
   "outputs": [
    {
     "data": {
      "text/plain": [
       "(302, 14)"
      ]
     },
     "execution_count": 2,
     "metadata": {},
     "output_type": "execute_result"
    }
   ],
   "source": [
    "#import csv data_set\n",
    "\n",
    "data_frame = pd.read_csv('./cleavland_data_weka.csv')\n",
    "\n",
    "d=data_frame\n",
    "\n",
    "data_frame.shape"
   ]
  },
  {
   "cell_type": "markdown",
   "metadata": {},
   "source": [
    "# Data preprocessing"
   ]
  },
  {
   "cell_type": "code",
   "execution_count": 3,
   "metadata": {},
   "outputs": [
    {
     "name": "stdout",
     "output_type": "stream",
     "text": [
      "False\n"
     ]
    }
   ],
   "source": [
    "print (data_frame.isnull().values.any())"
   ]
  },
  {
   "cell_type": "code",
   "execution_count": 4,
   "metadata": {},
   "outputs": [
    {
     "name": "stdout",
     "output_type": "stream",
     "text": [
      "False\n"
     ]
    }
   ],
   "source": [
    "# check if any data is messing(is NULL)\n",
    "\n",
    "data_frame.isnull()\n",
    "\n",
    "print (data_frame.isnull().values.any())"
   ]
  },
  {
   "cell_type": "code",
   "execution_count": 5,
   "metadata": {},
   "outputs": [
    {
     "name": "stderr",
     "output_type": "stream",
     "text": [
      "/home/sakib/anaconda3/lib/python3.6/site-packages/ipykernel_launcher.py:5: SettingWithCopyWarning: \n",
      "A value is trying to be set on a copy of a slice from a DataFrame\n",
      "\n",
      "See the caveats in the documentation: http://pandas.pydata.org/pandas-docs/stable/indexing.html#indexing-view-versus-copy\n",
      "  \"\"\"\n"
     ]
    }
   ],
   "source": [
    "#Replace messing value with NONE\n",
    "for i in range(len(data_frame)):\n",
    "    for key in data_frame:\n",
    "        if data_frame[key][i] == '?' :\n",
    "            data_frame[key][i] = None"
   ]
  },
  {
   "cell_type": "code",
   "execution_count": 6,
   "metadata": {},
   "outputs": [],
   "source": [
    "#Mapping the \"output\" values\n",
    "map_output = {\"yes\" : 1, \"no\" : 0,None:-20}\n",
    "\n",
    "#\tSetting\tthe\tmap\tto\tthe\tdata_frame \n",
    "data_frame['output/class']\t=\tdata_frame['output/class'].map(map_output)\n",
    "\n",
    "#data_frame['output/class']"
   ]
  },
  {
   "cell_type": "code",
   "execution_count": 7,
   "metadata": {},
   "outputs": [],
   "source": [
    "#Mapping \"gender\" feature\n",
    "map_output = {\"male\" : 1, \"female\" : 2,None:-20}\n",
    "\n",
    "#\tSetting\tthe\tmap\tto\tthe\tdata_frame \n",
    "data_frame['sex']\t=\tdata_frame['sex'].map(map_output)\n",
    "\n",
    "#data_frame['sex']"
   ]
  },
  {
   "cell_type": "code",
   "execution_count": 8,
   "metadata": {},
   "outputs": [],
   "source": [
    "#Mapping \"CP\" feature\n",
    "map_output = {\"non-anginal pain\" : 1, \"atypical angina\" : 2,\"typical angina\" : 3,None:-20}\n",
    "\n",
    "#\tSetting\tthe\tmap\tto\tthe\tdata_frame \n",
    "data_frame['cp']\t=\tdata_frame['cp'].map(map_output)\n",
    "\n",
    "#data_frame['cp']"
   ]
  },
  {
   "cell_type": "code",
   "execution_count": 9,
   "metadata": {},
   "outputs": [],
   "source": [
    "#Mapping the \"fbs\" values\n",
    "map_output = {True : 1, False : 0,None:-20}\n",
    "\n",
    "#\tSetting\tthe\tmap\tto\tthe\tdata_frame \n",
    "data_frame['fbs']\t=\tdata_frame['fbs'].map(map_output)\n",
    "\n",
    "#data_frame['fbs']"
   ]
  },
  {
   "cell_type": "code",
   "execution_count": 10,
   "metadata": {},
   "outputs": [],
   "source": [
    "#Mapping the \"restecg\" values\n",
    "map_output = {\"hypertrophy\" : 1, \"normal\" : 2,\"ST-T wave\":3,None:-20}\n",
    "\n",
    "#\tSetting\tthe\tmap\tto\tthe\tdata_frame \n",
    "data_frame['restecg']\t=\tdata_frame['restecg'].map(map_output)\n",
    "\n",
    "#data_frame['restecg']"
   ]
  },
  {
   "cell_type": "code",
   "execution_count": 11,
   "metadata": {},
   "outputs": [],
   "source": [
    "#Mapping the \"exang\" values\n",
    "map_output = {\"yes\" : 1, \"no\" : 0,None:-20}\n",
    "\n",
    "#\tSetting\tthe\tmap\tto\tthe\tdata_frame \n",
    "data_frame['exang']\t=\tdata_frame['exang'].map(map_output)\n",
    "\n",
    "#data_frame['exang']"
   ]
  },
  {
   "cell_type": "code",
   "execution_count": 12,
   "metadata": {},
   "outputs": [],
   "source": [
    "#Mapping the \"slope\" values\n",
    "map_output = {\"flat \" : 1, \"downsloping \" : 2,\"upsloping \":3,None:-20}\n",
    "\n",
    "#\tSetting\tthe\tmap\tto\tthe\tdata_frame \n",
    "data_frame['slope']\t=\tdata_frame['slope'].map(map_output)\n",
    "\n",
    "#data_frame['slope']"
   ]
  },
  {
   "cell_type": "code",
   "execution_count": 13,
   "metadata": {},
   "outputs": [],
   "source": [
    "def asd(x):\n",
    "    if(x==None):\n",
    "        return -20\n",
    "    else:\n",
    "        return x"
   ]
  },
  {
   "cell_type": "code",
   "execution_count": 14,
   "metadata": {},
   "outputs": [],
   "source": [
    "data_frame['ca']\t=\tdata_frame['ca'].apply(asd)"
   ]
  },
  {
   "cell_type": "code",
   "execution_count": null,
   "metadata": {},
   "outputs": [],
   "source": []
  },
  {
   "cell_type": "code",
   "execution_count": 15,
   "metadata": {},
   "outputs": [],
   "source": [
    "#Mapping the \"thal\" values\n",
    "map_output = {\"normal\" : 1, \"reversable \" : 2,\"fixed\":3,None:-20}\n",
    "\n",
    "#\tSetting\tthe\tmap\tto\tthe\tdata_frame \n",
    "data_frame['thal']\t=\tdata_frame['thal'].map(map_output)\n",
    "\n",
    "#data_frame['thal']"
   ]
  },
  {
   "cell_type": "code",
   "execution_count": null,
   "metadata": {},
   "outputs": [],
   "source": []
  },
  {
   "cell_type": "code",
   "execution_count": null,
   "metadata": {},
   "outputs": [],
   "source": []
  },
  {
   "cell_type": "code",
   "execution_count": null,
   "metadata": {},
   "outputs": [],
   "source": []
  },
  {
   "cell_type": "code",
   "execution_count": null,
   "metadata": {},
   "outputs": [],
   "source": []
  },
  {
   "cell_type": "code",
   "execution_count": null,
   "metadata": {},
   "outputs": [],
   "source": []
  },
  {
   "cell_type": "code",
   "execution_count": 16,
   "metadata": {},
   "outputs": [],
   "source": [
    "#spliting dataset into traning set and test set\n",
    "\n",
    "from sklearn.model_selection import train_test_split"
   ]
  },
  {
   "cell_type": "code",
   "execution_count": 29,
   "metadata": {},
   "outputs": [],
   "source": [
    "\n",
    "feature_column_names = [\n",
    "    'age',\n",
    "    'sex',\n",
    "    'cp',\n",
    "    'trestbps',\n",
    "    'chol',\n",
    "    'fbs',\n",
    "    'restecg',\n",
    "    'thalach',\n",
    "    'exang',\n",
    "    'oldpeak',\n",
    "    'slope',\n",
    "    'ca',\n",
    "    'thal']\n",
    "\n",
    "predicted_class_name = ['output/class']\n",
    "\n",
    "#spliting the dataset\n",
    "# Getting feature variable values\n",
    "\n",
    "X = data_frame[feature_column_names].values\n",
    "y = data_frame[predicted_class_name].values\n",
    "\n",
    "# Saving 30% for testing\n",
    "split_test_size = 20\n",
    "\n",
    "# Splitting using scikit-learn train_test_split function\n",
    "#x is the feature\n",
    "#y is the classification output\n",
    "\n",
    "X_train, X_test, y_train, y_test = train_test_split(X, y, test_size = split_test_size, random_state = 42)"
   ]
  },
  {
   "cell_type": "code",
   "execution_count": 30,
   "metadata": {},
   "outputs": [],
   "source": [
    "#missing value handle\n",
    "from sklearn.preprocessing import Imputer"
   ]
  },
  {
   "cell_type": "code",
   "execution_count": 31,
   "metadata": {},
   "outputs": [
    {
     "name": "stderr",
     "output_type": "stream",
     "text": [
      "/home/sakib/.local/lib/python3.6/site-packages/sklearn/utils/deprecation.py:58: DeprecationWarning: Class Imputer is deprecated; Imputer was deprecated in version 0.20 and will be removed in 0.22. Import impute.SimpleImputer from sklearn instead.\n",
      "  warnings.warn(msg, category=DeprecationWarning)\n"
     ]
    }
   ],
   "source": [
    "#Impute with mean all 0 readings(replacing messing value)\n",
    "\n",
    "fill_0 = Imputer(missing_values=-20, strategy=\"median\", axis=0)\n",
    "\n",
    "#fill_0 = Imputer(missing_values=0, strategy=\"mean\", axis=0)\n",
    "\n",
    "X_train = fill_0.fit_transform(X_train)\n",
    "X_test = fill_0.fit_transform(X_test)"
   ]
  },
  {
   "cell_type": "code",
   "execution_count": null,
   "metadata": {},
   "outputs": [],
   "source": []
  },
  {
   "cell_type": "code",
   "execution_count": null,
   "metadata": {},
   "outputs": [],
   "source": []
  },
  {
   "cell_type": "code",
   "execution_count": 32,
   "metadata": {},
   "outputs": [
    {
     "name": "stdout",
     "output_type": "stream",
     "text": [
      "Number of True Cases: 139 (46.03%)\n",
      "Number of False Cases: 163 (53.97%)\n"
     ]
    }
   ],
   "source": [
    "#total true class and false class count\n",
    "#ratio calculate\n",
    "\n",
    "# Pythonic Way\n",
    "num_true = len(data_frame.loc[data_frame['output/class'] == True])\n",
    "num_false = len(data_frame.loc[data_frame['output/class'] == False])\n",
    "print (\"Number of True Cases: {0} ({1:2.2f}%)\".format(num_true, ((num_true / (num_true + num_false)) * 100)))\n",
    "print (\"Number of False Cases: {0} ({1:2.2f}%)\".format(num_false, ((num_false / (num_true + num_false)) * 100)))"
   ]
  },
  {
   "cell_type": "markdown",
   "metadata": {},
   "source": [
    "# Neural network \n",
    "#feed the data"
   ]
  },
  {
   "cell_type": "code",
   "execution_count": 46,
   "metadata": {},
   "outputs": [],
   "source": [
    "#hyparameter\n",
    "\n",
    "n_input = 13\n",
    "n_hiddenL1 = 7\n",
    "n_hiddenL2 = 7\n",
    "n_output = 1\n",
    "learning_rate = .1\n",
    "\n",
    "x = tf.placeholder(tf.float32)\n",
    "y = tf.placeholder(tf.float32)\n",
    "\n",
    "w1 = tf.Variable(tf.random_uniform([n_input,n_hiddenL1],-1.0,1.0 ))\n",
    "w2 = tf.Variable(tf.random_uniform([n_hiddenL1,n_hiddenL2],-1.0,1.0 ))\n",
    "w3 = tf.Variable(tf.random_uniform([n_hiddenL2,n_output],-1.0,1.0 ))\n",
    "\n",
    "\n",
    "b1 = tf.Variable(tf.zeros([n_hiddenL1]),name = \"Bias1\")\n",
    "b1 = tf.Variable(tf.random_uniform([n_hiddenL2],-1.0,1.0 ))\n",
    "b2 = tf.Variable(tf.zeros([n_hiddenL1]),name = \"Bias2\")\n",
    "b3 = tf.Variable(tf.zeros([n_hiddenL1]),name = \"Bias3\")\n",
    "\n"
   ]
  },
  {
   "cell_type": "code",
   "execution_count": 47,
   "metadata": {},
   "outputs": [
    {
     "name": "stdout",
     "output_type": "stream",
     "text": [
      "[-0.7374077  -0.47533607  0.8433943  -0.9808514   0.37027407  0.82299805\n",
      "  0.53552413]\n"
     ]
    }
   ],
   "source": [
    "init = tf.initialize_all_variables()\n",
    "with tf.Session() as session:\n",
    "    session.run(init)\n",
    "    print(session.run(b1))"
   ]
  },
  {
   "cell_type": "code",
   "execution_count": 34,
   "metadata": {},
   "outputs": [],
   "source": [
    "#hidden layer 1\n",
    "l1 = tf.sigmoid(tf.matmul(x,w1)+b1)\n",
    "\n",
    "#hidden layer 2\n",
    "l2 = tf.sigmoid(tf.matmul(l1,w2)+b2)\n",
    "\n",
    "#hypothesis\n",
    "hy = tf.sigmoid(tf.matmul(l2,w3)+b3)"
   ]
  },
  {
   "cell_type": "code",
   "execution_count": 35,
   "metadata": {},
   "outputs": [],
   "source": [
    "cost = tf.reduce_mean(-y*tf.log(hy) - (1-y)*tf.log(1-hy))\n",
    "\n",
    "optimizer = tf.train.GradientDescentOptimizer(learning_rate).minimize(cost)\n"
   ]
  },
  {
   "cell_type": "code",
   "execution_count": 36,
   "metadata": {},
   "outputs": [],
   "source": [
    "init = tf.initialize_all_variables()"
   ]
  },
  {
   "cell_type": "code",
   "execution_count": 37,
   "metadata": {},
   "outputs": [
    {
     "name": "stdout",
     "output_type": "stream",
     "text": [
      "0.6929239\n",
      "0.6882089\n",
      "0.688209\n",
      "0.688209\n",
      "0.688209\n",
      "0.688209\n",
      "0.688209\n",
      "0.6882089\n",
      "0.6882089\n",
      "0.6882089\n",
      "[array([[0.45035464, 0.45035464, 0.45035464, ..., 0.45035464, 0.45035464,\n",
      "        0.45035464],\n",
      "       [0.45035464, 0.45035464, 0.45035464, ..., 0.45035464, 0.45035464,\n",
      "        0.45035464],\n",
      "       [0.45035464, 0.45035464, 0.45035464, ..., 0.45035464, 0.45035464,\n",
      "        0.45035464],\n",
      "       ...,\n",
      "       [0.45035464, 0.45035464, 0.45035464, ..., 0.45035464, 0.45035464,\n",
      "        0.45035464],\n",
      "       [0.45035464, 0.45035464, 0.45035464, ..., 0.45035464, 0.45035464,\n",
      "        0.45035464],\n",
      "       [0.45035464, 0.45035464, 0.45035464, ..., 0.45035464, 0.45035464,\n",
      "        0.45035464]], dtype=float32)]\n",
      "accuracy:  54.96453642845154 %\n"
     ]
    }
   ],
   "source": [
    "epochs = 10000\n",
    "with tf.Session() as session:\n",
    "    session.run(init)\n",
    "    \n",
    "    for step in range(epochs):\n",
    "        session.run(optimizer,feed_dict={x:X_train,y:y_train})\n",
    "        if step%1000 == 0:\n",
    "            print( session.run(cost,feed_dict={x:X_train,y:y_train}))\n",
    "    answer = tf.equal(tf.floor(hy+.05),y)\n",
    "    \n",
    "    accuracy = tf.reduce_mean(tf.cast(answer,\"float\"))\n",
    "    \n",
    "    print( session.run([hy],feed_dict={x:X_train,y:y_train}))\n",
    "    print(\"accuracy: \",accuracy.eval({x:X_train,y:y_train})*100,\"%\")"
   ]
  },
  {
   "cell_type": "markdown",
   "metadata": {},
   "source": [
    "# Accuracy & Performance"
   ]
  },
  {
   "cell_type": "code",
   "execution_count": 28,
   "metadata": {},
   "outputs": [],
   "source": [
    "#new"
   ]
  },
  {
   "cell_type": "code",
   "execution_count": null,
   "metadata": {},
   "outputs": [],
   "source": []
  },
  {
   "cell_type": "code",
   "execution_count": null,
   "metadata": {},
   "outputs": [],
   "source": []
  },
  {
   "cell_type": "code",
   "execution_count": null,
   "metadata": {},
   "outputs": [],
   "source": []
  },
  {
   "cell_type": "code",
   "execution_count": null,
   "metadata": {},
   "outputs": [],
   "source": []
  }
 ],
 "metadata": {
  "kernelspec": {
   "display_name": "Python 3",
   "language": "python",
   "name": "python3"
  },
  "language_info": {
   "codemirror_mode": {
    "name": "ipython",
    "version": 3
   },
   "file_extension": ".py",
   "mimetype": "text/x-python",
   "name": "python",
   "nbconvert_exporter": "python",
   "pygments_lexer": "ipython3",
   "version": "3.6.8"
  }
 },
 "nbformat": 4,
 "nbformat_minor": 2
}
