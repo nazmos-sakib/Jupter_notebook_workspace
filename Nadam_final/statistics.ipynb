{
 "cells": [
  {
   "cell_type": "raw",
   "metadata": {},
   "source": [
    "data_frame\n",
    "#data_frame.to_csv(r'Path where you want to store the exported CSV file\\File Name.csv')\n",
    "export_csv = data_frame.to_csv (r'./export_dataframe.csv', index = None, header=True)"
   ]
  },
  {
   "cell_type": "code",
   "execution_count": 2,
   "metadata": {},
   "outputs": [
    {
     "name": "stderr",
     "output_type": "stream",
     "text": [
      "Using TensorFlow backend.\n"
     ]
    }
   ],
   "source": [
    "#import all necessary liberty\n",
    "\n",
    "%matplotlib inline\n",
    "#import matplotlib.pyplot as plt\n",
    "from matplotlib import pyplot as plt\n",
    "import tensorflow as tf\n",
    "import numpy as np\n",
    "\n",
    "\n",
    "from scipy.stats import zscore\n",
    "\n",
    "import pandas as pd\n",
    "\n",
    "#missing value handle\n",
    "from sklearn.preprocessing import Imputer\n",
    "\n",
    "#To shuffle the data set\n",
    "from sklearn.utils import shuffle\n",
    "#spliting dataset into traning set and test set\n",
    "from sklearn.model_selection import train_test_split\n",
    "from sklearn import metrics\n",
    "from sklearn.metrics import confusion_matrix\n",
    "from sklearn import metrics\n",
    "from sklearn.model_selection import KFold\n",
    "from sklearn.metrics import classification_report\n",
    "\n",
    "\n",
    "\n",
    "from keras.layers import Dense\n",
    "from keras.layers import Activation\n",
    "from keras.layers import Dropout\n",
    "from keras import optimizers\n",
    "from keras import losses\n",
    "from keras.optimizers import SGD, Adagrad, Adadelta, RMSprop, Adam\n",
    "\n",
    "import keras\n",
    "from keras import backend as K\n",
    "from keras.datasets import cifar10\n",
    "from keras.utils import np_utils\n",
    "from keras.models import Sequential\n",
    "from keras.layers import Dense, Dropout, Flatten\n",
    "from keras.layers import Conv2D, MaxPooling2D\n",
    "from keras.models import model_from_json\n",
    "from keras.callbacks import LearningRateScheduler\n",
    "\n",
    "\n",
    "import csv\n",
    "\n",
    "import itertools\n",
    "\n",
    "import os\n",
    "\n",
    "\n",
    "import pandas as pd\n",
    "import io\n",
    "import requests\n"
   ]
  },
  {
   "cell_type": "code",
   "execution_count": 3,
   "metadata": {},
   "outputs": [
    {
     "data": {
      "text/plain": [
       "(834, 17)"
      ]
     },
     "execution_count": 3,
     "metadata": {},
     "output_type": "execute_result"
    }
   ],
   "source": [
    "#import csv data_set\n",
    "\n",
    "data_frame = pd.read_csv('./export_dataframe.csv',na_values=['NA','?'])\n",
    "#data_frame = pd.read_csv('./data-withoutapp.csv')\n",
    "df=data_frame\n",
    "\n",
    "data_frame.shape"
   ]
  },
  {
   "cell_type": "code",
   "execution_count": 4,
   "metadata": {},
   "outputs": [
    {
     "data": {
      "text/plain": [
       "Index(['Age', 'Sex', 'Smoking', 'HTN', 'DLP', 'DM', 'Physical Exercise',\n",
       "       'Family History', 'Drug History', 'Psychological Stress', 'Chest Pain',\n",
       "       'Dyspnea', 'Palpitation', 'ECG', 'IHD-HeartAttack', 'yes', 'no'],\n",
       "      dtype='object')"
      ]
     },
     "execution_count": 4,
     "metadata": {},
     "output_type": "execute_result"
    }
   ],
   "source": [
    "data_frame.columns"
   ]
  },
  {
   "cell_type": "code",
   "execution_count": 5,
   "metadata": {},
   "outputs": [
    {
     "data": {
      "text/plain": [
       "Age                     0\n",
       "Sex                     0\n",
       "Smoking                 0\n",
       "HTN                     0\n",
       "DLP                     0\n",
       "DM                      0\n",
       "Physical Exercise       0\n",
       "Family History          0\n",
       "Drug History            0\n",
       "Psychological Stress    0\n",
       "Chest Pain              0\n",
       "Dyspnea                 0\n",
       "Palpitation             0\n",
       "ECG                     0\n",
       "IHD-HeartAttack         0\n",
       "yes                     0\n",
       "no                      0\n",
       "dtype: int64"
      ]
     },
     "execution_count": 5,
     "metadata": {},
     "output_type": "execute_result"
    }
   ],
   "source": [
    "data_frame.isnull().sum()"
   ]
  },
  {
   "cell_type": "code",
   "execution_count": 6,
   "metadata": {},
   "outputs": [
    {
     "data": {
      "text/plain": [
       "1    502\n",
       "0    332\n",
       "Name: IHD-HeartAttack, dtype: int64"
      ]
     },
     "execution_count": 6,
     "metadata": {},
     "output_type": "execute_result"
    }
   ],
   "source": [
    "data_frame['IHD-HeartAttack'].value_counts(dropna=False)"
   ]
  },
  {
   "cell_type": "code",
   "execution_count": 8,
   "metadata": {},
   "outputs": [
    {
     "data": {
      "text/plain": [
       "1    638\n",
       "2    196\n",
       "Name: Sex, dtype: int64"
      ]
     },
     "execution_count": 8,
     "metadata": {},
     "output_type": "execute_result"
    }
   ],
   "source": [
    "data_frame['Sex'].value_counts(dropna=False)"
   ]
  },
  {
   "cell_type": "code",
   "execution_count": 17,
   "metadata": {},
   "outputs": [
    {
     "name": "stdout",
     "output_type": "stream",
     "text": [
      "male 404\n",
      "female 98\n"
     ]
    }
   ],
   "source": [
    "male_IHD = 0\n",
    "female_IHD = 0\n",
    "for i in range(len(data_frame)):\n",
    "    if(data_frame['Sex'][i]==1 and data_frame['IHD-HeartAttack'][i]==1):\n",
    "        male_IHD = male_IHD + 1\n",
    "    if(data_frame['Sex'][i]==2 and data_frame['IHD-HeartAttack'][i]==1):\n",
    "        female_IHD = female_IHD + 1\n",
    "\n",
    "print(\"male\",male_IHD)\n",
    "print(\"female\",female_IHD)"
   ]
  },
  {
   "cell_type": "code",
   "execution_count": 18,
   "metadata": {},
   "outputs": [
    {
     "data": {
      "text/plain": [
       "0    504\n",
       "1    245\n",
       "2     85\n",
       "Name: Smoking, dtype: int64"
      ]
     },
     "execution_count": 18,
     "metadata": {},
     "output_type": "execute_result"
    }
   ],
   "source": [
    "data_frame['Smoking'].value_counts(dropna=False)"
   ]
  },
  {
   "cell_type": "code",
   "execution_count": 19,
   "metadata": {},
   "outputs": [
    {
     "name": "stdout",
     "output_type": "stream",
     "text": [
      "NO_IHD 264\n",
      "YES_IHD 181\n",
      "EX_IHD 57\n"
     ]
    }
   ],
   "source": [
    "NO_IHD = 0\n",
    "YES_IHD = 0\n",
    "EX_IHD = 0\n",
    "for i in range(len(data_frame)):\n",
    "    if(data_frame['Smoking'][i]==0 and data_frame['IHD-HeartAttack'][i]==1):\n",
    "        NO_IHD = NO_IHD + 1\n",
    "    if(data_frame['Smoking'][i]==1 and data_frame['IHD-HeartAttack'][i]==1):\n",
    "        YES_IHD = YES_IHD + 1\n",
    "    if(data_frame['Smoking'][i]==2 and data_frame['IHD-HeartAttack'][i]==1):\n",
    "        EX_IHD = EX_IHD + 1\n",
    "\n",
    "print(\"NO_IHD\",NO_IHD)\n",
    "print(\"YES_IHD\",YES_IHD)\n",
    "print(\"EX_IHD\",EX_IHD)"
   ]
  },
  {
   "cell_type": "code",
   "execution_count": 20,
   "metadata": {},
   "outputs": [
    {
     "data": {
      "text/plain": [
       "1    463\n",
       "0    371\n",
       "Name: HTN, dtype: int64"
      ]
     },
     "execution_count": 20,
     "metadata": {},
     "output_type": "execute_result"
    }
   ],
   "source": [
    "data_frame['HTN'].value_counts(dropna=False)"
   ]
  },
  {
   "cell_type": "code",
   "execution_count": 31,
   "metadata": {},
   "outputs": [
    {
     "name": "stdout",
     "output_type": "stream",
     "text": [
      "NO_IHD 184\n",
      "YES_IHD 318\n"
     ]
    }
   ],
   "source": [
    "NO_IHD = 0\n",
    "YES_IHD = 0\n",
    "for i in range(len(data_frame)):\n",
    "    if(data_frame['HTN'][i]==0 and data_frame['IHD-HeartAttack'][i]==1):\n",
    "        NO_IHD = NO_IHD + 1\n",
    "    if(data_frame['HTN'][i]==1 and data_frame['IHD-HeartAttack'][i]==1):\n",
    "        YES_IHD = YES_IHD + 1\n",
    "\n",
    "print(\"NO_IHD\",NO_IHD)\n",
    "print(\"YES_IHD\",YES_IHD)"
   ]
  },
  {
   "cell_type": "code",
   "execution_count": 21,
   "metadata": {},
   "outputs": [
    {
     "data": {
      "text/plain": [
       "0    746\n",
       "1     88\n",
       "Name: DLP, dtype: int64"
      ]
     },
     "execution_count": 21,
     "metadata": {},
     "output_type": "execute_result"
    }
   ],
   "source": [
    "data_frame['DLP'].value_counts(dropna=False)"
   ]
  },
  {
   "cell_type": "code",
   "execution_count": 32,
   "metadata": {},
   "outputs": [
    {
     "name": "stdout",
     "output_type": "stream",
     "text": [
      "NO_IHD 440\n",
      "YES_IHD 62\n"
     ]
    }
   ],
   "source": [
    "NO_IHD = 0\n",
    "YES_IHD = 0\n",
    "for i in range(len(data_frame)):\n",
    "    if(data_frame['DLP'][i]==0 and data_frame['IHD-HeartAttack'][i]==1):\n",
    "        NO_IHD = NO_IHD + 1\n",
    "    if(data_frame['DLP'][i]==1 and data_frame['IHD-HeartAttack'][i]==1):\n",
    "        YES_IHD = YES_IHD + 1\n",
    "\n",
    "print(\"NO_IHD\",NO_IHD)\n",
    "print(\"YES_IHD\",YES_IHD)"
   ]
  },
  {
   "cell_type": "code",
   "execution_count": 22,
   "metadata": {},
   "outputs": [
    {
     "data": {
      "text/plain": [
       "0    551\n",
       "1    283\n",
       "Name: DM, dtype: int64"
      ]
     },
     "execution_count": 22,
     "metadata": {},
     "output_type": "execute_result"
    }
   ],
   "source": [
    "data_frame['DM'].value_counts(dropna=False)"
   ]
  },
  {
   "cell_type": "code",
   "execution_count": 33,
   "metadata": {},
   "outputs": [
    {
     "name": "stdout",
     "output_type": "stream",
     "text": [
      "NO_IHD 301\n",
      "YES_IHD 201\n"
     ]
    }
   ],
   "source": [
    "NO_IHD = 0\n",
    "YES_IHD = 0\n",
    "for i in range(len(data_frame)):\n",
    "    if(data_frame['DM'][i]==0 and data_frame['IHD-HeartAttack'][i]==1):\n",
    "        NO_IHD = NO_IHD + 1\n",
    "    if(data_frame['DM'][i]==1 and data_frame['IHD-HeartAttack'][i]==1):\n",
    "        YES_IHD = YES_IHD + 1\n",
    "\n",
    "print(\"NO_IHD\",NO_IHD)\n",
    "print(\"YES_IHD\",YES_IHD)"
   ]
  },
  {
   "cell_type": "code",
   "execution_count": 23,
   "metadata": {},
   "outputs": [
    {
     "data": {
      "text/plain": [
       "0    772\n",
       "1     62\n",
       "Name: Physical Exercise, dtype: int64"
      ]
     },
     "execution_count": 23,
     "metadata": {},
     "output_type": "execute_result"
    }
   ],
   "source": [
    "data_frame['Physical Exercise'].value_counts(dropna=False)"
   ]
  },
  {
   "cell_type": "code",
   "execution_count": 34,
   "metadata": {},
   "outputs": [
    {
     "name": "stdout",
     "output_type": "stream",
     "text": [
      "NO_IHD 473\n",
      "YES_IHD 29\n"
     ]
    }
   ],
   "source": [
    "NO_IHD = 0\n",
    "YES_IHD = 0\n",
    "for i in range(len(data_frame)):\n",
    "    if(data_frame['Physical Exercise'][i]==0 and data_frame['IHD-HeartAttack'][i]==1):\n",
    "        NO_IHD = NO_IHD + 1\n",
    "    if(data_frame['Physical Exercise'][i]==1 and data_frame['IHD-HeartAttack'][i]==1):\n",
    "        YES_IHD = YES_IHD + 1\n",
    "\n",
    "print(\"NO_IHD\",NO_IHD)\n",
    "print(\"YES_IHD\",YES_IHD)"
   ]
  },
  {
   "cell_type": "code",
   "execution_count": 24,
   "metadata": {},
   "outputs": [
    {
     "data": {
      "text/plain": [
       "0    557\n",
       "1    277\n",
       "Name: Family History, dtype: int64"
      ]
     },
     "execution_count": 24,
     "metadata": {},
     "output_type": "execute_result"
    }
   ],
   "source": [
    "data_frame['Family History'].value_counts(dropna=False)"
   ]
  },
  {
   "cell_type": "code",
   "execution_count": 35,
   "metadata": {},
   "outputs": [
    {
     "name": "stdout",
     "output_type": "stream",
     "text": [
      "NO_IHD 354\n",
      "YES_IHD 148\n"
     ]
    }
   ],
   "source": [
    "NO_IHD = 0\n",
    "YES_IHD = 0\n",
    "for i in range(len(data_frame)):\n",
    "    if(data_frame['Family History'][i]==0 and data_frame['IHD-HeartAttack'][i]==1):\n",
    "        NO_IHD = NO_IHD + 1\n",
    "    if(data_frame['Family History'][i]==1 and data_frame['IHD-HeartAttack'][i]==1):\n",
    "        YES_IHD = YES_IHD + 1\n",
    "\n",
    "print(\"NO_IHD\",NO_IHD)\n",
    "print(\"YES_IHD\",YES_IHD)"
   ]
  },
  {
   "cell_type": "code",
   "execution_count": 25,
   "metadata": {},
   "outputs": [
    {
     "data": {
      "text/plain": [
       "1    533\n",
       "0    301\n",
       "Name: Drug History, dtype: int64"
      ]
     },
     "execution_count": 25,
     "metadata": {},
     "output_type": "execute_result"
    }
   ],
   "source": [
    "data_frame['Drug History'].value_counts(dropna=False)"
   ]
  },
  {
   "cell_type": "code",
   "execution_count": 36,
   "metadata": {},
   "outputs": [
    {
     "name": "stdout",
     "output_type": "stream",
     "text": [
      "NO_IHD 135\n",
      "YES_IHD 367\n"
     ]
    }
   ],
   "source": [
    "NO_IHD = 0\n",
    "YES_IHD = 0\n",
    "for i in range(len(data_frame)):\n",
    "    if(data_frame['Drug History'][i]==0 and data_frame['IHD-HeartAttack'][i]==1):\n",
    "        NO_IHD = NO_IHD + 1\n",
    "    if(data_frame['Drug History'][i]==1 and data_frame['IHD-HeartAttack'][i]==1):\n",
    "        YES_IHD = YES_IHD + 1\n",
    "\n",
    "print(\"NO_IHD\",NO_IHD)\n",
    "print(\"YES_IHD\",YES_IHD)"
   ]
  },
  {
   "cell_type": "code",
   "execution_count": 26,
   "metadata": {},
   "outputs": [
    {
     "data": {
      "text/plain": [
       "0    676\n",
       "1    158\n",
       "Name: Psychological Stress, dtype: int64"
      ]
     },
     "execution_count": 26,
     "metadata": {},
     "output_type": "execute_result"
    }
   ],
   "source": [
    "data_frame['Psychological Stress'].value_counts(dropna=False)"
   ]
  },
  {
   "cell_type": "code",
   "execution_count": 37,
   "metadata": {},
   "outputs": [
    {
     "name": "stdout",
     "output_type": "stream",
     "text": [
      "NO_IHD 403\n",
      "YES_IHD 99\n"
     ]
    }
   ],
   "source": [
    "NO_IHD = 0\n",
    "YES_IHD = 0\n",
    "for i in range(len(data_frame)):\n",
    "    if(data_frame['Psychological Stress'][i]==0 and data_frame['IHD-HeartAttack'][i]==1):\n",
    "        NO_IHD = NO_IHD + 1\n",
    "    if(data_frame['Psychological Stress'][i]==1 and data_frame['IHD-HeartAttack'][i]==1):\n",
    "        YES_IHD = YES_IHD + 1\n",
    "\n",
    "print(\"NO_IHD\",NO_IHD)\n",
    "print(\"YES_IHD\",YES_IHD)"
   ]
  },
  {
   "cell_type": "code",
   "execution_count": 27,
   "metadata": {},
   "outputs": [
    {
     "data": {
      "text/plain": [
       "1    491\n",
       "0    343\n",
       "Name: Chest Pain, dtype: int64"
      ]
     },
     "execution_count": 27,
     "metadata": {},
     "output_type": "execute_result"
    }
   ],
   "source": [
    "data_frame['Chest Pain'].value_counts(dropna=False)"
   ]
  },
  {
   "cell_type": "code",
   "execution_count": 38,
   "metadata": {},
   "outputs": [
    {
     "name": "stdout",
     "output_type": "stream",
     "text": [
      "NO_IHD 146\n",
      "YES_IHD 356\n"
     ]
    }
   ],
   "source": [
    "NO_IHD = 0\n",
    "YES_IHD = 0\n",
    "for i in range(len(data_frame)):\n",
    "    if(data_frame['Chest Pain'][i]==0 and data_frame['IHD-HeartAttack'][i]==1):\n",
    "        NO_IHD = NO_IHD + 1\n",
    "    if(data_frame['Chest Pain'][i]==1 and data_frame['IHD-HeartAttack'][i]==1):\n",
    "        YES_IHD = YES_IHD + 1\n",
    "\n",
    "print(\"NO_IHD\",NO_IHD)\n",
    "print(\"YES_IHD\",YES_IHD)"
   ]
  },
  {
   "cell_type": "code",
   "execution_count": 28,
   "metadata": {},
   "outputs": [
    {
     "data": {
      "text/plain": [
       "0    544\n",
       "1    290\n",
       "Name: Dyspnea, dtype: int64"
      ]
     },
     "execution_count": 28,
     "metadata": {},
     "output_type": "execute_result"
    }
   ],
   "source": [
    "data_frame['Dyspnea'].value_counts(dropna=False)"
   ]
  },
  {
   "cell_type": "code",
   "execution_count": 39,
   "metadata": {},
   "outputs": [
    {
     "name": "stdout",
     "output_type": "stream",
     "text": [
      "NO_IHD 316\n",
      "YES_IHD 186\n"
     ]
    }
   ],
   "source": [
    "NO_IHD = 0\n",
    "YES_IHD = 0\n",
    "for i in range(len(data_frame)):\n",
    "    if(data_frame['Dyspnea'][i]==0 and data_frame['IHD-HeartAttack'][i]==1):\n",
    "        NO_IHD = NO_IHD + 1\n",
    "    if(data_frame['Dyspnea'][i]==1 and data_frame['IHD-HeartAttack'][i]==1):\n",
    "        YES_IHD = YES_IHD + 1\n",
    "\n",
    "print(\"NO_IHD\",NO_IHD)\n",
    "print(\"YES_IHD\",YES_IHD)"
   ]
  },
  {
   "cell_type": "code",
   "execution_count": 40,
   "metadata": {},
   "outputs": [
    {
     "data": {
      "text/plain": [
       "0    685\n",
       "1    149\n",
       "Name: Palpitation, dtype: int64"
      ]
     },
     "execution_count": 40,
     "metadata": {},
     "output_type": "execute_result"
    }
   ],
   "source": [
    "data_frame['Palpitation'].value_counts(dropna=False)"
   ]
  },
  {
   "cell_type": "code",
   "execution_count": 41,
   "metadata": {},
   "outputs": [
    {
     "name": "stdout",
     "output_type": "stream",
     "text": [
      "NO_IHD 438\n",
      "YES_IHD 64\n"
     ]
    }
   ],
   "source": [
    "NO_IHD = 0\n",
    "YES_IHD = 0\n",
    "for i in range(len(data_frame)):\n",
    "    if(data_frame['Palpitation'][i]==0 and data_frame['IHD-HeartAttack'][i]==1):\n",
    "        NO_IHD = NO_IHD + 1\n",
    "    if(data_frame['Palpitation'][i]==1 and data_frame['IHD-HeartAttack'][i]==1):\n",
    "        YES_IHD = YES_IHD + 1\n",
    "\n",
    "print(\"NO_IHD\",NO_IHD)\n",
    "print(\"YES_IHD\",YES_IHD)"
   ]
  },
  {
   "cell_type": "code",
   "execution_count": 30,
   "metadata": {},
   "outputs": [
    {
     "data": {
      "text/plain": [
       "1    554\n",
       "0    280\n",
       "Name: ECG, dtype: int64"
      ]
     },
     "execution_count": 30,
     "metadata": {},
     "output_type": "execute_result"
    }
   ],
   "source": [
    "data_frame['ECG'].value_counts(dropna=False)"
   ]
  },
  {
   "cell_type": "code",
   "execution_count": 42,
   "metadata": {},
   "outputs": [
    {
     "name": "stdout",
     "output_type": "stream",
     "text": [
      "NO_IHD 41\n",
      "YES_IHD 461\n"
     ]
    }
   ],
   "source": [
    "NO_IHD = 0\n",
    "YES_IHD = 0\n",
    "for i in range(len(data_frame)):\n",
    "    if(data_frame['ECG'][i]==0 and data_frame['IHD-HeartAttack'][i]==1):\n",
    "        NO_IHD = NO_IHD + 1\n",
    "    if(data_frame['ECG'][i]==1 and data_frame['IHD-HeartAttack'][i]==1):\n",
    "        YES_IHD = YES_IHD + 1\n",
    "\n",
    "print(\"NO_IHD\",NO_IHD)\n",
    "print(\"YES_IHD\",YES_IHD)"
   ]
  },
  {
   "cell_type": "code",
   "execution_count": null,
   "metadata": {},
   "outputs": [],
   "source": []
  },
  {
   "cell_type": "code",
   "execution_count": null,
   "metadata": {},
   "outputs": [],
   "source": []
  },
  {
   "cell_type": "code",
   "execution_count": null,
   "metadata": {},
   "outputs": [],
   "source": []
  }
 ],
 "metadata": {
  "kernelspec": {
   "display_name": "Python 3",
   "language": "python",
   "name": "python3"
  },
  "language_info": {
   "codemirror_mode": {
    "name": "ipython",
    "version": 3
   },
   "file_extension": ".py",
   "mimetype": "text/x-python",
   "name": "python",
   "nbconvert_exporter": "python",
   "pygments_lexer": "ipython3",
   "version": "3.6.8"
  }
 },
 "nbformat": 4,
 "nbformat_minor": 2
}
