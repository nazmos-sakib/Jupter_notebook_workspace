{
 "cells": [
  {
   "cell_type": "code",
   "execution_count": 6,
   "metadata": {},
   "outputs": [
    {
     "name": "stderr",
     "output_type": "stream",
     "text": [
      "Using TensorFlow backend.\n"
     ]
    }
   ],
   "source": [
    "#import all necessary liberty\n",
    "\n",
    "%matplotlib inline\n",
    "#import matplotlib.pyplot as plt\n",
    "from matplotlib import pyplot as plt\n",
    "import tensorflow as tf\n",
    "import numpy as np\n",
    "\n",
    "import pandas as pd\n",
    "\n",
    "\n",
    "from keras.models import Sequential\n",
    "from keras.layers import Dense\n",
    "from keras.layers import Activation\n",
    "from keras.layers import Dropout\n",
    "from keras.optimizers import SGD\n",
    "from keras.optimizers import Adam\n",
    "#from sklearn.utils import shuffle\n",
    "import csv\n",
    "\n",
    "#spliting dataset into traning set and test set\n",
    "from sklearn.model_selection import train_test_split\n",
    "#missing value handle\n",
    "from sklearn.preprocessing import Imputer\n",
    "#To shuffle the data set\n",
    "from sklearn.utils import shuffle\n",
    "from sklearn.metrics import confusion_matrix\n",
    "from sklearn import metrics\n",
    "from sklearn.model_selection import KFold\n",
    "from sklearn.metrics import classification_report\n",
    "\n",
    "import itertools\n",
    "\n",
    "from scipy.stats import zscore\n",
    "\n",
    "import os\n"
   ]
  },
  {
   "cell_type": "code",
   "execution_count": 147,
   "metadata": {},
   "outputs": [],
   "source": [
    "class Neural_Network:\n",
    "    data_frame = []\n",
    "    df_after_shuffle = []\n",
    "    data_set = []\n",
    "    len_of_data_frame = []\n",
    "    actual_x = []\n",
    "    actual_y = []\n",
    "    test_x = []\n",
    "    test_y = []\n",
    "    train_x = []\n",
    "    train_y = []\n",
    "    predicted_result = []\n",
    "    rounded_predicted_result = []\n",
    "    kfold_validation_score_store = []\n",
    "    input_shape = 14\n",
    "    learning_rate = .0001\n",
    "    best_score = 0.0\n",
    "    score = []\n",
    "    cm = []\n",
    "    \n",
    "    def __init__(self,file_name):\n",
    "        self.data_frame = pd.read_csv(file_name, sep='\\t')\n",
    "        self.len_of_data_frame = len(self.data_frame)\n",
    "        \n",
    "        self.shuffle_the_data()\n",
    "        \n",
    "        \n",
    "    def shuffle_the_data(self):\n",
    "        #shuffle the data set\n",
    "        #np.random.seed(40)\n",
    "        self.df_after_shuffle = self.data_frame.reindex(np.random.permutation(self.data_frame.index))\n",
    "        self.df_after_shuffle.reset_index(inplace=True,drop=True)\n",
    "        \n",
    "        self.x_data_y_data_create()\n",
    "    \n",
    "    def x_data_y_data_create(self):\n",
    "        self.data_set = self.df_after_shuffle.values\n",
    "        self.actual_x = self.data_set[:,:14]\n",
    "        self.actual_y = self.data_set[:,14:]\n",
    "    \n",
    "    def cross_validation_model_training(self,n_Of_fold=10):\n",
    "        kf = KFold(n_Of_fold)\n",
    "        fold = 0\n",
    "        #self.best_score = self.score\n",
    "        terget_names = [\"NO\",\"YES\"]\n",
    "        \n",
    "        for train,test in kf.split(self.actual_x):\n",
    "            fold += 1\n",
    "            print(\"fold #{}\".format(fold))\n",
    "            self.train_x = self.actual_x[train]\n",
    "            self.train_y = self.actual_y[train]\n",
    "            self.test_x = self.actual_x[test]\n",
    "            self.test_y = self.actual_y[test]\n",
    "            \n",
    "            model = Sequential([\n",
    "            Dense(8,input_shape=(self.input_shape,),activation=\"relu\"),\n",
    "            Dense(7,activation=\"relu\"),\n",
    "            Dense(6,activation=\"relu\"),\n",
    "            Dense(2,activation=\"softmax\")\n",
    "            ])\n",
    "\n",
    "            model.compile(\n",
    "                Adam(lr=self.learning_rate),loss='sparse_categorical_crossentropy',metrics=['accuracy']\n",
    "            )\n",
    "            \n",
    "            \n",
    "            model.fit(self.train_x, self.train_y,\n",
    "                      validation_data = (self.test_x,self.test_y),\n",
    "                      batch_size=10,epochs=100,shuffle=True,verbose=0)\n",
    "            \n",
    "            #model.save(\"heart_attack_risk_prediction_fold_no_\"+str(fold)+\"_with_cross_validation.h5\")\n",
    "            \n",
    "            rounded_predections = model.predict_classes(self.test_x,batch_size=10,verbose=0)\n",
    "            self.rounded_predicted_result = rounded_predections\n",
    "            #pred = model.predict(self.test_x)\n",
    "            pred_class = model.predict_classes(self.test_x)\n",
    "            self.score = model.evaluate(self.test_x, self.test_y)\n",
    "            \n",
    "            if(self.best_score<self.score[1]):\n",
    "                self.best_score = self.score[1]\n",
    "                self.model = model\n",
    "            \n",
    "            self.kfold_validation_score_store.append(self.score)\n",
    "            \n",
    "            print(\"\\nFold {0} score : {1}\\n Score: {2}\".format(fold,self.score,self.best_score))\n",
    "            \n",
    "            #print(\"\\n\\n\")\n",
    "            \n",
    "            self.confussion_matrix_generator()\n",
    "            self.ROC_curve_generator()\n",
    "            \n",
    "            print(classification_report(pred_class,self.test_y,target_names=terget_names))\n",
    "            \n",
    "            self.performance()\n",
    "            \n",
    "            #print(\"\\n\\nnew\\n\\n\")\n",
    "            break\n",
    "            \n",
    "    def ROC_curve_generator(self):\n",
    "        #ROC curve\n",
    "\n",
    "        # calculate the fpr and tpr for all thresholds of the classification\n",
    "        probs = self.model.predict_proba(self.test_x)\n",
    "        preds = probs[:,1]\n",
    "        fpr, tpr, threshold = metrics.roc_curve(self.test_y, preds)\n",
    "        roc_auc = metrics.auc(fpr, tpr)\n",
    "\n",
    "        # method I: plt\n",
    "        import matplotlib.pyplot as plt\n",
    "        plt.title('Receiver Operating Characteristic')\n",
    "        plt.plot(fpr, tpr, 'b', label = 'AUC = %0.2f' % roc_auc)\n",
    "        plt.legend(loc = 'lower right')\n",
    "        plt.plot([0, 1], [0, 1],'r--')\n",
    "        plt.xlim([0, 1])\n",
    "        plt.ylim([0, 1])\n",
    "        plt.ylabel('True Positive Rate')\n",
    "        plt.xlabel('False Positive Rate')\n",
    "        plt.show()\n",
    "        \n",
    "    def confussion_matrix_generator(self):\n",
    "        #rounded_predections = self.model.predict_classes(self.test_x,batch_size=10,verbose=0)\n",
    "        cm = confusion_matrix(self.test_y,self.rounded_predicted_result)\n",
    "        self.cm = cm\n",
    "        cm_plot_labels = ['no side effects', 'have side effects']\n",
    "        self.plot_confusion_matrix(cm,cm_plot_labels,title='Confussion Matrix')\n",
    "\n",
    "        \n",
    "    def plot_confusion_matrix(self,cm, classes,\n",
    "                          normalize=False,\n",
    "                          title='Confusion matrix',\n",
    "                          cmap=plt.cm.Blues):\n",
    "        \"\"\"\n",
    "        This function prints and plots the confusion matrix.\n",
    "        Normalization can be applied by setting `normalize=True`.\n",
    "        \"\"\"\n",
    "        if normalize:\n",
    "            cm = cm.astype('float') / cm.sum(axis=1)[:, np.newaxis]\n",
    "            print(\"Normalized confusion matrix\")\n",
    "        else:\n",
    "            print('Confusion matrix, without normalization')\n",
    "\n",
    "        print(cm)\n",
    "\n",
    "        plt.imshow(cm, interpolation='nearest', cmap=cmap)\n",
    "        plt.title(title)\n",
    "        plt.colorbar()\n",
    "        tick_marks = np.arange(len(classes))\n",
    "        plt.xticks(tick_marks, classes, rotation=45)\n",
    "        plt.yticks(tick_marks, classes)\n",
    "\n",
    "        fmt = '.2f' if normalize else 'd'\n",
    "        thresh = cm.max() / 2.\n",
    "        for i, j in itertools.product(range(cm.shape[0]), range(cm.shape[1])):\n",
    "            plt.text(j, i, format(cm[i, j], fmt),\n",
    "                     horizontalalignment=\"center\",\n",
    "                     color=\"white\" if cm[i, j] > thresh else \"black\")\n",
    "\n",
    "        plt.ylabel('True label')\n",
    "        plt.xlabel('Predicted label')\n",
    "        plt.tight_layout()\n",
    "        \n",
    "    def performance(self):\n",
    "        TN = self.cm[0][0]\n",
    "        FP = self.cm[0][1]\n",
    "        FN = self.cm[1][0]\n",
    "        TP = self.cm[1][1]\n",
    "        \n",
    "        accuracy = (TP+TN)/83\n",
    "        print(\"accuracy: \",accuracy)\n",
    "\n",
    "        missclassafication_rate = 1-accuracy\n",
    "        print(\"missclassafication_rate: \",missclassafication_rate)\n",
    "\n",
    "        sensitivity = TP/(TP+FN)\n",
    "        print(\"Sensitivity/Recall: \",sensitivity)\n",
    "\n",
    "        spasificity = TN/(TN+FP)\n",
    "        print(\"Spacificity: \",spasificity)\n",
    "\n",
    "        precition = TP/(FP+TP)\n",
    "        print(\"Precition: \",precition)\n",
    "\n",
    "        prevalence = (FN+TP)/83\n",
    "        print(\"prevalence: \",prevalence)\n",
    "\n",
    "        PPV = TP/(TP+FP)\n",
    "        print(\"Positive Predicted Value: \",PPV)\n",
    "\n",
    "        NPV = TN/(TN+FN)\n",
    "        print(\"Negative Predicted Value: \",NPV)\n",
    "\n",
    "        beta = 0.5\n",
    "        f_score = 1/(beta*(1/precition)+(1-beta)*(1/sensitivity))\n",
    "        print(\"F Score: \",f_score)"
   ]
  },
  {
   "cell_type": "code",
   "execution_count": 148,
   "metadata": {},
   "outputs": [],
   "source": [
    "nn = Neural_Network('data.tab')"
   ]
  },
  {
   "cell_type": "code",
   "execution_count": 149,
   "metadata": {},
   "outputs": [
    {
     "data": {
      "text/plain": [
       "834"
      ]
     },
     "execution_count": 149,
     "metadata": {},
     "output_type": "execute_result"
    }
   ],
   "source": [
    "nn.len_of_data_frame"
   ]
  },
  {
   "cell_type": "code",
   "execution_count": 150,
   "metadata": {},
   "outputs": [],
   "source": [
    "nn.shuffle_the_data()"
   ]
  },
  {
   "cell_type": "code",
   "execution_count": null,
   "metadata": {},
   "outputs": [],
   "source": []
  },
  {
   "cell_type": "code",
   "execution_count": 151,
   "metadata": {},
   "outputs": [
    {
     "name": "stdout",
     "output_type": "stream",
     "text": [
      "fold #1\n",
      "84/84 [==============================] - 0s 149us/step\n",
      "\n",
      "Fold 1 score : [0.48199106681914555, 0.8333333276567005]\n",
      " Score: 0.8333333276567005\n",
      "Confusion matrix, without normalization\n",
      "[[16 12]\n",
      " [ 2 54]]\n"
     ]
    },
    {
     "data": {
      "image/png": "[encoded data removed]",
      "text/plain": [
       "<Figure size 432x288 with 2 Axes>"
      ]
     },
     "metadata": {
      "needs_background": "light"
     },
     "output_type": "display_data"
    },
    {
     "name": "stdout",
     "output_type": "stream",
     "text": [
      "              precision    recall  f1-score   support\n",
      "\n",
      "          NO       0.57      0.89      0.70        18\n",
      "         YES       0.96      0.82      0.89        66\n",
      "\n",
      "   micro avg       0.83      0.83      0.83        84\n",
      "   macro avg       0.77      0.85      0.79        84\n",
      "weighted avg       0.88      0.83      0.84        84\n",
      "\n",
      "accuracy:  0.8433734939759037\n",
      "missclassafication_rate:  0.15662650602409633\n",
      "Sensitivity/Recall:  0.9642857142857143\n",
      "Spacificity:  0.5714285714285714\n",
      "Precition:  0.8181818181818182\n",
      "prevalence:  0.6746987951807228\n",
      "Positive Predicted Value:  0.8181818181818182\n",
      "Negative Predicted Value:  0.8888888888888888\n",
      "F Score:  0.8852459016393444\n"
     ]
    }
   ],
   "source": [
    "nn.cross_validation_model_training()"
   ]
  },
  {
   "cell_type": "code",
   "execution_count": 118,
   "metadata": {},
   "outputs": [
    {
     "data": {
      "text/plain": [
       "0.8554216831563467"
      ]
     },
     "execution_count": 118,
     "metadata": {},
     "output_type": "execute_result"
    }
   ],
   "source": [
    "nn.best_score"
   ]
  },
  {
   "cell_type": "code",
   "execution_count": 119,
   "metadata": {},
   "outputs": [
    {
     "data": {
      "text/plain": [
       "[[0.560037300700233, 0.7857142885526022],\n",
       " [0.5306575993696848, 0.7619047647430783],\n",
       " [0.5493174166906447, 0.726190481867109],\n",
       " [0.5666189364024571, 0.761904756228129],\n",
       " [0.45761259205370064, 0.8554216831563467],\n",
       " [0.5623444096151605, 0.7951807257640793],\n",
       " [0.49483235772833767, 0.8072289156626506],\n",
       " [0.49225867871778556, 0.8433735004390579],\n",
       " [0.43933174911751804, 0.8554216831563467],\n",
       " [0.567629389016025, 0.7469879460622029]]"
      ]
     },
     "execution_count": 119,
     "metadata": {},
     "output_type": "execute_result"
    }
   ],
   "source": [
    "nn.kfold_validation_score_store"
   ]
  },
  {
   "cell_type": "code",
   "execution_count": 120,
   "metadata": {},
   "outputs": [],
   "source": [
    "#nn.model.get_weights()"
   ]
  },
  {
   "cell_type": "code",
   "execution_count": 121,
   "metadata": {},
   "outputs": [
    {
     "name": "stdout",
     "output_type": "stream",
     "text": [
      "83/83 [==============================] - 0s 167us/step\n"
     ]
    },
    {
     "data": {
      "text/plain": [
       "[0.43886585838823433, 0.8433735004390579]"
      ]
     },
     "execution_count": 121,
     "metadata": {},
     "output_type": "execute_result"
    }
   ],
   "source": [
    "nn.model.evaluate(nn.test_x,nn.test_y)"
   ]
  },
  {
   "cell_type": "code",
   "execution_count": 122,
   "metadata": {},
   "outputs": [
    {
     "name": "stdout",
     "output_type": "stream",
     "text": [
      "834/834 [==============================] - 0s 153us/step\n"
     ]
    },
    {
     "data": {
      "text/plain": [
       "[0.4574988444360326, 0.8261390887290168]"
      ]
     },
     "execution_count": 122,
     "metadata": {},
     "output_type": "execute_result"
    }
   ],
   "source": [
    "nn.model.evaluate(nn.actual_x,nn.actual_y)"
   ]
  },
  {
   "cell_type": "code",
   "execution_count": 123,
   "metadata": {},
   "outputs": [
    {
     "data": {
      "image/png": "[encoded data removed]",
      "text/plain": [
       "<Figure size 432x288 with 1 Axes>"
      ]
     },
     "metadata": {
      "needs_background": "light"
     },
     "output_type": "display_data"
    }
   ],
   "source": [
    "nn.ROC_curve_generetor()"
   ]
  },
  {
   "cell_type": "code",
   "execution_count": 145,
   "metadata": {},
   "outputs": [
    {
     "name": "stdout",
     "output_type": "stream",
     "text": [
      "Confusion matrix, without normalization\n",
      "[[17 16]\n",
      " [ 0 51]]\n"
     ]
    },
    {
     "data": {
      "image/png": "[encoded data removed]",
      "text/plain": [
       "<Figure size 432x288 with 2 Axes>"
      ]
     },
     "metadata": {
      "needs_background": "light"
     },
     "output_type": "display_data"
    }
   ],
   "source": [
    "rounded_predections = nn.model.predict_classes(nn.test_x,batch_size=10,verbose=0)\n",
    "cm = confusion_matrix(nn.test_y,rounded_predections)\n",
    "cm_plot_labels = ['no side effects', 'have side effects']\n",
    "nn.plot_confusion_matrix(cm,cm_plot_labels,title='Confussion Matrix')\n"
   ]
  },
  {
   "cell_type": "code",
   "execution_count": 146,
   "metadata": {},
   "outputs": [
    {
     "name": "stdout",
     "output_type": "stream",
     "text": [
      "Confusion matrix, without normalization\n",
      "[[17 16]\n",
      " [ 0 51]]\n"
     ]
    },
    {
     "data": {
      "image/png": "[encoded data removed]",
      "text/plain": [
       "<Figure size 432x288 with 2 Axes>"
      ]
     },
     "metadata": {
      "needs_background": "light"
     },
     "output_type": "display_data"
    }
   ],
   "source": [
    "nn.confussion_matrix_generator(nn.rounded_predicted_result)"
   ]
  },
  {
   "cell_type": "code",
   "execution_count": null,
   "metadata": {},
   "outputs": [],
   "source": []
  },
  {
   "cell_type": "code",
   "execution_count": null,
   "metadata": {},
   "outputs": [],
   "source": []
  },
  {
   "cell_type": "code",
   "execution_count": null,
   "metadata": {},
   "outputs": [],
   "source": []
  },
  {
   "cell_type": "code",
   "execution_count": null,
   "metadata": {},
   "outputs": [],
   "source": []
  }
 ],
 "metadata": {
  "kernelspec": {
   "display_name": "Python 3",
   "language": "python",
   "name": "python3"
  },
  "language_info": {
   "codemirror_mode": {
    "name": "ipython",
    "version": 3
   },
   "file_extension": ".py",
   "mimetype": "text/x-python",
   "name": "python",
   "nbconvert_exporter": "python",
   "pygments_lexer": "ipython3",
   "version": "3.6.8"
  }
 },
 "nbformat": 4,
 "nbformat_minor": 2
}
