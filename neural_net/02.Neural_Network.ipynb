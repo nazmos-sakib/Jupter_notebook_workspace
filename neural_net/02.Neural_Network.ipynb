{
 "cells": [
  {
   "cell_type": "code",
   "execution_count": 1,
   "metadata": {},
   "outputs": [],
   "source": [
    "%matplotlib inline"
   ]
  },
  {
   "cell_type": "code",
   "execution_count": 2,
   "metadata": {},
   "outputs": [],
   "source": [
    "from matplotlib import pyplot as plt\n",
    "import numpy as np"
   ]
  },
  {
   "cell_type": "code",
   "execution_count": 3,
   "metadata": {},
   "outputs": [],
   "source": [
    "#defining the data set\n",
    "#each point in length, width and type(0,1)\n",
    "trainedData = [[3,1.5,1],\n",
    "               [2,1,0],\n",
    "               [4,1.5,1],\n",
    "               [3,1,0],\n",
    "               [3.5,.5,1],\n",
    "               [2,.5,0],\n",
    "               [5.5,1,1],\n",
    "               [1,1,0]]\n",
    "\n",
    "testData = [4.5,1,1]"
   ]
  },
  {
   "cell_type": "raw",
   "metadata": {},
   "source": [
    "# network\n",
    "\n",
    "#     o   flower type\n",
    "#   /  \\  w1,w2\n",
    "#  o   o length,width"
   ]
  },
  {
   "cell_type": "code",
   "execution_count": null,
   "metadata": {},
   "outputs": [],
   "source": [
    "#activation function\n",
    "def sigmoid(z):\n",
    "    return 1/(1+np.exp(-z))\n",
    "\n",
    "#derivative of sigmoid with respect to z\n",
    "#also call sigmoid curve gradient\n",
    "def sigmoid_P(z):\n",
    "    return sigmoid(z)*(1-sigmoid(z))"
   ]
  },
  {
   "cell_type": "code",
   "execution_count": 6,
   "metadata": {},
   "outputs": [
    {
     "data": {
      "text/plain": [
       "[<matplotlib.lines.Line2D at 0x7fbd42446860>]"
      ]
     },
     "execution_count": 6,
     "metadata": {},
     "output_type": "execute_result"
    },
    {
     "data": {
      "image/png": "[encoded data removed]",
      "text/plain": [
       "<Figure size 432x288 with 1 Axes>"
      ]
     },
     "metadata": {
      "needs_background": "light"
     },
     "output_type": "display_data"
    }
   ],
   "source": [
    "#experement by ploting sigmoid graph\n",
    "T = np.linspace(-6,6,100)\n",
    "#print(T)\n",
    "y = sigmoid(T)\n",
    "y_P = sigmoid_P(T)\n",
    "#print(y)\n",
    "\n",
    "#for i in T:\n",
    " #   print (sigmoid(i), )\n",
    "    \n",
    "plt.plot(T,y,c='r')  #sigmoid graph\n",
    "plt.plot(T,y_P,c='B') #derivative of sigmoid graph"
   ]
  },
  {
   "cell_type": "code",
   "execution_count": 7,
   "metadata": {},
   "outputs": [
    {
     "data": {
      "image/png": "[encoded data removed]",
      "text/plain": [
       "<Figure size 432x288 with 1 Axes>"
      ]
     },
     "metadata": {
      "needs_background": "light"
     },
     "output_type": "display_data"
    }
   ],
   "source": [
    "#Scatter the data point\n",
    "\n",
    "plt.axis([0,6,0,6])\n",
    "plt.grid()\n",
    "\n",
    "for i in range(len(trainedData)):\n",
    "    point = trainedData[i]\n",
    "    color = 'r'\n",
    "    if point[2] == 0:\n",
    "        color = 'b'\n",
    "    plt.scatter(point[0],point[1],c=color)"
   ]
  },
  {
   "cell_type": "code",
   "execution_count": 37,
   "metadata": {},
   "outputs": [],
   "source": [
    "#initialize the learning rate, weight and the bias\n",
    "\n",
    "learningRate = 0.1\n",
    "\n",
    "w1 = np.random.randn()\n",
    "w2 = np.random.randn()\n",
    "b = np.random.randn()"
   ]
  },
  {
   "cell_type": "code",
   "execution_count": 38,
   "metadata": {},
   "outputs": [
    {
     "data": {
      "text/plain": [
       "[<matplotlib.lines.Line2D at 0x7fbd3b3e69e8>]"
      ]
     },
     "execution_count": 38,
     "metadata": {},
     "output_type": "execute_result"
    },
    {
     "data": {
      "image/png": "[encoded data removed]",
      "text/plain": [
       "<Figure size 432x288 with 1 Axes>"
      ]
     },
     "metadata": {
      "needs_background": "light"
     },
     "output_type": "display_data"
    }
   ],
   "source": [
    "#traning loop\n",
    "\n",
    "allCost = []\n",
    "allTotalCost = []\n",
    "\n",
    "for i in range(50000):\n",
    "    predectData = trainedData[np.random.randint(len(trainedData))]\n",
    "    z = predectData[0]*w1 + predectData[1]*w2 + b\n",
    "    #print(z)\n",
    "    predectResult = sigmoid(z)\n",
    "    \n",
    "    terget = predectData[2]\n",
    "    \n",
    "    cost = np.square(predectResult - terget)\n",
    "    \n",
    "    ''''\n",
    "    if i%1000 == 0:\n",
    "        print('predect-',predectResult)\n",
    "        print('cost-',cost,'\\n')\n",
    "     '''\n",
    "    \n",
    "    allCost.append(cost)   #appent the cost\n",
    "    \n",
    "    #calculation the total cost at the current weight and bias for all data point    \n",
    "    cost_sum = 0    \n",
    "    for i in range(len(trainedData)):\n",
    "        p = trainedData[i]\n",
    "        x = p[0]*w1 + p[1]*w2 + b\n",
    "        cost_sum += np.square(sigmoid(x) - terget)\n",
    "        \n",
    "    allTotalCost.append(cost_sum)\n",
    "    \n",
    "    \n",
    "    #calculating the derivative of the cost function with respect to peredectResult,z,w1,w2,b\n",
    "    \n",
    "    dCost_dPre = 2 * (predectResult - terget) #derivative of 'cost' function with respect to 'predect'\n",
    "    dPre_dZ = sigmoid_P(z)                    #derivative of  'predect result' (sigmoid function) with respect to 'z' \n",
    "    \n",
    "    dZ_dW1 = predectData[0]                   #derivative of 'z'(z = predectData[0]*w1 + predectData[1]*w2 + b) function with respect to 'w1' \n",
    "    dZ_dW2 = predectData[1]                   #derivative of 'z'(z = predectData[0]*w1 + predectData[1]*w2 + b) function with respect to 'w2'\n",
    "    dZ_dB = 1                                 #derivative of 'z'(z = predectData[0]*w1 + predectData[1]*w2 + b) function with respect to 'b'\n",
    "    \n",
    "    dCost_dW1 = dCost_dPre * dPre_dZ * dZ_dW1 #derivative of 'cost' function with respect to 'w1'\n",
    "    dCost_dW2 = dCost_dPre * dPre_dZ * dZ_dW2 #derivative of 'cost' function with respect to 'w2'\n",
    "    dCost_dB = dCost_dPre * dPre_dZ * dZ_dB  #derivative of 'cost' function with respect to 'b'\n",
    "    \n",
    "    dCost_dZ = dCost_dPre * dPre_dZ           #derivative of 'cost' function with respect to 'z'\n",
    "    \n",
    "    #dCost_dW1 = dCost_dZ * dZ_dW1\n",
    "    #dCost_dW2 = dCost_dZ * dZ_dW2\n",
    "    #dCost_dW1 = dCost_dZ * dZ_dB\n",
    "    \n",
    "    \n",
    "    #updating the weight\n",
    "    w1 = w1 - learningRate * dCost_dW1\n",
    "    w2 = w2 - learningRate * dCost_dW2\n",
    "    b = b - learningRate * dCost_dB\n",
    "    \n",
    "    #Adjust weight by = error*input*output*(1-output)\n"
   ]
  },
  {
   "cell_type": "code",
   "execution_count": 41,
   "metadata": {},
   "outputs": [
    {
     "data": {
      "text/plain": [
       "[<matplotlib.lines.Line2D at 0x7fbd3aefbe80>]"
      ]
     },
     "execution_count": 41,
     "metadata": {},
     "output_type": "execute_result"
    },
    {
     "data": {
      "image/png": "[encoded data removed]",
      "text/plain": [
       "<Figure size 432x288 with 1 Axes>"
      ]
     },
     "metadata": {
      "needs_background": "light"
     },
     "output_type": "display_data"
    }
   ],
   "source": [
    "plt.plot(allCost)\n"
   ]
  },
  {
   "cell_type": "code",
   "execution_count": 48,
   "metadata": {},
   "outputs": [
    {
     "data": {
      "text/plain": [
       "[<matplotlib.lines.Line2D at 0x7fbd385c3160>]"
      ]
     },
     "execution_count": 48,
     "metadata": {},
     "output_type": "execute_result"
    },
    {
     "data": {
      "image/png": "[encoded data removed]",
      "text/plain": [
       "<Figure size 432x288 with 1 Axes>"
      ]
     },
     "metadata": {
      "needs_background": "light"
     },
     "output_type": "display_data"
    }
   ],
   "source": [
    "plt.plot(allTotalCost,c='r')"
   ]
  },
  {
   "cell_type": "code",
   "execution_count": 51,
   "metadata": {},
   "outputs": [
    {
     "name": "stdout",
     "output_type": "stream",
     "text": [
      "[3, 1.5, 1] \n",
      " Predected result : 0.7750235447408527\n",
      "[2, 1, 0] \n",
      " Predected result : 0.01412932638831443\n",
      "[4, 1.5, 1] \n",
      " Predected result : 0.9967646346403894\n",
      "[3, 1, 0] \n",
      " Predected result : 0.5617340234086969\n",
      "[3.5, 0.5, 1] \n",
      " Predected result : 0.8185040347347298\n",
      "[2, 0.5, 0] \n",
      " Predected result : 0.005304042657203595\n",
      "[5.5, 1, 1] \n",
      " Predected result : 0.9999896848893605\n",
      "[1, 1, 0] \n",
      " Predected result : 0.0001602287536658188\n"
     ]
    }
   ],
   "source": [
    "#seeing model predection\n",
    "\n",
    "for i in range(len(trainedData)):\n",
    "        p = trainedData[i]\n",
    "        x = p[0]*w1 + p[1]*w2 + b\n",
    "        result = sigmoid(x)\n",
    "        print(p,'\\n',\"Predected result : {}\".format(result))\n"
   ]
  },
  {
   "cell_type": "code",
   "execution_count": 52,
   "metadata": {},
   "outputs": [
    {
     "name": "stdout",
     "output_type": "stream",
     "text": [
      "[4.5, 1, 1] \n",
      " Predected result : 0.9990783428892347\n"
     ]
    }
   ],
   "source": [
    "#eveluting with test data\n",
    "\n",
    "p = testData\n",
    "x = p[0]*w1 + p[1]*w2 + b\n",
    "result = sigmoid(x)\n",
    "print(p,'\\n',\"Predected result : {}\".format(result))"
   ]
  },
  {
   "cell_type": "code",
   "execution_count": 56,
   "metadata": {},
   "outputs": [],
   "source": [
    "def NN(m1,m2):\n",
    "    z = m1*w1+m2*w2+b\n",
    "    predectResut = sigmoid(z)\n",
    "    predectText = [\"blue\",\"red\"][int(np.round(predectResut))]\n",
    "    print (predectText)"
   ]
  },
  {
   "cell_type": "code",
   "execution_count": 58,
   "metadata": {},
   "outputs": [
    {
     "name": "stdout",
     "output_type": "stream",
     "text": [
      "blue\n"
     ]
    }
   ],
   "source": [
    "predectResut = NN(.5,1)\n"
   ]
  },
  {
   "cell_type": "code",
   "execution_count": null,
   "metadata": {},
   "outputs": [],
   "source": [
    "    "
   ]
  }
 ],
 "metadata": {
  "kernelspec": {
   "display_name": "Python 3",
   "language": "python",
   "name": "python3"
  },
  "language_info": {
   "codemirror_mode": {
    "name": "ipython",
    "version": 3
   },
   "file_extension": ".py",
   "mimetype": "text/x-python",
   "name": "python",
   "nbconvert_exporter": "python",
   "pygments_lexer": "ipython3",
   "version": "3.6.8"
  }
 },
 "nbformat": 4,
 "nbformat_minor": 2
}
