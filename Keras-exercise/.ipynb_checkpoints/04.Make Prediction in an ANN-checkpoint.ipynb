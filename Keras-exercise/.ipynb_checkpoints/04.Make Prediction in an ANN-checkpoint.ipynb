{
 "cells": [
  {
   "cell_type": "code",
   "execution_count": 1,
   "metadata": {},
   "outputs": [
    {
     "name": "stderr",
     "output_type": "stream",
     "text": [
      "Using TensorFlow backend.\n"
     ]
    }
   ],
   "source": [
    "import keras\n",
    "from keras import backend as k\n",
    "from keras.models import Sequential\n",
    "from keras.layers import Activation\n",
    "from keras.layers.core import Dense\n",
    "from keras.optimizers import Adam\n",
    "from keras.metrics import categorical_crossentropy\n",
    "import numpy as np\n",
    "from random import randint\n",
    "from sklearn.preprocessing import MinMaxScaler"
   ]
  },
  {
   "cell_type": "markdown",
   "metadata": {},
   "source": [
    "# Traning Data"
   ]
  },
  {
   "cell_type": "code",
   "execution_count": 2,
   "metadata": {},
   "outputs": [
    {
     "name": "stderr",
     "output_type": "stream",
     "text": [
      "/home/sakib/.local/lib/python3.6/site-packages/sklearn/utils/validation.py:595: DataConversionWarning: Data with input dtype int64 was converted to float64 by MinMaxScaler.\n",
      "  warnings.warn(msg, DataConversionWarning)\n"
     ]
    }
   ],
   "source": [
    "train_labels = []\n",
    "train_samples = []\n",
    "\n",
    "\n",
    "    \n",
    "for i in range(50):\n",
    "    random_younger = randint(13,64)\n",
    "    train_samples.append(random_younger)\n",
    "    train_labels.append(1)\n",
    "    \n",
    "    random_order = randint(65,100)\n",
    "    train_samples.append(random_order)\n",
    "    train_labels.append(0)\n",
    "    \n",
    "    \n",
    "for i in range(1000):\n",
    "    random_younger = randint(13,64)\n",
    "    train_samples.append(random_younger)\n",
    "    train_labels.append(0)\n",
    "    \n",
    "    random_order = randint(65,100)\n",
    "    train_samples.append(random_order)\n",
    "    train_labels.append(1)\n",
    "\n",
    "    \n",
    "train_labels = np.array(train_labels)\n",
    "train_samples = np.array(train_samples)\n",
    "\n",
    "scaler = MinMaxScaler(feature_range=(0,1))\n",
    "\n",
    "scaler_train_samples = scaler.fit_transform((train_samples).reshape(-1,1))"
   ]
  },
  {
   "cell_type": "code",
   "execution_count": 3,
   "metadata": {},
   "outputs": [
    {
     "data": {
      "text/plain": [
       "array([[0.55172414],\n",
       "       [0.74712644],\n",
       "       [0.47126437],\n",
       "       ...,\n",
       "       [0.71264368],\n",
       "       [0.56321839],\n",
       "       [0.87356322]])"
      ]
     },
     "execution_count": 3,
     "metadata": {},
     "output_type": "execute_result"
    }
   ],
   "source": [
    "scaler_train_samples"
   ]
  },
  {
   "cell_type": "markdown",
   "metadata": {},
   "source": [
    "# Test Data"
   ]
  },
  {
   "cell_type": "code",
   "execution_count": 4,
   "metadata": {},
   "outputs": [
    {
     "name": "stderr",
     "output_type": "stream",
     "text": [
      "/home/sakib/.local/lib/python3.6/site-packages/sklearn/utils/validation.py:595: DataConversionWarning: Data with input dtype int64 was converted to float64 by MinMaxScaler.\n",
      "  warnings.warn(msg, DataConversionWarning)\n"
     ]
    }
   ],
   "source": [
    "test_labels = []\n",
    "test_samples = []\n",
    "\n",
    "\n",
    "    \n",
    "for i in range(10):\n",
    "    random_younger = randint(13,64)\n",
    "    test_samples.append(random_younger)\n",
    "    test_labels.append(1)\n",
    "    \n",
    "    random_order = randint(65,100)\n",
    "    test_samples.append(random_order)\n",
    "    test_labels.append(0)\n",
    "    \n",
    "    \n",
    "for i in range(1000):\n",
    "    random_younger = randint(13,64)\n",
    "    test_samples.append(random_younger)\n",
    "    test_labels.append(0)\n",
    "    \n",
    "    random_order = randint(65,100)\n",
    "    test_samples.append(random_order)\n",
    "    test_labels.append(1)\n",
    "\n",
    "    \n",
    "test_labels = np.array(test_labels)\n",
    "test_samples = np.array(test_samples)\n",
    "\n",
    "scaler = MinMaxScaler(feature_range=(0,1))\n",
    "\n",
    "scaler_test_samples = scaler.fit_transform((test_samples).reshape(-1,1))"
   ]
  },
  {
   "cell_type": "code",
   "execution_count": 5,
   "metadata": {},
   "outputs": [
    {
     "data": {
      "text/plain": [
       "array([[0.52873563],\n",
       "       [0.83908046],\n",
       "       [0.13793103],\n",
       "       ...,\n",
       "       [0.83908046],\n",
       "       [0.35632184],\n",
       "       [0.59770115]])"
      ]
     },
     "execution_count": 5,
     "metadata": {},
     "output_type": "execute_result"
    }
   ],
   "source": [
    "scaler_test_samples"
   ]
  },
  {
   "cell_type": "markdown",
   "metadata": {},
   "source": [
    "# Model Build"
   ]
  },
  {
   "cell_type": "code",
   "execution_count": 6,
   "metadata": {},
   "outputs": [],
   "source": [
    "model = Sequential([\n",
    "    Dense(16,input_shape=(1,),activation=\"relu\"),\n",
    "    Dense(32,activation=\"relu\"),\n",
    "    Dense(2,activation=\"softmax\")\n",
    "    \n",
    "])"
   ]
  },
  {
   "cell_type": "code",
   "execution_count": 7,
   "metadata": {},
   "outputs": [
    {
     "name": "stdout",
     "output_type": "stream",
     "text": [
      "_________________________________________________________________\n",
      "Layer (type)                 Output Shape              Param #   \n",
      "=================================================================\n",
      "dense_1 (Dense)              (None, 16)                32        \n",
      "_________________________________________________________________\n",
      "dense_2 (Dense)              (None, 32)                544       \n",
      "_________________________________________________________________\n",
      "dense_3 (Dense)              (None, 2)                 66        \n",
      "=================================================================\n",
      "Total params: 642\n",
      "Trainable params: 642\n",
      "Non-trainable params: 0\n",
      "_________________________________________________________________\n"
     ]
    }
   ],
   "source": [
    "model.summary()"
   ]
  },
  {
   "cell_type": "code",
   "execution_count": 8,
   "metadata": {},
   "outputs": [],
   "source": [
    "model.compile(\n",
    "    Adam(lr=.0001),loss='sparse_categorical_crossentropy',metrics=['accuracy']\n",
    ")"
   ]
  },
  {
   "cell_type": "code",
   "execution_count": 9,
   "metadata": {},
   "outputs": [],
   "source": [
    "#valid_set = [(sample,lable),(sample,lable),-,(sample,lable)]"
   ]
  },
  {
   "cell_type": "code",
   "execution_count": 10,
   "metadata": {},
   "outputs": [
    {
     "name": "stdout",
     "output_type": "stream",
     "text": [
      "Train on 1890 samples, validate on 210 samples\n",
      "Epoch 1/20\n",
      " - 1s - loss: 0.6827 - acc: 0.5635 - val_loss: 0.6701 - val_acc: 0.5714\n",
      "Epoch 2/20\n",
      " - 0s - loss: 0.6616 - acc: 0.5910 - val_loss: 0.6452 - val_acc: 0.6667\n",
      "Epoch 3/20\n",
      " - 0s - loss: 0.6378 - acc: 0.6598 - val_loss: 0.6168 - val_acc: 0.7048\n",
      "Epoch 4/20\n",
      " - 0s - loss: 0.6129 - acc: 0.6931 - val_loss: 0.5881 - val_acc: 0.7190\n",
      "Epoch 5/20\n",
      " - 0s - loss: 0.5869 - acc: 0.7243 - val_loss: 0.5579 - val_acc: 0.7429\n",
      "Epoch 6/20\n",
      " - 0s - loss: 0.5606 - acc: 0.7550 - val_loss: 0.5284 - val_acc: 0.7905\n",
      "Epoch 7/20\n",
      " - 0s - loss: 0.5348 - acc: 0.7836 - val_loss: 0.4992 - val_acc: 0.8095\n",
      "Epoch 8/20\n",
      " - 0s - loss: 0.5099 - acc: 0.8032 - val_loss: 0.4711 - val_acc: 0.8190\n",
      "Epoch 9/20\n",
      " - 0s - loss: 0.4859 - acc: 0.8175 - val_loss: 0.4439 - val_acc: 0.8429\n",
      "Epoch 10/20\n",
      " - 0s - loss: 0.4633 - acc: 0.8349 - val_loss: 0.4176 - val_acc: 0.8571\n",
      "Epoch 11/20\n",
      " - 0s - loss: 0.4418 - acc: 0.8471 - val_loss: 0.3928 - val_acc: 0.8619\n",
      "Epoch 12/20\n",
      " - 0s - loss: 0.4218 - acc: 0.8577 - val_loss: 0.3692 - val_acc: 0.8714\n",
      "Epoch 13/20\n",
      " - 0s - loss: 0.4035 - acc: 0.8677 - val_loss: 0.3475 - val_acc: 0.8857\n",
      "Epoch 14/20\n",
      " - 0s - loss: 0.3871 - acc: 0.8794 - val_loss: 0.3275 - val_acc: 0.9095\n",
      "Epoch 15/20\n",
      " - 0s - loss: 0.3724 - acc: 0.8868 - val_loss: 0.3089 - val_acc: 0.9190\n",
      "Epoch 16/20\n",
      " - 0s - loss: 0.3591 - acc: 0.8915 - val_loss: 0.2921 - val_acc: 0.9190\n",
      "Epoch 17/20\n",
      " - 0s - loss: 0.3475 - acc: 0.8989 - val_loss: 0.2769 - val_acc: 0.9333\n",
      "Epoch 18/20\n",
      " - 0s - loss: 0.3370 - acc: 0.9074 - val_loss: 0.2629 - val_acc: 0.9333\n",
      "Epoch 19/20\n",
      " - 0s - loss: 0.3281 - acc: 0.9095 - val_loss: 0.2509 - val_acc: 0.9429\n",
      "Epoch 20/20\n",
      " - 0s - loss: 0.3203 - acc: 0.9132 - val_loss: 0.2397 - val_acc: 0.9524\n"
     ]
    },
    {
     "data": {
      "text/plain": [
       "<keras.callbacks.History at 0x7fc280050358>"
      ]
     },
     "execution_count": 10,
     "metadata": {},
     "output_type": "execute_result"
    }
   ],
   "source": [
    "model.fit(scaler_train_samples,train_labels,validation_split=0.1,batch_size=10,\n",
    "          epochs=20,shuffle=True,verbose=2)"
   ]
  },
  {
   "cell_type": "code",
   "execution_count": 11,
   "metadata": {},
   "outputs": [],
   "source": [
    "#model.fit(scaler_train_samples,train_labels,batch_size=10,epochs=20,shuffle=True,verbose=2)"
   ]
  },
  {
   "cell_type": "markdown",
   "metadata": {},
   "source": [
    "# Predict"
   ]
  },
  {
   "cell_type": "code",
   "execution_count": 12,
   "metadata": {},
   "outputs": [
    {
     "ename": "TypeError",
     "evalue": "predict() missing 1 required positional argument: 'x'",
     "output_type": "error",
     "traceback": [
      "\u001b[0;31m---------------------------------------------------------------------------\u001b[0m",
      "\u001b[0;31mTypeError\u001b[0m                                 Traceback (most recent call last)",
      "\u001b[0;32m<ipython-input-12-7b3dddfb0c30>\u001b[0m in \u001b[0;36m<module>\u001b[0;34m\u001b[0m\n\u001b[0;32m----> 1\u001b[0;31m \u001b[0mpredictions\u001b[0m \u001b[0;34m=\u001b[0m \u001b[0mmodel\u001b[0m\u001b[0;34m.\u001b[0m\u001b[0mpredict\u001b[0m\u001b[0;34m(\u001b[0m\u001b[0;34m)\u001b[0m\u001b[0;34m\u001b[0m\u001b[0;34m\u001b[0m\u001b[0m\n\u001b[0m",
      "\u001b[0;31mTypeError\u001b[0m: predict() missing 1 required positional argument: 'x'"
     ]
    }
   ],
   "source": [
    "predictions = model.predict(scaled_)"
   ]
  },
  {
   "cell_type": "code",
   "execution_count": null,
   "metadata": {},
   "outputs": [],
   "source": []
  }
 ],
 "metadata": {
  "kernelspec": {
   "display_name": "Python 3",
   "language": "python",
   "name": "python3"
  },
  "language_info": {
   "codemirror_mode": {
    "name": "ipython",
    "version": 3
   },
   "file_extension": ".py",
   "mimetype": "text/x-python",
   "name": "python",
   "nbconvert_exporter": "python",
   "pygments_lexer": "ipython3",
   "version": "3.6.8"
  }
 },
 "nbformat": 4,
 "nbformat_minor": 2
}
