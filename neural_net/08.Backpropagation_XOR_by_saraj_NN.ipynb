{
 "cells": [
  {
   "cell_type": "code",
   "execution_count": 1,
   "metadata": {},
   "outputs": [],
   "source": [
    "import numpy as np"
   ]
  },
  {
   "cell_type": "code",
   "execution_count": 15,
   "metadata": {},
   "outputs": [],
   "source": [
    "#xor combination\n",
    "\n",
    "x = np.array([\n",
    "    [0,0,1],\n",
    "    [0,1,1],\n",
    "    [1,0,1],\n",
    "    [1,1,1]\n",
    "])\n",
    "\n",
    "y = np.array([\n",
    "    [0],\n",
    "    [1],\n",
    "    [1],\n",
    "    [0]\n",
    "])\n",
    "\n",
    "np.random.seed(1)"
   ]
  },
  {
   "cell_type": "code",
   "execution_count": 26,
   "metadata": {},
   "outputs": [],
   "source": [
    "#random initialize weight with mean 0\n",
    "w0 = 2*np.random.random((3,4))-1\n",
    "w1 = 2*np.random.random((4,1))-1\n"
   ]
  },
  {
   "cell_type": "code",
   "execution_count": 27,
   "metadata": {},
   "outputs": [
    {
     "name": "stdout",
     "output_type": "stream",
     "text": [
      "[[-0.1653904   0.11737966 -0.71922612 -0.60379702]\n",
      " [ 0.60148914  0.93652315 -0.37315164  0.38464523]\n",
      " [ 0.7527783   0.78921333 -0.82991158 -0.92189043]]\n"
     ]
    }
   ],
   "source": [
    "print(w0)"
   ]
  },
  {
   "cell_type": "code",
   "execution_count": 28,
   "metadata": {},
   "outputs": [
    {
     "name": "stdout",
     "output_type": "stream",
     "text": [
      "[[-0.66033916]\n",
      " [ 0.75628501]\n",
      " [-0.80330633]\n",
      " [-0.15778475]]\n"
     ]
    }
   ],
   "source": [
    "print(w1)"
   ]
  },
  {
   "cell_type": "code",
   "execution_count": 29,
   "metadata": {},
   "outputs": [],
   "source": [
    "#sigmoid ctivtion function\n",
    "def nonlin(x,deriv=False):\n",
    "    if(deriv==True):\n",
    "        return x*(1-x)\n",
    "    \n",
    "    return 1/(1+np.exp(-x))"
   ]
  },
  {
   "cell_type": "code",
   "execution_count": 30,
   "metadata": {},
   "outputs": [
    {
     "name": "stdout",
     "output_type": "stream",
     "text": [
      "ERROR: 0.4981430639509009\n",
      "ERROR: 0.48131179303972504\n",
      "ERROR: 0.39984844949607157\n",
      "ERROR: 0.20839084695506066\n",
      "ERROR: 0.1198765495563402\n",
      "ERROR: 0.08761840473348703\n"
     ]
    }
   ],
   "source": [
    "#train the network\n",
    "for j in range(6000):\n",
    "        #feed forward\n",
    "        layer0 = x #input layer\n",
    "        layer1 = nonlin(np.dot(layer0,w0)) #weight and input matrix multiply. dot product\n",
    "        layer2 = nonlin(np.dot(layer1,w1))\n",
    "        \n",
    "        #calculate the error\n",
    "        layer2_error = y-layer2\n",
    "        if(j%1000)==0:\n",
    "            print(\"ERROR: \"+str(np.mean(np.abs(layer2_error))))\n",
    "        \n",
    "        #Back propagation of error using the chain rule \n",
    "        layer2_delta = layer2_error*nonlin(layer2,deriv=True)\n",
    "        layer1_error = layer2_delta.dot(w1.T)\n",
    "        layer1_delta = layer1_error*nonlin(layer1,deriv=True)\n",
    "        \n",
    "        #gradient descent error optimizer\n",
    "        w1 += layer1.T.dot(layer2_delta)*.1\n",
    "        w0 += layer0.T.dot(layer1_delta)*.1"
   ]
  },
  {
   "cell_type": "code",
   "execution_count": null,
   "metadata": {},
   "outputs": [],
   "source": []
  },
  {
   "cell_type": "code",
   "execution_count": null,
   "metadata": {},
   "outputs": [],
   "source": []
  }
 ],
 "metadata": {
  "kernelspec": {
   "display_name": "Python 3",
   "language": "python",
   "name": "python3"
  },
  "language_info": {
   "codemirror_mode": {
    "name": "ipython",
    "version": 3
   },
   "file_extension": ".py",
   "mimetype": "text/x-python",
   "name": "python",
   "nbconvert_exporter": "python",
   "pygments_lexer": "ipython3",
   "version": "3.6.8"
  }
 },
 "nbformat": 4,
 "nbformat_minor": 2
}
