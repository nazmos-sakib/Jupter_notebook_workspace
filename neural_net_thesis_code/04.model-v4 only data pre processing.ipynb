{
 "cells": [
  {
   "cell_type": "code",
   "execution_count": 1,
   "metadata": {},
   "outputs": [
    {
     "name": "stderr",
     "output_type": "stream",
     "text": [
      "Using TensorFlow backend.\n"
     ]
    }
   ],
   "source": [
    "#import all necessary liberty\n",
    "\n",
    "%matplotlib inline\n",
    "#import matplotlib.pyplot as plt\n",
    "from matplotlib import pyplot as plt\n",
    "import tensorflow as tf\n",
    "import numpy as np\n",
    "from sklearn.metrics import confusion_matrix\n",
    "\n",
    "import pandas as pd\n",
    "\n",
    "#missing value handle\n",
    "from sklearn.preprocessing import Imputer\n",
    "\n",
    "#To shuffle the data set\n",
    "from sklearn.utils import shuffle\n",
    "\n",
    "from keras.models import Sequential\n",
    "from keras.layers import Dense\n",
    "from keras.layers import Activation\n",
    "from keras.layers import Dropout\n",
    "from keras.optimizers import SGD\n",
    "from keras.optimizers import Adam\n",
    "#from sklearn.utils import shuffle\n",
    "import csv\n",
    "\n",
    "#spliting dataset into traning set and test set\n",
    "from sklearn.model_selection import train_test_split"
   ]
  },
  {
   "cell_type": "code",
   "execution_count": 2,
   "metadata": {},
   "outputs": [
    {
     "data": {
      "text/plain": [
       "(302, 14)"
      ]
     },
     "execution_count": 2,
     "metadata": {},
     "output_type": "execute_result"
    }
   ],
   "source": [
    "#import csv data_set\n",
    "\n",
    "data_frame = pd.read_csv('./cleavland_data_weka.csv')\n",
    "\n",
    "d=data_frame\n",
    "\n",
    "data_frame.shape"
   ]
  },
  {
   "cell_type": "code",
   "execution_count": 3,
   "metadata": {},
   "outputs": [
    {
     "name": "stdout",
     "output_type": "stream",
     "text": [
      "False\n"
     ]
    }
   ],
   "source": [
    "print (data_frame.isnull().values.any())"
   ]
  },
  {
   "cell_type": "code",
   "execution_count": 4,
   "metadata": {},
   "outputs": [
    {
     "name": "stdout",
     "output_type": "stream",
     "text": [
      "False\n"
     ]
    }
   ],
   "source": [
    "# check if any data is messing(is NULL)\n",
    "\n",
    "data_frame.isnull()\n",
    "\n",
    "print (data_frame.isnull().values.any())"
   ]
  },
  {
   "cell_type": "code",
   "execution_count": 5,
   "metadata": {},
   "outputs": [
    {
     "name": "stderr",
     "output_type": "stream",
     "text": [
      "/home/sakib/anaconda3/lib/python3.6/site-packages/ipykernel_launcher.py:5: SettingWithCopyWarning: \n",
      "A value is trying to be set on a copy of a slice from a DataFrame\n",
      "\n",
      "See the caveats in the documentation: http://pandas.pydata.org/pandas-docs/stable/indexing.html#indexing-view-versus-copy\n",
      "  \"\"\"\n"
     ]
    }
   ],
   "source": [
    "#Replace messing value with NONE\n",
    "for i in range(len(data_frame)):\n",
    "    for key in data_frame:\n",
    "        if data_frame[key][i] == '?' :\n",
    "            data_frame[key][i] = None"
   ]
  },
  {
   "cell_type": "code",
   "execution_count": 6,
   "metadata": {},
   "outputs": [],
   "source": [
    "#Mapping the \"output\" values\n",
    "map_output = {\"yes\" : 1, \"no\" : 0,None:-20}\n",
    "\n",
    "#\tSetting\tthe\tmap\tto\tthe\tdata_frame \n",
    "data_frame['output/class']\t=\tdata_frame['output/class'].map(map_output)\n",
    "\n",
    "#data_frame['output/class']"
   ]
  },
  {
   "cell_type": "code",
   "execution_count": 7,
   "metadata": {},
   "outputs": [],
   "source": [
    "#Mapping \"gender\" feature\n",
    "map_output = {\"male\" : 1, \"female\" : 2,None:-20}\n",
    "\n",
    "#\tSetting\tthe\tmap\tto\tthe\tdata_frame \n",
    "data_frame['sex']\t=\tdata_frame['sex'].map(map_output)\n",
    "\n",
    "#data_frame['sex']"
   ]
  },
  {
   "cell_type": "code",
   "execution_count": 8,
   "metadata": {},
   "outputs": [],
   "source": [
    "#Mapping \"CP\" feature\n",
    "map_output = {\"non-anginal pain\" : 1, \"atypical angina\" : 2,\"typical angina\" : 3,None:-20}\n",
    "\n",
    "#\tSetting\tthe\tmap\tto\tthe\tdata_frame \n",
    "data_frame['cp']\t=\tdata_frame['cp'].map(map_output)\n",
    "\n",
    "#data_frame['cp']"
   ]
  },
  {
   "cell_type": "code",
   "execution_count": 9,
   "metadata": {},
   "outputs": [],
   "source": [
    "#Mapping the \"fbs\" values\n",
    "map_output = {True : 1, False : 0,None:-20}\n",
    "\n",
    "#\tSetting\tthe\tmap\tto\tthe\tdata_frame \n",
    "data_frame['fbs']\t=\tdata_frame['fbs'].map(map_output)\n",
    "\n",
    "#data_frame['fbs']"
   ]
  },
  {
   "cell_type": "code",
   "execution_count": 10,
   "metadata": {},
   "outputs": [],
   "source": [
    "#Mapping the \"restecg\" values\n",
    "map_output = {\"hypertrophy\" : 1, \"normal\" : 2,\"ST-T wave\":3,None:-20}\n",
    "\n",
    "#\tSetting\tthe\tmap\tto\tthe\tdata_frame \n",
    "data_frame['restecg']\t=\tdata_frame['restecg'].map(map_output)\n",
    "\n",
    "#data_frame['restecg']"
   ]
  },
  {
   "cell_type": "code",
   "execution_count": 11,
   "metadata": {},
   "outputs": [],
   "source": [
    "#Mapping the \"exang\" values\n",
    "map_output = {\"yes\" : 1, \"no\" : 0,None:-20}\n",
    "\n",
    "#\tSetting\tthe\tmap\tto\tthe\tdata_frame \n",
    "data_frame['exang']\t=\tdata_frame['exang'].map(map_output)\n",
    "\n",
    "#data_frame['exang']"
   ]
  },
  {
   "cell_type": "code",
   "execution_count": 12,
   "metadata": {},
   "outputs": [],
   "source": [
    "#Mapping the \"slope\" values\n",
    "map_output = {\"flat \" : 1, \"downsloping \" : 2,\"upsloping \":3,None:-20}\n",
    "\n",
    "#\tSetting\tthe\tmap\tto\tthe\tdata_frame \n",
    "data_frame['slope']\t=\tdata_frame['slope'].map(map_output)\n",
    "\n",
    "#data_frame['slope']"
   ]
  },
  {
   "cell_type": "code",
   "execution_count": 13,
   "metadata": {},
   "outputs": [],
   "source": [
    "def asd(x):\n",
    "    if(x==None):\n",
    "        return -20\n",
    "    else:\n",
    "        return x\n",
    "    \n",
    "data_frame['ca']\t=\tdata_frame['ca'].apply(asd)"
   ]
  },
  {
   "cell_type": "code",
   "execution_count": 14,
   "metadata": {},
   "outputs": [],
   "source": [
    "#Mapping the \"thal\" values\n",
    "map_output = {\"normal\" : 1, \"reversable \" : 2,\"fixed\":3,None:-20}\n",
    "\n",
    "#\tSetting\tthe\tmap\tto\tthe\tdata_frame \n",
    "data_frame['thal']\t=\tdata_frame['thal'].map(map_output)\n",
    "\n",
    "#data_frame['thal']"
   ]
  },
  {
   "cell_type": "code",
   "execution_count": 15,
   "metadata": {},
   "outputs": [],
   "source": [
    "data_frame = shuffle(data_frame)"
   ]
  },
  {
   "cell_type": "code",
   "execution_count": 18,
   "metadata": {},
   "outputs": [
    {
     "data": {
      "text/plain": [
       "14"
      ]
     },
     "execution_count": 18,
     "metadata": {},
     "output_type": "execute_result"
    }
   ],
   "source": [
    "len(data_frame.loc[5])"
   ]
  },
  {
   "cell_type": "code",
   "execution_count": 16,
   "metadata": {},
   "outputs": [],
   "source": [
    "X = data_frame.values"
   ]
  },
  {
   "cell_type": "code",
   "execution_count": 23,
   "metadata": {},
   "outputs": [
    {
     "data": {
      "text/plain": [
       "14"
      ]
     },
     "execution_count": 23,
     "metadata": {},
     "output_type": "execute_result"
    }
   ],
   "source": [
    "len(X[5])"
   ]
  },
  {
   "cell_type": "code",
   "execution_count": null,
   "metadata": {},
   "outputs": [],
   "source": []
  },
  {
   "cell_type": "code",
   "execution_count": 24,
   "metadata": {},
   "outputs": [
    {
     "name": "stderr",
     "output_type": "stream",
     "text": [
      "/home/sakib/.local/lib/python3.6/site-packages/sklearn/utils/deprecation.py:58: DeprecationWarning: Class Imputer is deprecated; Imputer was deprecated in version 0.20 and will be removed in 0.22. Import impute.SimpleImputer from sklearn instead.\n",
      "  warnings.warn(msg, category=DeprecationWarning)\n"
     ]
    }
   ],
   "source": [
    "#Impute with mean all 0 readings(replacing messing value)\n",
    "\n",
    "fill_0 = Imputer(missing_values=-20, strategy=\"median\", axis=0)\n",
    "\n",
    "#fill_0 = Imputer(missing_values=0, strategy=\"mean\", axis=0)\n",
    "\n",
    "X = fill_0.fit_transform(X)"
   ]
  },
  {
   "cell_type": "code",
   "execution_count": 25,
   "metadata": {},
   "outputs": [
    {
     "data": {
      "text/plain": [
       "14"
      ]
     },
     "execution_count": 25,
     "metadata": {},
     "output_type": "execute_result"
    }
   ],
   "source": [
    "len(X[5])"
   ]
  },
  {
   "cell_type": "code",
   "execution_count": 45,
   "metadata": {},
   "outputs": [],
   "source": [
    "with open('data.tab', 'w') as datafile:    \n",
    "    writer = csv.writer(datafile, delimiter='\\t')\n",
    "    for index in range(len(X)):\n",
    "        writer.writerow(X[index])"
   ]
  },
  {
   "cell_type": "code",
   "execution_count": 46,
   "metadata": {},
   "outputs": [
    {
     "data": {
      "text/plain": [
       "301"
      ]
     },
     "execution_count": 46,
     "metadata": {},
     "output_type": "execute_result"
    }
   ],
   "source": [
    "dataframe = pd.read_csv('data.tab', sep='\\t')\n",
    "dataset = dataframe.values\n",
    "len(dataframe)"
   ]
  },
  {
   "cell_type": "code",
   "execution_count": null,
   "metadata": {},
   "outputs": [],
   "source": []
  }
 ],
 "metadata": {
  "kernelspec": {
   "display_name": "Python 3",
   "language": "python",
   "name": "python3"
  },
  "language_info": {
   "codemirror_mode": {
    "name": "ipython",
    "version": 3
   },
   "file_extension": ".py",
   "mimetype": "text/x-python",
   "name": "python",
   "nbconvert_exporter": "python",
   "pygments_lexer": "ipython3",
   "version": "3.6.8"
  }
 },
 "nbformat": 4,
 "nbformat_minor": 2
}
