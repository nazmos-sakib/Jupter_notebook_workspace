{
 "cells": [
  {
   "cell_type": "code",
   "execution_count": 1,
   "metadata": {},
   "outputs": [
    {
     "name": "stderr",
     "output_type": "stream",
     "text": [
      "Using TensorFlow backend.\n"
     ]
    }
   ],
   "source": [
    "#import all necessary liberty\n",
    "\n",
    "%matplotlib inline\n",
    "#import matplotlib.pyplot as plt\n",
    "from matplotlib import pyplot as plt\n",
    "import tensorflow as tf\n",
    "import numpy as np\n",
    "from sklearn.metrics import confusion_matrix\n",
    "\n",
    "import pandas as pd\n",
    "\n",
    "#missing value handle\n",
    "from sklearn.preprocessing import Imputer\n",
    "\n",
    "\n",
    "#from sklearn.preprocessing import Imputer\n",
    "#import impute.SimpleImputer from sklearn\n",
    "#import impute.SimpleImputer from sklearn\n",
    "\n",
    "#To shuffle the data set\n",
    "from sklearn.utils import shuffle\n",
    "\n",
    "from keras.models import Sequential\n",
    "from keras.layers import Dense\n",
    "from keras.layers import Activation\n",
    "from keras.layers import Dropout\n",
    "from keras.optimizers import SGD\n",
    "from keras.optimizers import Adam\n",
    "#from sklearn.utils import shuffle\n",
    "import csv\n",
    "\n",
    "#spliting dataset into traning set and test set\n",
    "from sklearn.model_selection import train_test_split\n",
    "import itertools\n",
    "import sys"
   ]
  },
  {
   "cell_type": "code",
   "execution_count": 2,
   "metadata": {},
   "outputs": [
    {
     "data": {
      "text/plain": [
       "(835, 15)"
      ]
     },
     "execution_count": 2,
     "metadata": {},
     "output_type": "execute_result"
    }
   ],
   "source": [
    "#import csv data_set\n",
    "\n",
    "#data_frame = pd.read_csv('./data-withoutapp.csv',na_values=['NA','?'])\n",
    "data_frame = pd.read_csv('./data-withoutapp.csv')\n",
    "d=data_frame\n",
    "\n",
    "data_frame.shape"
   ]
  },
  {
   "cell_type": "code",
   "execution_count": 3,
   "metadata": {},
   "outputs": [
    {
     "name": "stdout",
     "output_type": "stream",
     "text": [
      "True\n"
     ]
    }
   ],
   "source": [
    "print (data_frame.isnull().values.any())"
   ]
  },
  {
   "cell_type": "code",
   "execution_count": 4,
   "metadata": {},
   "outputs": [
    {
     "data": {
      "text/html": [
       "<div>\n",
       "<style scoped>\n",
       "    .dataframe tbody tr th:only-of-type {\n",
       "        vertical-align: middle;\n",
       "    }\n",
       "\n",
       "    .dataframe tbody tr th {\n",
       "        vertical-align: top;\n",
       "    }\n",
       "\n",
       "    .dataframe thead th {\n",
       "        text-align: right;\n",
       "    }\n",
       "</style>\n",
       "<table border=\"1\" class=\"dataframe\">\n",
       "  <thead>\n",
       "    <tr style=\"text-align: right;\">\n",
       "      <th></th>\n",
       "      <th>Age</th>\n",
       "      <th>Sex</th>\n",
       "      <th>Smoking</th>\n",
       "      <th>HTN</th>\n",
       "      <th>DLP</th>\n",
       "      <th>DM</th>\n",
       "      <th>Physical Exercise</th>\n",
       "      <th>Family History</th>\n",
       "      <th>Drug History</th>\n",
       "      <th>Psychological Stress</th>\n",
       "      <th>Chest Pain</th>\n",
       "      <th>Dyspnea</th>\n",
       "      <th>Palpitation</th>\n",
       "      <th>ECG</th>\n",
       "      <th>IHD-HeartAttack</th>\n",
       "    </tr>\n",
       "  </thead>\n",
       "  <tbody>\n",
       "    <tr>\n",
       "      <th>0</th>\n",
       "      <td>65</td>\n",
       "      <td>Male</td>\n",
       "      <td>no</td>\n",
       "      <td>yes</td>\n",
       "      <td>no</td>\n",
       "      <td>yes</td>\n",
       "      <td>no</td>\n",
       "      <td>no</td>\n",
       "      <td>yes</td>\n",
       "      <td>no</td>\n",
       "      <td>yes</td>\n",
       "      <td>no</td>\n",
       "      <td>no</td>\n",
       "      <td>abnormal</td>\n",
       "      <td>Yes</td>\n",
       "    </tr>\n",
       "    <tr>\n",
       "      <th>1</th>\n",
       "      <td>48</td>\n",
       "      <td>Male</td>\n",
       "      <td>no</td>\n",
       "      <td>yes</td>\n",
       "      <td>no</td>\n",
       "      <td>yes</td>\n",
       "      <td>no</td>\n",
       "      <td>no</td>\n",
       "      <td>yes</td>\n",
       "      <td>no</td>\n",
       "      <td>yes</td>\n",
       "      <td>no</td>\n",
       "      <td>no</td>\n",
       "      <td>abnormal</td>\n",
       "      <td>No</td>\n",
       "    </tr>\n",
       "    <tr>\n",
       "      <th>2</th>\n",
       "      <td>80</td>\n",
       "      <td>Male</td>\n",
       "      <td>ex</td>\n",
       "      <td>yes</td>\n",
       "      <td>no</td>\n",
       "      <td>yes</td>\n",
       "      <td>yes</td>\n",
       "      <td>no</td>\n",
       "      <td>yes</td>\n",
       "      <td>no</td>\n",
       "      <td>no</td>\n",
       "      <td>no</td>\n",
       "      <td>no</td>\n",
       "      <td>abnormal</td>\n",
       "      <td>Yes</td>\n",
       "    </tr>\n",
       "  </tbody>\n",
       "</table>\n",
       "</div>"
      ],
      "text/plain": [
       "  Age   Sex Smoking  HTN DLP   DM Physical Exercise Family History  \\\n",
       "0  65  Male      no  yes  no  yes                no             no   \n",
       "1  48  Male      no  yes  no  yes                no             no   \n",
       "2  80  Male      ex  yes  no  yes               yes             no   \n",
       "\n",
       "  Drug History Psychological Stress Chest Pain Dyspnea Palpitation       ECG  \\\n",
       "0          yes                   no        yes      no          no  abnormal   \n",
       "1          yes                   no        yes      no          no  abnormal   \n",
       "2          yes                   no         no      no          no  abnormal   \n",
       "\n",
       "  IHD-HeartAttack  \n",
       "0             Yes  \n",
       "1              No  \n",
       "2             Yes  "
      ]
     },
     "execution_count": 4,
     "metadata": {},
     "output_type": "execute_result"
    }
   ],
   "source": [
    "data_frame.head(3)"
   ]
  },
  {
   "cell_type": "code",
   "execution_count": 5,
   "metadata": {},
   "outputs": [
    {
     "name": "stdout",
     "output_type": "stream",
     "text": [
      "True\n"
     ]
    }
   ],
   "source": [
    "# check if any data is messing(is NULL)\n",
    "\n",
    "data_frame.isnull()\n",
    "\n",
    "print (data_frame.isnull().values.any())"
   ]
  },
  {
   "cell_type": "code",
   "execution_count": null,
   "metadata": {},
   "outputs": [],
   "source": []
  },
  {
   "cell_type": "code",
   "execution_count": 6,
   "metadata": {},
   "outputs": [],
   "source": [
    "#feature \"Age\" strin to innteger\n",
    "for i in range(len(data_frame['Age'])):\n",
    "    #data_frame['Age'][i] = int(data_frame['Age'][i])\n",
    "    if(type(data_frame['Age'][i])==float or data_frame['Age'][i]==\"?\"):\n",
    "        data_frame['Age'][i] = '-20'\n",
    "        \n",
    "for i in range(len(data_frame['Age'])):\n",
    "    data_frame['Age'][i] = int(data_frame['Age'][i])\n",
    "    \n",
    "    "
   ]
  },
  {
   "cell_type": "code",
   "execution_count": null,
   "metadata": {},
   "outputs": [],
   "source": []
  },
  {
   "cell_type": "code",
   "execution_count": 8,
   "metadata": {},
   "outputs": [],
   "source": [
    "#Replace messing value with NONE\n",
    "for i in range(len(data_frame)):\n",
    "    for key in data_frame:\n",
    "        if data_frame[key][i] == '?' :\n",
    "            data_frame[key][i] = None"
   ]
  },
  {
   "cell_type": "code",
   "execution_count": 9,
   "metadata": {},
   "outputs": [
    {
     "name": "stdout",
     "output_type": "stream",
     "text": [
      "Age\n",
      "Sex\n",
      "Smoking\n",
      "HTN\n",
      "DLP\n",
      "DM\n",
      "Physical Exercise\n",
      "Family History\n",
      "Drug History\n",
      "Psychological Stress\n",
      "Chest Pain\n",
      "Dyspnea\n",
      "Palpitation\n",
      "ECG\n",
      "IHD-HeartAttack\n"
     ]
    }
   ],
   "source": [
    "for i in data_frame.keys():\n",
    "    print(i)"
   ]
  },
  {
   "cell_type": "code",
   "execution_count": 10,
   "metadata": {},
   "outputs": [],
   "source": [
    "#15\n",
    "#Mapping the \"output\" values\n",
    "map_output = {\"Yes\" : 1, \"No\" : 0, None:-20}\n",
    "\n",
    "#\tSetting\tthe\tmap\tto\tthe\tdata_frame \n",
    "data_frame['IHD-HeartAttack']\t=\tdata_frame['IHD-HeartAttack'].map(map_output)\n",
    "\n",
    "#data_frame['IHD-HeartAttack']"
   ]
  },
  {
   "cell_type": "code",
   "execution_count": 14,
   "metadata": {},
   "outputs": [],
   "source": [
    "#2\n",
    "#Mapping \"gender\" feature\n",
    "map_output = {\"Male\" : 1, \"Female\" : 2,None:-20}\n",
    "\n",
    "#\tSetting\tthe\tmap\tto\tthe\tdata_frame \n",
    "data_frame['Sex']\t=\tdata_frame['Sex'].map(map_output)\n",
    "\n",
    "#data_frame['Sex']"
   ]
  },
  {
   "cell_type": "code",
   "execution_count": 15,
   "metadata": {},
   "outputs": [],
   "source": [
    "#3\n",
    "#Mapping \"Smoking\" feature\n",
    "map_output = {\"yes\" : 1, \"no\" : 0, \"ex\" : 2, None:-20}\n",
    "\n",
    "#\tSetting\tthe\tmap\tto\tthe\tdata_frame \n",
    "data_frame['Smoking']\t=\tdata_frame['Smoking'].map(map_output)\n",
    "\n",
    "#data_frame['Smoking']"
   ]
  },
  {
   "cell_type": "code",
   "execution_count": 16,
   "metadata": {},
   "outputs": [],
   "source": [
    "#4\n",
    "#Mapping \"HTN\" feature\n",
    "map_output = {\"yes\" : 1, \"no\" : 0, None:-20}\n",
    "\n",
    "#\tSetting\tthe\tmap\tto\tthe\tdata_frame \n",
    "data_frame['HTN']\t=\tdata_frame['HTN'].map(map_output)\n",
    "\n",
    "#data_frame['HTN']"
   ]
  },
  {
   "cell_type": "code",
   "execution_count": 17,
   "metadata": {},
   "outputs": [],
   "source": [
    "#5\n",
    "#Mapping \"Smoking\" feature\n",
    "map_output = {\"yes\" : 1, \"no\" : 0, None:-20}\n",
    "\n",
    "#\tSetting\tthe\tmap\tto\tthe\tdata_frame \n",
    "data_frame['DLP']\t=\tdata_frame['DLP'].map(map_output)\n",
    "\n",
    "#data_frame['DLP']"
   ]
  },
  {
   "cell_type": "code",
   "execution_count": 18,
   "metadata": {},
   "outputs": [],
   "source": [
    "#6\n",
    "#Mapping \"DM\" feature\n",
    "map_output = {\"yes\" : 1, \"no\" : 0, None:-20}\n",
    "\n",
    "#\tSetting\tthe\tmap\tto\tthe\tdata_frame \n",
    "data_frame['DM']\t=\tdata_frame['DM'].map(map_output)\n",
    "\n",
    "#data_frame['DM']"
   ]
  },
  {
   "cell_type": "code",
   "execution_count": 19,
   "metadata": {},
   "outputs": [],
   "source": [
    "#7\n",
    "#Mapping \"Physical Exercise\" feature\n",
    "map_output = {\"yes\" : 1, \"no\" : 0, None:-20}\n",
    "\n",
    "#\tSetting\tthe\tmap\tto\tthe\tdata_frame \n",
    "data_frame['Physical Exercise']\t=\tdata_frame['Physical Exercise'].map(map_output)\n",
    "\n",
    "#data_frame['Physical Exercise']"
   ]
  },
  {
   "cell_type": "code",
   "execution_count": 20,
   "metadata": {},
   "outputs": [],
   "source": [
    "#8\n",
    "#Mapping \"Family History\" feature\n",
    "map_output = {\"yes\" : 1, \"no\" : 0, None:-20}\n",
    "\n",
    "#\tSetting\tthe\tmap\tto\tthe\tdata_frame \n",
    "data_frame['Family History']\t=\tdata_frame['Family History'].map(map_output)\n",
    "\n",
    "#data_frame['Family History']"
   ]
  },
  {
   "cell_type": "code",
   "execution_count": 21,
   "metadata": {},
   "outputs": [],
   "source": [
    "#9\n",
    "#Mapping \"Drug History\" feature\n",
    "map_output = {\"yes\" : 1, \"no\" : 0, None:-20}\n",
    "\n",
    "#\tSetting\tthe\tmap\tto\tthe\tdata_frame \n",
    "data_frame['Drug History']\t=\tdata_frame['Drug History'].map(map_output)\n",
    "\n",
    "#data_frame['Drug History']"
   ]
  },
  {
   "cell_type": "code",
   "execution_count": 22,
   "metadata": {},
   "outputs": [],
   "source": [
    "#10\n",
    "#Mapping \"Psychological Stress\" feature\n",
    "map_output = {\"yes\" : 1, \"no\" : 0, None:-20}\n",
    "\n",
    "#\tSetting\tthe\tmap\tto\tthe\tdata_frame \n",
    "data_frame['Psychological Stress']\t=\tdata_frame['Psychological Stress'].map(map_output)\n",
    "\n",
    "#data_frame['Psychological Stress']"
   ]
  },
  {
   "cell_type": "code",
   "execution_count": 23,
   "metadata": {},
   "outputs": [],
   "source": [
    "#11\n",
    "#Mapping \"Chest Pain\" feature\n",
    "map_output = {\"yes\" : 1, \"no\" : 0, None:-20}\n",
    "\n",
    "#\tSetting\tthe\tmap\tto\tthe\tdata_frame \n",
    "data_frame['Chest Pain']\t=\tdata_frame['Chest Pain'].map(map_output)\n",
    "\n",
    "#data_frame['Psychological Stress']"
   ]
  },
  {
   "cell_type": "code",
   "execution_count": 24,
   "metadata": {},
   "outputs": [],
   "source": [
    "#12\n",
    "#Mapping \"Dyspnea\" feature\n",
    "map_output = {\"yes\" : 1, \"no\" : 0, None:-20}\n",
    "\n",
    "#\tSetting\tthe\tmap\tto\tthe\tdata_frame \n",
    "data_frame['Dyspnea']\t=\tdata_frame['Dyspnea'].map(map_output)\n",
    "\n",
    "#data_frame['Dyspnea']"
   ]
  },
  {
   "cell_type": "code",
   "execution_count": 25,
   "metadata": {},
   "outputs": [],
   "source": [
    "#13\n",
    "#Mapping \"Palpitation\" feature\n",
    "map_output = {\"yes\" : 1, \"no\" : 0, None:-20}\n",
    "\n",
    "#\tSetting\tthe\tmap\tto\tthe\tdata_frame \n",
    "data_frame['Palpitation']\t=\tdata_frame['Palpitation'].map(map_output)\n",
    "\n",
    "#data_frame['Palpitation']"
   ]
  },
  {
   "cell_type": "code",
   "execution_count": 26,
   "metadata": {},
   "outputs": [],
   "source": [
    "#14\n",
    "#Mapping \"ECG\" feature\n",
    "map_output = {\"abnormal\" : 1, \"normal\" : 0, None:-20}\n",
    "\n",
    "#\tSetting\tthe\tmap\tto\tthe\tdata_frame \n",
    "data_frame['ECG']\t=\tdata_frame['ECG'].map(map_output)\n",
    "\n",
    "#data_frame['ECG']"
   ]
  },
  {
   "cell_type": "code",
   "execution_count": 27,
   "metadata": {},
   "outputs": [],
   "source": [
    "data_frame = shuffle(data_frame)"
   ]
  },
  {
   "cell_type": "code",
   "execution_count": 28,
   "metadata": {},
   "outputs": [
    {
     "data": {
      "text/html": [
       "<div>\n",
       "<style scoped>\n",
       "    .dataframe tbody tr th:only-of-type {\n",
       "        vertical-align: middle;\n",
       "    }\n",
       "\n",
       "    .dataframe tbody tr th {\n",
       "        vertical-align: top;\n",
       "    }\n",
       "\n",
       "    .dataframe thead th {\n",
       "        text-align: right;\n",
       "    }\n",
       "</style>\n",
       "<table border=\"1\" class=\"dataframe\">\n",
       "  <thead>\n",
       "    <tr style=\"text-align: right;\">\n",
       "      <th></th>\n",
       "      <th>Age</th>\n",
       "      <th>Sex</th>\n",
       "      <th>Smoking</th>\n",
       "      <th>HTN</th>\n",
       "      <th>DLP</th>\n",
       "      <th>DM</th>\n",
       "      <th>Physical Exercise</th>\n",
       "      <th>Family History</th>\n",
       "      <th>Drug History</th>\n",
       "      <th>Psychological Stress</th>\n",
       "      <th>Chest Pain</th>\n",
       "      <th>Dyspnea</th>\n",
       "      <th>Palpitation</th>\n",
       "      <th>ECG</th>\n",
       "      <th>IHD-HeartAttack</th>\n",
       "    </tr>\n",
       "  </thead>\n",
       "  <tbody>\n",
       "    <tr>\n",
       "      <th>776</th>\n",
       "      <td>50</td>\n",
       "      <td>1</td>\n",
       "      <td>0</td>\n",
       "      <td>0</td>\n",
       "      <td>0</td>\n",
       "      <td>1</td>\n",
       "      <td>0</td>\n",
       "      <td>1</td>\n",
       "      <td>0</td>\n",
       "      <td>0</td>\n",
       "      <td>1</td>\n",
       "      <td>0</td>\n",
       "      <td>0</td>\n",
       "      <td>0</td>\n",
       "      <td>0</td>\n",
       "    </tr>\n",
       "    <tr>\n",
       "      <th>284</th>\n",
       "      <td>55</td>\n",
       "      <td>1</td>\n",
       "      <td>1</td>\n",
       "      <td>0</td>\n",
       "      <td>0</td>\n",
       "      <td>1</td>\n",
       "      <td>0</td>\n",
       "      <td>0</td>\n",
       "      <td>1</td>\n",
       "      <td>1</td>\n",
       "      <td>1</td>\n",
       "      <td>0</td>\n",
       "      <td>0</td>\n",
       "      <td>1</td>\n",
       "      <td>1</td>\n",
       "    </tr>\n",
       "  </tbody>\n",
       "</table>\n",
       "</div>"
      ],
      "text/plain": [
       "    Age  Sex  Smoking  HTN  DLP  DM  Physical Exercise  Family History  \\\n",
       "776  50    1        0    0    0   1                  0               1   \n",
       "284  55    1        1    0    0   1                  0               0   \n",
       "\n",
       "     Drug History  Psychological Stress  Chest Pain  Dyspnea  Palpitation  \\\n",
       "776             0                     0           1        0            0   \n",
       "284             1                     1           1        0            0   \n",
       "\n",
       "     ECG  IHD-HeartAttack  \n",
       "776    0                0  \n",
       "284    1                1  "
      ]
     },
     "execution_count": 28,
     "metadata": {},
     "output_type": "execute_result"
    }
   ],
   "source": [
    "data_frame.head(2)"
   ]
  },
  {
   "cell_type": "code",
   "execution_count": 29,
   "metadata": {},
   "outputs": [
    {
     "data": {
      "text/plain": [
       "15"
      ]
     },
     "execution_count": 29,
     "metadata": {},
     "output_type": "execute_result"
    }
   ],
   "source": [
    "len(data_frame.loc[652])"
   ]
  },
  {
   "cell_type": "code",
   "execution_count": 30,
   "metadata": {},
   "outputs": [],
   "source": [
    "X = data_frame.values"
   ]
  },
  {
   "cell_type": "code",
   "execution_count": 31,
   "metadata": {},
   "outputs": [
    {
     "data": {
      "text/plain": [
       "15"
      ]
     },
     "execution_count": 31,
     "metadata": {},
     "output_type": "execute_result"
    }
   ],
   "source": [
    "len(X[0])"
   ]
  },
  {
   "cell_type": "code",
   "execution_count": 32,
   "metadata": {},
   "outputs": [
    {
     "data": {
      "text/plain": [
       "array([50, 1, 0, 0, 0, 1, 0, 1, 0, 0, 1, 0, 0, 0, 0], dtype=object)"
      ]
     },
     "execution_count": 32,
     "metadata": {},
     "output_type": "execute_result"
    }
   ],
   "source": [
    "X[0]"
   ]
  },
  {
   "cell_type": "code",
   "execution_count": 33,
   "metadata": {},
   "outputs": [
    {
     "data": {
      "text/plain": [
       "50"
      ]
     },
     "execution_count": 33,
     "metadata": {},
     "output_type": "execute_result"
    }
   ],
   "source": [
    "X[0][0]"
   ]
  },
  {
   "cell_type": "code",
   "execution_count": null,
   "metadata": {},
   "outputs": [],
   "source": []
  },
  {
   "cell_type": "code",
   "execution_count": 36,
   "metadata": {},
   "outputs": [
    {
     "name": "stderr",
     "output_type": "stream",
     "text": [
      "/home/sakib/.local/lib/python3.6/site-packages/sklearn/utils/deprecation.py:58: DeprecationWarning: Class Imputer is deprecated; Imputer was deprecated in version 0.20 and will be removed in 0.22. Import impute.SimpleImputer from sklearn instead.\n",
      "  warnings.warn(msg, category=DeprecationWarning)\n"
     ]
    }
   ],
   "source": [
    "#Impute with mean all 0 readings(replacing messing value)\n",
    "\n",
    "fill_0 = Imputer(missing_values=-20, strategy=\"median\", axis=0)\n",
    "\n",
    "#fill_0 = Imputer(missing_values=0, strategy=\"mean\", axis=0)\n",
    "\n",
    "X = fill_0.fit_transform(X)"
   ]
  },
  {
   "cell_type": "code",
   "execution_count": 37,
   "metadata": {},
   "outputs": [
    {
     "data": {
      "text/plain": [
       "15"
      ]
     },
     "execution_count": 37,
     "metadata": {},
     "output_type": "execute_result"
    }
   ],
   "source": [
    "len(X[0])"
   ]
  },
  {
   "cell_type": "code",
   "execution_count": 38,
   "metadata": {},
   "outputs": [
    {
     "data": {
      "text/plain": [
       "array([50.,  1.,  0.,  0.,  0.,  1.,  0.,  1.,  0.,  0.,  1.,  0.,  0.,\n",
       "        0.,  0.])"
      ]
     },
     "execution_count": 38,
     "metadata": {},
     "output_type": "execute_result"
    }
   ],
   "source": [
    "X[0]"
   ]
  },
  {
   "cell_type": "code",
   "execution_count": 39,
   "metadata": {},
   "outputs": [],
   "source": [
    "with open('data.tab', 'w') as datafile:    \n",
    "    writer = csv.writer(datafile, delimiter='\\t')\n",
    "    for index in range(len(X)):\n",
    "        writer.writerow(X[index])"
   ]
  },
  {
   "cell_type": "code",
   "execution_count": null,
   "metadata": {},
   "outputs": [],
   "source": []
  },
  {
   "cell_type": "code",
   "execution_count": 27,
   "metadata": {},
   "outputs": [
    {
     "data": {
      "text/plain": [
       "834"
      ]
     },
     "execution_count": 27,
     "metadata": {},
     "output_type": "execute_result"
    }
   ],
   "source": [
    "dataframe = pd.read_csv('data.tab', sep='\\t')\n",
    "dataset = dataframe.values\n",
    "len(dataframe)"
   ]
  },
  {
   "cell_type": "code",
   "execution_count": null,
   "metadata": {},
   "outputs": [],
   "source": []
  }
 ],
 "metadata": {
  "kernelspec": {
   "display_name": "Python 3",
   "language": "python",
   "name": "python3"
  },
  "language_info": {
   "codemirror_mode": {
    "name": "ipython",
    "version": 3
   },
   "file_extension": ".py",
   "mimetype": "text/x-python",
   "name": "python",
   "nbconvert_exporter": "python",
   "pygments_lexer": "ipython3",
   "version": "3.6.8"
  }
 },
 "nbformat": 4,
 "nbformat_minor": 2
}
