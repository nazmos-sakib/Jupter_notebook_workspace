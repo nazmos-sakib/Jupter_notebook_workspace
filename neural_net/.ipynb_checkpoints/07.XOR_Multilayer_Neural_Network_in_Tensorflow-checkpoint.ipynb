{
 "cells": [
  {
   "cell_type": "code",
   "execution_count": 1,
   "metadata": {},
   "outputs": [],
   "source": [
    "import tensorflow as tf\n",
    "import numpy as np"
   ]
  },
  {
   "cell_type": "code",
   "execution_count": 2,
   "metadata": {},
   "outputs": [],
   "source": [
    "#xor combination\n",
    "\n",
    "x_data = np.array([\n",
    "    [0,0],\n",
    "    [0,1],\n",
    "    [1,0],\n",
    "    [1,1]\n",
    "])\n",
    "\n",
    "y_data = np.array([\n",
    "    [0],\n",
    "    [1],\n",
    "    [1],\n",
    "    [0]\n",
    "])"
   ]
  },
  {
   "cell_type": "code",
   "execution_count": 4,
   "metadata": {},
   "outputs": [],
   "source": [
    "#hyparameter\n",
    "\n",
    "n_input = 2\n",
    "n_hiddenL = 10\n",
    "n_output = 1\n",
    "\n",
    "x = tf.placeholder(tf.float32)\n",
    "y = tf.placeholder(tf.float32)\n",
    "\n",
    "w1 = tf.Variable(tf.random_uniform([n_input,n_hiddenL],-1.0,1.0 ))\n",
    "w2 = tf.Variable(tf.random_uniform([n_hiddenL,n_output],-1.0,1.0 ))\n",
    "\n",
    "b1 = tf.Variable(tf.zeros([n_hiddenL]),name = \"Bias1\")\n",
    "b2 = tf.Variable(tf.zeros([n_hiddenL]),name = \"Bias2\")\n",
    "\n"
   ]
  },
  {
   "cell_type": "code",
   "execution_count": 8,
   "metadata": {},
   "outputs": [
    {
     "name": "stdout",
     "output_type": "stream",
     "text": [
      "Tensor(\"zeros_2:0\", shape=(10,), dtype=float32)\n"
     ]
    }
   ],
   "source": [
    "print(tf.zeros([n_hiddenL]))\n"
   ]
  },
  {
   "cell_type": "code",
   "execution_count": 9,
   "metadata": {},
   "outputs": [],
   "source": [
    "#layer\n",
    "l2 = tf.sigmoid(tf.matmul(x,w1)+b1)\n",
    "\n",
    "#hypothesis\n",
    "hy = tf.sigmoid(tf.matmul(l2,w2)+b2)"
   ]
  },
  {
   "cell_type": "code",
   "execution_count": 24,
   "metadata": {},
   "outputs": [],
   "source": [
    "learning_rate = .1\n",
    "\n",
    "cost = tf.reduce_mean(-y*tf.log(hy) - (1-y)*tf.log(1-hy))\n",
    "\n",
    "optimizer = tf.train.GradientDescentOptimizer(learning_rate).minimize(cost)\n"
   ]
  },
  {
   "cell_type": "code",
   "execution_count": 25,
   "metadata": {},
   "outputs": [],
   "source": [
    "init = tf.initialize_all_variables()"
   ]
  },
  {
   "cell_type": "code",
   "execution_count": 28,
   "metadata": {},
   "outputs": [
    {
     "name": "stdout",
     "output_type": "stream",
     "text": [
      "0.7532991\n",
      "0.6626444\n",
      "0.45927382\n",
      "0.1445168\n",
      "0.056952916\n",
      "0.031867154\n",
      "0.021280766\n",
      "0.015677188\n",
      "0.0122769745\n",
      "0.010020047\n",
      "[array([[0.00453654, 0.00453654, 0.00453654, 0.00453654, 0.00453654,\n",
      "        0.00453654, 0.00453654, 0.00453654, 0.00453654, 0.00453654],\n",
      "       [0.9923309 , 0.9923309 , 0.9923309 , 0.9923309 , 0.9923309 ,\n",
      "        0.9923309 , 0.9923309 , 0.9923309 , 0.9923309 , 0.9923309 ],\n",
      "       [0.99105513, 0.99105513, 0.99105513, 0.99105513, 0.99105513,\n",
      "        0.99105513, 0.99105513, 0.99105513, 0.99105513, 0.99105513],\n",
      "       [0.01239523, 0.01239523, 0.01239523, 0.01239523, 0.01239523,\n",
      "        0.01239523, 0.01239523, 0.01239523, 0.01239523, 0.01239523]],\n",
      "      dtype=float32)]\n",
      "accuracy:  100.0 %\n"
     ]
    }
   ],
   "source": [
    "epochs = 10000\n",
    "with tf.Session() as session:\n",
    "    session.run(init)\n",
    "    \n",
    "    for step in range(epochs):\n",
    "        session.run(optimizer,feed_dict={x:x_data,y:y_data})\n",
    "        if step%1000 == 0:\n",
    "            print( session.run(cost,feed_dict={x:x_data,y:y_data}))\n",
    "    answer = tf.equal(tf.floor(hy+.05),y)\n",
    "    \n",
    "    accuracy = tf.reduce_mean(tf.cast(answer,\"float\"))\n",
    "    \n",
    "    print( session.run([hy],feed_dict={x:x_data,y:y_data}))\n",
    "    print(\"accuracy: \",accuracy.eval({x:x_data,y:y_data})*100,\"%\")"
   ]
  },
  {
   "cell_type": "code",
   "execution_count": 29,
   "metadata": {},
   "outputs": [
    {
     "data": {
      "text/plain": [
       "<tf.Tensor 'Mean_4:0' shape=() dtype=float32>"
      ]
     },
     "execution_count": 29,
     "metadata": {},
     "output_type": "execute_result"
    }
   ],
   "source": [
    "cost\n"
   ]
  },
  {
   "cell_type": "code",
   "execution_count": null,
   "metadata": {},
   "outputs": [],
   "source": []
  }
 ],
 "metadata": {
  "kernelspec": {
   "display_name": "Python 3",
   "language": "python",
   "name": "python3"
  },
  "language_info": {
   "codemirror_mode": {
    "name": "ipython",
    "version": 3
   },
   "file_extension": ".py",
   "mimetype": "text/x-python",
   "name": "python",
   "nbconvert_exporter": "python",
   "pygments_lexer": "ipython3",
   "version": "3.6.8"
  }
 },
 "nbformat": 4,
 "nbformat_minor": 2
}
